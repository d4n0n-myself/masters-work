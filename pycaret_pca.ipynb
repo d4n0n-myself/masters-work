{
 "cells": [
  {
   "cell_type": "code",
   "execution_count": 26,
   "id": "initial_id",
   "metadata": {
    "collapsed": true,
    "ExecuteTime": {
     "end_time": "2024-02-09T13:34:21.519081Z",
     "start_time": "2024-02-09T13:34:21.511834Z"
    }
   },
   "outputs": [
    {
     "name": "stdout",
     "output_type": "stream",
     "text": [
      "[[5.1 3.5 1.4 0.2]\n",
      " [4.9 3.  1.4 0.2]\n",
      " [4.7 3.2 1.3 0.2]\n",
      " [4.6 3.1 1.5 0.2]\n",
      " [5.  3.6 1.4 0.2]\n",
      " [5.4 3.9 1.7 0.4]\n",
      " [4.6 3.4 1.4 0.3]\n",
      " [5.  3.4 1.5 0.2]\n",
      " [4.4 2.9 1.4 0.2]\n",
      " [4.9 3.1 1.5 0.1]]\n"
     ]
    }
   ],
   "source": [
    "import numpy as np\n",
    "import pandas as pd\n",
    "from sklearn.datasets import load_iris\n",
    "from sklearn.decomposition import PCA\n",
    "from pycaret.classification import *\n",
    "\n",
    "# Загрузка датасета Iris\n",
    "iris = load_iris()\n",
    "X = iris.data\n",
    "y = iris.target\n",
    "\n",
    "print(X[:10])"
   ]
  },
  {
   "cell_type": "code",
   "outputs": [
    {
     "name": "stdout",
     "output_type": "stream",
     "text": [
      "[[-2.68412563  0.31939725]\n",
      " [-2.71414169 -0.17700123]\n",
      " [-2.88899057 -0.14494943]\n",
      " [-2.74534286 -0.31829898]\n",
      " [-2.72871654  0.32675451]\n",
      " [-2.28085963  0.74133045]\n",
      " [-2.82053775 -0.08946138]\n",
      " [-2.62614497  0.16338496]\n",
      " [-2.88638273 -0.57831175]\n",
      " [-2.6727558  -0.11377425]]\n"
     ]
    }
   ],
   "source": [
    "# Применение PCA\n",
    "pca = PCA(n_components=2)\n",
    "X_pca = pca.fit_transform(X)\n",
    "print(X_pca[:10])"
   ],
   "metadata": {
    "collapsed": false,
    "ExecuteTime": {
     "end_time": "2024-02-09T13:34:21.538725Z",
     "start_time": "2024-02-09T13:34:21.522011Z"
    }
   },
   "id": "ba6ae26864099399",
   "execution_count": 27
  },
  {
   "cell_type": "code",
   "outputs": [],
   "source": [
    "# Создание нового датасета с использованием новых признаков\n",
    "new_data = np.concatenate((X_pca, y.reshape(-1, 1)), axis=1)\n",
    "new_data = pd.DataFrame(new_data, columns=['feature1', 'feature2', 'target'])"
   ],
   "metadata": {
    "collapsed": false,
    "ExecuteTime": {
     "end_time": "2024-02-09T13:34:21.539021Z",
     "start_time": "2024-02-09T13:34:21.528467Z"
    }
   },
   "id": "26fa8500215f067a",
   "execution_count": 28
  },
  {
   "cell_type": "code",
   "outputs": [
    {
     "data": {
      "text/plain": "<pandas.io.formats.style.Styler at 0x28a880700>",
      "text/html": "<style type=\"text/css\">\n#T_d699b_row8_col1 {\n  background-color: lightgreen;\n}\n</style>\n<table id=\"T_d699b\">\n  <thead>\n    <tr>\n      <th class=\"blank level0\" >&nbsp;</th>\n      <th id=\"T_d699b_level0_col0\" class=\"col_heading level0 col0\" >Description</th>\n      <th id=\"T_d699b_level0_col1\" class=\"col_heading level0 col1\" >Value</th>\n    </tr>\n  </thead>\n  <tbody>\n    <tr>\n      <th id=\"T_d699b_level0_row0\" class=\"row_heading level0 row0\" >0</th>\n      <td id=\"T_d699b_row0_col0\" class=\"data row0 col0\" >Session id</td>\n      <td id=\"T_d699b_row0_col1\" class=\"data row0 col1\" >6597</td>\n    </tr>\n    <tr>\n      <th id=\"T_d699b_level0_row1\" class=\"row_heading level0 row1\" >1</th>\n      <td id=\"T_d699b_row1_col0\" class=\"data row1 col0\" >Target</td>\n      <td id=\"T_d699b_row1_col1\" class=\"data row1 col1\" >target</td>\n    </tr>\n    <tr>\n      <th id=\"T_d699b_level0_row2\" class=\"row_heading level0 row2\" >2</th>\n      <td id=\"T_d699b_row2_col0\" class=\"data row2 col0\" >Target type</td>\n      <td id=\"T_d699b_row2_col1\" class=\"data row2 col1\" >Multiclass</td>\n    </tr>\n    <tr>\n      <th id=\"T_d699b_level0_row3\" class=\"row_heading level0 row3\" >3</th>\n      <td id=\"T_d699b_row3_col0\" class=\"data row3 col0\" >Original data shape</td>\n      <td id=\"T_d699b_row3_col1\" class=\"data row3 col1\" >(150, 3)</td>\n    </tr>\n    <tr>\n      <th id=\"T_d699b_level0_row4\" class=\"row_heading level0 row4\" >4</th>\n      <td id=\"T_d699b_row4_col0\" class=\"data row4 col0\" >Transformed data shape</td>\n      <td id=\"T_d699b_row4_col1\" class=\"data row4 col1\" >(150, 3)</td>\n    </tr>\n    <tr>\n      <th id=\"T_d699b_level0_row5\" class=\"row_heading level0 row5\" >5</th>\n      <td id=\"T_d699b_row5_col0\" class=\"data row5 col0\" >Transformed train set shape</td>\n      <td id=\"T_d699b_row5_col1\" class=\"data row5 col1\" >(105, 3)</td>\n    </tr>\n    <tr>\n      <th id=\"T_d699b_level0_row6\" class=\"row_heading level0 row6\" >6</th>\n      <td id=\"T_d699b_row6_col0\" class=\"data row6 col0\" >Transformed test set shape</td>\n      <td id=\"T_d699b_row6_col1\" class=\"data row6 col1\" >(45, 3)</td>\n    </tr>\n    <tr>\n      <th id=\"T_d699b_level0_row7\" class=\"row_heading level0 row7\" >7</th>\n      <td id=\"T_d699b_row7_col0\" class=\"data row7 col0\" >Numeric features</td>\n      <td id=\"T_d699b_row7_col1\" class=\"data row7 col1\" >2</td>\n    </tr>\n    <tr>\n      <th id=\"T_d699b_level0_row8\" class=\"row_heading level0 row8\" >8</th>\n      <td id=\"T_d699b_row8_col0\" class=\"data row8 col0\" >Preprocess</td>\n      <td id=\"T_d699b_row8_col1\" class=\"data row8 col1\" >True</td>\n    </tr>\n    <tr>\n      <th id=\"T_d699b_level0_row9\" class=\"row_heading level0 row9\" >9</th>\n      <td id=\"T_d699b_row9_col0\" class=\"data row9 col0\" >Imputation type</td>\n      <td id=\"T_d699b_row9_col1\" class=\"data row9 col1\" >simple</td>\n    </tr>\n    <tr>\n      <th id=\"T_d699b_level0_row10\" class=\"row_heading level0 row10\" >10</th>\n      <td id=\"T_d699b_row10_col0\" class=\"data row10 col0\" >Numeric imputation</td>\n      <td id=\"T_d699b_row10_col1\" class=\"data row10 col1\" >mean</td>\n    </tr>\n    <tr>\n      <th id=\"T_d699b_level0_row11\" class=\"row_heading level0 row11\" >11</th>\n      <td id=\"T_d699b_row11_col0\" class=\"data row11 col0\" >Categorical imputation</td>\n      <td id=\"T_d699b_row11_col1\" class=\"data row11 col1\" >mode</td>\n    </tr>\n    <tr>\n      <th id=\"T_d699b_level0_row12\" class=\"row_heading level0 row12\" >12</th>\n      <td id=\"T_d699b_row12_col0\" class=\"data row12 col0\" >Fold Generator</td>\n      <td id=\"T_d699b_row12_col1\" class=\"data row12 col1\" >StratifiedKFold</td>\n    </tr>\n    <tr>\n      <th id=\"T_d699b_level0_row13\" class=\"row_heading level0 row13\" >13</th>\n      <td id=\"T_d699b_row13_col0\" class=\"data row13 col0\" >Fold Number</td>\n      <td id=\"T_d699b_row13_col1\" class=\"data row13 col1\" >10</td>\n    </tr>\n    <tr>\n      <th id=\"T_d699b_level0_row14\" class=\"row_heading level0 row14\" >14</th>\n      <td id=\"T_d699b_row14_col0\" class=\"data row14 col0\" >CPU Jobs</td>\n      <td id=\"T_d699b_row14_col1\" class=\"data row14 col1\" >-1</td>\n    </tr>\n    <tr>\n      <th id=\"T_d699b_level0_row15\" class=\"row_heading level0 row15\" >15</th>\n      <td id=\"T_d699b_row15_col0\" class=\"data row15 col0\" >Use GPU</td>\n      <td id=\"T_d699b_row15_col1\" class=\"data row15 col1\" >False</td>\n    </tr>\n    <tr>\n      <th id=\"T_d699b_level0_row16\" class=\"row_heading level0 row16\" >16</th>\n      <td id=\"T_d699b_row16_col0\" class=\"data row16 col0\" >Log Experiment</td>\n      <td id=\"T_d699b_row16_col1\" class=\"data row16 col1\" >False</td>\n    </tr>\n    <tr>\n      <th id=\"T_d699b_level0_row17\" class=\"row_heading level0 row17\" >17</th>\n      <td id=\"T_d699b_row17_col0\" class=\"data row17 col0\" >Experiment Name</td>\n      <td id=\"T_d699b_row17_col1\" class=\"data row17 col1\" >clf-default-name</td>\n    </tr>\n    <tr>\n      <th id=\"T_d699b_level0_row18\" class=\"row_heading level0 row18\" >18</th>\n      <td id=\"T_d699b_row18_col0\" class=\"data row18 col0\" >USI</td>\n      <td id=\"T_d699b_row18_col1\" class=\"data row18 col1\" >3aa6</td>\n    </tr>\n  </tbody>\n</table>\n"
     },
     "metadata": {},
     "output_type": "display_data"
    }
   ],
   "source": [
    "# Создание и обучение модели с помощью PyCaret\n",
    "clf = setup(data=new_data, target='target')"
   ],
   "metadata": {
    "collapsed": false,
    "ExecuteTime": {
     "end_time": "2024-02-09T13:34:21.868537Z",
     "start_time": "2024-02-09T13:34:21.537554Z"
    }
   },
   "id": "f227054cdba79818",
   "execution_count": 29
  },
  {
   "cell_type": "code",
   "outputs": [
    {
     "data": {
      "text/plain": "                                                                    \n                                                                    \nInitiated  . . . . . . . . . . . . . . . . . .              16:34:21\nStatus     . . . . . . . . . . . . . . . . . .  Loading Dependencies\nEstimator  . . . . . . . . . . . . . . . . . .     Compiling Library",
      "text/html": "<div>\n<style scoped>\n    .dataframe tbody tr th:only-of-type {\n        vertical-align: middle;\n    }\n\n    .dataframe tbody tr th {\n        vertical-align: top;\n    }\n\n    .dataframe thead th {\n        text-align: right;\n    }\n</style>\n<table border=\"1\" class=\"dataframe\">\n  <thead>\n    <tr style=\"text-align: right;\">\n      <th></th>\n      <th></th>\n      <th></th>\n    </tr>\n    <tr>\n      <th></th>\n      <th></th>\n      <th></th>\n    </tr>\n  </thead>\n  <tbody>\n    <tr>\n      <th>Initiated</th>\n      <td>. . . . . . . . . . . . . . . . . .</td>\n      <td>16:34:21</td>\n    </tr>\n    <tr>\n      <th>Status</th>\n      <td>. . . . . . . . . . . . . . . . . .</td>\n      <td>Loading Dependencies</td>\n    </tr>\n    <tr>\n      <th>Estimator</th>\n      <td>. . . . . . . . . . . . . . . . . .</td>\n      <td>Compiling Library</td>\n    </tr>\n  </tbody>\n</table>\n</div>"
     },
     "metadata": {},
     "output_type": "display_data"
    },
    {
     "data": {
      "text/plain": "<IPython.core.display.HTML object>",
      "text/html": ""
     },
     "metadata": {},
     "output_type": "display_data"
    },
    {
     "data": {
      "text/plain": "<pandas.io.formats.style.Styler at 0x28a419df0>",
      "text/html": "<style type=\"text/css\">\n#T_c882a th {\n  text-align: left;\n}\n#T_c882a_row0_col0, #T_c882a_row0_col2, #T_c882a_row0_col5, #T_c882a_row1_col0, #T_c882a_row1_col2, #T_c882a_row1_col5, #T_c882a_row2_col0, #T_c882a_row2_col2, #T_c882a_row2_col4, #T_c882a_row2_col7, #T_c882a_row3_col0, #T_c882a_row3_col1, #T_c882a_row3_col3, #T_c882a_row3_col4, #T_c882a_row3_col5, #T_c882a_row3_col6, #T_c882a_row3_col7, #T_c882a_row4_col0, #T_c882a_row4_col1, #T_c882a_row4_col2, #T_c882a_row4_col3, #T_c882a_row4_col4, #T_c882a_row4_col5, #T_c882a_row4_col6, #T_c882a_row4_col7, #T_c882a_row5_col0, #T_c882a_row5_col1, #T_c882a_row5_col2, #T_c882a_row5_col3, #T_c882a_row5_col4, #T_c882a_row5_col5, #T_c882a_row5_col6, #T_c882a_row5_col7, #T_c882a_row6_col0, #T_c882a_row6_col1, #T_c882a_row6_col2, #T_c882a_row6_col3, #T_c882a_row6_col4, #T_c882a_row6_col5, #T_c882a_row6_col6, #T_c882a_row6_col7, #T_c882a_row7_col0, #T_c882a_row7_col1, #T_c882a_row7_col2, #T_c882a_row7_col3, #T_c882a_row7_col4, #T_c882a_row7_col5, #T_c882a_row7_col6, #T_c882a_row7_col7, #T_c882a_row8_col0, #T_c882a_row8_col1, #T_c882a_row8_col2, #T_c882a_row8_col3, #T_c882a_row8_col4, #T_c882a_row8_col5, #T_c882a_row8_col6, #T_c882a_row8_col7, #T_c882a_row9_col0, #T_c882a_row9_col1, #T_c882a_row9_col2, #T_c882a_row9_col3, #T_c882a_row9_col4, #T_c882a_row9_col5, #T_c882a_row9_col6, #T_c882a_row9_col7, #T_c882a_row10_col0, #T_c882a_row10_col1, #T_c882a_row10_col2, #T_c882a_row10_col3, #T_c882a_row10_col4, #T_c882a_row10_col5, #T_c882a_row10_col6, #T_c882a_row10_col7, #T_c882a_row11_col0, #T_c882a_row11_col1, #T_c882a_row11_col2, #T_c882a_row11_col3, #T_c882a_row11_col4, #T_c882a_row11_col5, #T_c882a_row11_col6, #T_c882a_row11_col7, #T_c882a_row12_col0, #T_c882a_row12_col1, #T_c882a_row12_col2, #T_c882a_row12_col3, #T_c882a_row12_col4, #T_c882a_row12_col5, #T_c882a_row12_col6, #T_c882a_row12_col7, #T_c882a_row13_col0, #T_c882a_row13_col1, #T_c882a_row13_col2, #T_c882a_row13_col3, #T_c882a_row13_col4, #T_c882a_row13_col5, #T_c882a_row13_col6, #T_c882a_row13_col7, #T_c882a_row14_col0, #T_c882a_row14_col1, #T_c882a_row14_col2, #T_c882a_row14_col3, #T_c882a_row14_col4, #T_c882a_row14_col5, #T_c882a_row14_col6, #T_c882a_row14_col7, #T_c882a_row15_col0, #T_c882a_row15_col1, #T_c882a_row15_col2, #T_c882a_row15_col3, #T_c882a_row15_col4, #T_c882a_row15_col5, #T_c882a_row15_col6, #T_c882a_row15_col7 {\n  text-align: left;\n}\n#T_c882a_row0_col1, #T_c882a_row0_col3, #T_c882a_row0_col4, #T_c882a_row0_col6, #T_c882a_row0_col7, #T_c882a_row1_col1, #T_c882a_row1_col3, #T_c882a_row1_col4, #T_c882a_row1_col6, #T_c882a_row1_col7, #T_c882a_row2_col1, #T_c882a_row2_col3, #T_c882a_row2_col5, #T_c882a_row2_col6, #T_c882a_row3_col2 {\n  text-align: left;\n  background-color: yellow;\n}\n#T_c882a_row0_col8, #T_c882a_row1_col8, #T_c882a_row2_col8, #T_c882a_row3_col8, #T_c882a_row4_col8, #T_c882a_row5_col8, #T_c882a_row6_col8, #T_c882a_row7_col8, #T_c882a_row8_col8, #T_c882a_row9_col8, #T_c882a_row10_col8, #T_c882a_row11_col8, #T_c882a_row12_col8, #T_c882a_row13_col8, #T_c882a_row15_col8 {\n  text-align: left;\n  background-color: lightgrey;\n}\n#T_c882a_row14_col8 {\n  text-align: left;\n  background-color: yellow;\n  background-color: lightgrey;\n}\n</style>\n<table id=\"T_c882a\">\n  <thead>\n    <tr>\n      <th class=\"blank level0\" >&nbsp;</th>\n      <th id=\"T_c882a_level0_col0\" class=\"col_heading level0 col0\" >Model</th>\n      <th id=\"T_c882a_level0_col1\" class=\"col_heading level0 col1\" >Accuracy</th>\n      <th id=\"T_c882a_level0_col2\" class=\"col_heading level0 col2\" >AUC</th>\n      <th id=\"T_c882a_level0_col3\" class=\"col_heading level0 col3\" >Recall</th>\n      <th id=\"T_c882a_level0_col4\" class=\"col_heading level0 col4\" >Prec.</th>\n      <th id=\"T_c882a_level0_col5\" class=\"col_heading level0 col5\" >F1</th>\n      <th id=\"T_c882a_level0_col6\" class=\"col_heading level0 col6\" >Kappa</th>\n      <th id=\"T_c882a_level0_col7\" class=\"col_heading level0 col7\" >MCC</th>\n      <th id=\"T_c882a_level0_col8\" class=\"col_heading level0 col8\" >TT (Sec)</th>\n    </tr>\n  </thead>\n  <tbody>\n    <tr>\n      <th id=\"T_c882a_level0_row0\" class=\"row_heading level0 row0\" >knn</th>\n      <td id=\"T_c882a_row0_col0\" class=\"data row0 col0\" >K Neighbors Classifier</td>\n      <td id=\"T_c882a_row0_col1\" class=\"data row0 col1\" >0.9727</td>\n      <td id=\"T_c882a_row0_col2\" class=\"data row0 col2\" >0.9922</td>\n      <td id=\"T_c882a_row0_col3\" class=\"data row0 col3\" >0.9727</td>\n      <td id=\"T_c882a_row0_col4\" class=\"data row0 col4\" >0.9806</td>\n      <td id=\"T_c882a_row0_col5\" class=\"data row0 col5\" >0.9714</td>\n      <td id=\"T_c882a_row0_col6\" class=\"data row0 col6\" >0.9588</td>\n      <td id=\"T_c882a_row0_col7\" class=\"data row0 col7\" >0.9638</td>\n      <td id=\"T_c882a_row0_col8\" class=\"data row0 col8\" >0.0100</td>\n    </tr>\n    <tr>\n      <th id=\"T_c882a_level0_row1\" class=\"row_heading level0 row1\" >qda</th>\n      <td id=\"T_c882a_row1_col0\" class=\"data row1 col0\" >Quadratic Discriminant Analysis</td>\n      <td id=\"T_c882a_row1_col1\" class=\"data row1 col1\" >0.9727</td>\n      <td id=\"T_c882a_row1_col2\" class=\"data row1 col2\" >0.9844</td>\n      <td id=\"T_c882a_row1_col3\" class=\"data row1 col3\" >0.9727</td>\n      <td id=\"T_c882a_row1_col4\" class=\"data row1 col4\" >0.9806</td>\n      <td id=\"T_c882a_row1_col5\" class=\"data row1 col5\" >0.9714</td>\n      <td id=\"T_c882a_row1_col6\" class=\"data row1 col6\" >0.9588</td>\n      <td id=\"T_c882a_row1_col7\" class=\"data row1 col7\" >0.9638</td>\n      <td id=\"T_c882a_row1_col8\" class=\"data row1 col8\" >0.0050</td>\n    </tr>\n    <tr>\n      <th id=\"T_c882a_level0_row2\" class=\"row_heading level0 row2\" >lda</th>\n      <td id=\"T_c882a_row2_col0\" class=\"data row2 col0\" >Linear Discriminant Analysis</td>\n      <td id=\"T_c882a_row2_col1\" class=\"data row2 col1\" >0.9727</td>\n      <td id=\"T_c882a_row2_col2\" class=\"data row2 col2\" >0.9948</td>\n      <td id=\"T_c882a_row2_col3\" class=\"data row2 col3\" >0.9727</td>\n      <td id=\"T_c882a_row2_col4\" class=\"data row2 col4\" >0.9745</td>\n      <td id=\"T_c882a_row2_col5\" class=\"data row2 col5\" >0.9726</td>\n      <td id=\"T_c882a_row2_col6\" class=\"data row2 col6\" >0.9588</td>\n      <td id=\"T_c882a_row2_col7\" class=\"data row2 col7\" >0.9598</td>\n      <td id=\"T_c882a_row2_col8\" class=\"data row2 col8\" >0.0050</td>\n    </tr>\n    <tr>\n      <th id=\"T_c882a_level0_row3\" class=\"row_heading level0 row3\" >et</th>\n      <td id=\"T_c882a_row3_col0\" class=\"data row3 col0\" >Extra Trees Classifier</td>\n      <td id=\"T_c882a_row3_col1\" class=\"data row3 col1\" >0.9636</td>\n      <td id=\"T_c882a_row3_col2\" class=\"data row3 col2\" >0.9994</td>\n      <td id=\"T_c882a_row3_col3\" class=\"data row3 col3\" >0.9636</td>\n      <td id=\"T_c882a_row3_col4\" class=\"data row3 col4\" >0.9733</td>\n      <td id=\"T_c882a_row3_col5\" class=\"data row3 col5\" >0.9621</td>\n      <td id=\"T_c882a_row3_col6\" class=\"data row3 col6\" >0.9450</td>\n      <td id=\"T_c882a_row3_col7\" class=\"data row3 col7\" >0.9511</td>\n      <td id=\"T_c882a_row3_col8\" class=\"data row3 col8\" >0.0290</td>\n    </tr>\n    <tr>\n      <th id=\"T_c882a_level0_row4\" class=\"row_heading level0 row4\" >lr</th>\n      <td id=\"T_c882a_row4_col0\" class=\"data row4 col0\" >Logistic Regression</td>\n      <td id=\"T_c882a_row4_col1\" class=\"data row4 col1\" >0.9527</td>\n      <td id=\"T_c882a_row4_col2\" class=\"data row4 col2\" >0.9948</td>\n      <td id=\"T_c882a_row4_col3\" class=\"data row4 col3\" >0.9527</td>\n      <td id=\"T_c882a_row4_col4\" class=\"data row4 col4\" >0.9595</td>\n      <td id=\"T_c882a_row4_col5\" class=\"data row4 col5\" >0.9520</td>\n      <td id=\"T_c882a_row4_col6\" class=\"data row4 col6\" >0.9284</td>\n      <td id=\"T_c882a_row4_col7\" class=\"data row4 col7\" >0.9322</td>\n      <td id=\"T_c882a_row4_col8\" class=\"data row4 col8\" >0.2040</td>\n    </tr>\n    <tr>\n      <th id=\"T_c882a_level0_row5\" class=\"row_heading level0 row5\" >gbc</th>\n      <td id=\"T_c882a_row5_col0\" class=\"data row5 col0\" >Gradient Boosting Classifier</td>\n      <td id=\"T_c882a_row5_col1\" class=\"data row5 col1\" >0.9527</td>\n      <td id=\"T_c882a_row5_col2\" class=\"data row5 col2\" >0.9865</td>\n      <td id=\"T_c882a_row5_col3\" class=\"data row5 col3\" >0.9527</td>\n      <td id=\"T_c882a_row5_col4\" class=\"data row5 col4\" >0.9656</td>\n      <td id=\"T_c882a_row5_col5\" class=\"data row5 col5\" >0.9508</td>\n      <td id=\"T_c882a_row5_col6\" class=\"data row5 col6\" >0.9284</td>\n      <td id=\"T_c882a_row5_col7\" class=\"data row5 col7\" >0.9361</td>\n      <td id=\"T_c882a_row5_col8\" class=\"data row5 col8\" >0.0290</td>\n    </tr>\n    <tr>\n      <th id=\"T_c882a_level0_row6\" class=\"row_heading level0 row6\" >lightgbm</th>\n      <td id=\"T_c882a_row6_col0\" class=\"data row6 col0\" >Light Gradient Boosting Machine</td>\n      <td id=\"T_c882a_row6_col1\" class=\"data row6 col1\" >0.9527</td>\n      <td id=\"T_c882a_row6_col2\" class=\"data row6 col2\" >0.9929</td>\n      <td id=\"T_c882a_row6_col3\" class=\"data row6 col3\" >0.9527</td>\n      <td id=\"T_c882a_row6_col4\" class=\"data row6 col4\" >0.9656</td>\n      <td id=\"T_c882a_row6_col5\" class=\"data row6 col5\" >0.9508</td>\n      <td id=\"T_c882a_row6_col6\" class=\"data row6 col6\" >0.9284</td>\n      <td id=\"T_c882a_row6_col7\" class=\"data row6 col7\" >0.9361</td>\n      <td id=\"T_c882a_row6_col8\" class=\"data row6 col8\" >0.1100</td>\n    </tr>\n    <tr>\n      <th id=\"T_c882a_level0_row7\" class=\"row_heading level0 row7\" >catboost</th>\n      <td id=\"T_c882a_row7_col0\" class=\"data row7 col0\" >CatBoost Classifier</td>\n      <td id=\"T_c882a_row7_col1\" class=\"data row7 col1\" >0.9527</td>\n      <td id=\"T_c882a_row7_col2\" class=\"data row7 col2\" >0.9960</td>\n      <td id=\"T_c882a_row7_col3\" class=\"data row7 col3\" >0.9527</td>\n      <td id=\"T_c882a_row7_col4\" class=\"data row7 col4\" >0.9656</td>\n      <td id=\"T_c882a_row7_col5\" class=\"data row7 col5\" >0.9508</td>\n      <td id=\"T_c882a_row7_col6\" class=\"data row7 col6\" >0.9284</td>\n      <td id=\"T_c882a_row7_col7\" class=\"data row7 col7\" >0.9361</td>\n      <td id=\"T_c882a_row7_col8\" class=\"data row7 col8\" >0.2030</td>\n    </tr>\n    <tr>\n      <th id=\"T_c882a_level0_row8\" class=\"row_heading level0 row8\" >xgboost</th>\n      <td id=\"T_c882a_row8_col0\" class=\"data row8 col0\" >Extreme Gradient Boosting</td>\n      <td id=\"T_c882a_row8_col1\" class=\"data row8 col1\" >0.9436</td>\n      <td id=\"T_c882a_row8_col2\" class=\"data row8 col2\" >0.9865</td>\n      <td id=\"T_c882a_row8_col3\" class=\"data row8 col3\" >0.9436</td>\n      <td id=\"T_c882a_row8_col4\" class=\"data row8 col4\" >0.9588</td>\n      <td id=\"T_c882a_row8_col5\" class=\"data row8 col5\" >0.9417</td>\n      <td id=\"T_c882a_row8_col6\" class=\"data row8 col6\" >0.9149</td>\n      <td id=\"T_c882a_row8_col7\" class=\"data row8 col7\" >0.9236</td>\n      <td id=\"T_c882a_row8_col8\" class=\"data row8 col8\" >0.0120</td>\n    </tr>\n    <tr>\n      <th id=\"T_c882a_level0_row9\" class=\"row_heading level0 row9\" >rf</th>\n      <td id=\"T_c882a_row9_col0\" class=\"data row9 col0\" >Random Forest Classifier</td>\n      <td id=\"T_c882a_row9_col1\" class=\"data row9 col1\" >0.9427</td>\n      <td id=\"T_c882a_row9_col2\" class=\"data row9 col2\" >0.9922</td>\n      <td id=\"T_c882a_row9_col3\" class=\"data row9 col3\" >0.9427</td>\n      <td id=\"T_c882a_row9_col4\" class=\"data row9 col4\" >0.9581</td>\n      <td id=\"T_c882a_row9_col5\" class=\"data row9 col5\" >0.9405</td>\n      <td id=\"T_c882a_row9_col6\" class=\"data row9 col6\" >0.9133</td>\n      <td id=\"T_c882a_row9_col7\" class=\"data row9 col7\" >0.9223</td>\n      <td id=\"T_c882a_row9_col8\" class=\"data row9 col8\" >0.0370</td>\n    </tr>\n    <tr>\n      <th id=\"T_c882a_level0_row10\" class=\"row_heading level0 row10\" >dt</th>\n      <td id=\"T_c882a_row10_col0\" class=\"data row10 col0\" >Decision Tree Classifier</td>\n      <td id=\"T_c882a_row10_col1\" class=\"data row10 col1\" >0.9336</td>\n      <td id=\"T_c882a_row10_col2\" class=\"data row10 col2\" >0.9500</td>\n      <td id=\"T_c882a_row10_col3\" class=\"data row10 col3\" >0.9336</td>\n      <td id=\"T_c882a_row10_col4\" class=\"data row10 col4\" >0.9508</td>\n      <td id=\"T_c882a_row10_col5\" class=\"data row10 col5\" >0.9313</td>\n      <td id=\"T_c882a_row10_col6\" class=\"data row10 col6\" >0.8995</td>\n      <td id=\"T_c882a_row10_col7\" class=\"data row10 col7\" >0.9096</td>\n      <td id=\"T_c882a_row10_col8\" class=\"data row10 col8\" >0.0060</td>\n    </tr>\n    <tr>\n      <th id=\"T_c882a_level0_row11\" class=\"row_heading level0 row11\" >svm</th>\n      <td id=\"T_c882a_row11_col0\" class=\"data row11 col0\" >SVM - Linear Kernel</td>\n      <td id=\"T_c882a_row11_col1\" class=\"data row11 col1\" >0.9045</td>\n      <td id=\"T_c882a_row11_col2\" class=\"data row11 col2\" >0.0000</td>\n      <td id=\"T_c882a_row11_col3\" class=\"data row11 col3\" >0.9045</td>\n      <td id=\"T_c882a_row11_col4\" class=\"data row11 col4\" >0.9340</td>\n      <td id=\"T_c882a_row11_col5\" class=\"data row11 col5\" >0.8986</td>\n      <td id=\"T_c882a_row11_col6\" class=\"data row11 col6\" >0.8555</td>\n      <td id=\"T_c882a_row11_col7\" class=\"data row11 col7\" >0.8730</td>\n      <td id=\"T_c882a_row11_col8\" class=\"data row11 col8\" >0.0100</td>\n    </tr>\n    <tr>\n      <th id=\"T_c882a_level0_row12\" class=\"row_heading level0 row12\" >ada</th>\n      <td id=\"T_c882a_row12_col0\" class=\"data row12 col0\" >Ada Boost Classifier</td>\n      <td id=\"T_c882a_row12_col1\" class=\"data row12 col1\" >0.8945</td>\n      <td id=\"T_c882a_row12_col2\" class=\"data row12 col2\" >0.9731</td>\n      <td id=\"T_c882a_row12_col3\" class=\"data row12 col3\" >0.8945</td>\n      <td id=\"T_c882a_row12_col4\" class=\"data row12 col4\" >0.9144</td>\n      <td id=\"T_c882a_row12_col5\" class=\"data row12 col5\" >0.8908</td>\n      <td id=\"T_c882a_row12_col6\" class=\"data row12 col6\" >0.8403</td>\n      <td id=\"T_c882a_row12_col7\" class=\"data row12 col7\" >0.8514</td>\n      <td id=\"T_c882a_row12_col8\" class=\"data row12 col8\" >0.0130</td>\n    </tr>\n    <tr>\n      <th id=\"T_c882a_level0_row13\" class=\"row_heading level0 row13\" >nb</th>\n      <td id=\"T_c882a_row13_col0\" class=\"data row13 col0\" >Naive Bayes</td>\n      <td id=\"T_c882a_row13_col1\" class=\"data row13 col1\" >0.8936</td>\n      <td id=\"T_c882a_row13_col2\" class=\"data row13 col2\" >0.9888</td>\n      <td id=\"T_c882a_row13_col3\" class=\"data row13 col3\" >0.8936</td>\n      <td id=\"T_c882a_row13_col4\" class=\"data row13 col4\" >0.9164</td>\n      <td id=\"T_c882a_row13_col5\" class=\"data row13 col5\" >0.8897</td>\n      <td id=\"T_c882a_row13_col6\" class=\"data row13 col6\" >0.8389</td>\n      <td id=\"T_c882a_row13_col7\" class=\"data row13 col7\" >0.8519</td>\n      <td id=\"T_c882a_row13_col8\" class=\"data row13 col8\" >0.0060</td>\n    </tr>\n    <tr>\n      <th id=\"T_c882a_level0_row14\" class=\"row_heading level0 row14\" >ridge</th>\n      <td id=\"T_c882a_row14_col0\" class=\"data row14 col0\" >Ridge Classifier</td>\n      <td id=\"T_c882a_row14_col1\" class=\"data row14 col1\" >0.8182</td>\n      <td id=\"T_c882a_row14_col2\" class=\"data row14 col2\" >0.0000</td>\n      <td id=\"T_c882a_row14_col3\" class=\"data row14 col3\" >0.8182</td>\n      <td id=\"T_c882a_row14_col4\" class=\"data row14 col4\" >0.8641</td>\n      <td id=\"T_c882a_row14_col5\" class=\"data row14 col5\" >0.8049</td>\n      <td id=\"T_c882a_row14_col6\" class=\"data row14 col6\" >0.7247</td>\n      <td id=\"T_c882a_row14_col7\" class=\"data row14 col7\" >0.7542</td>\n      <td id=\"T_c882a_row14_col8\" class=\"data row14 col8\" >0.0040</td>\n    </tr>\n    <tr>\n      <th id=\"T_c882a_level0_row15\" class=\"row_heading level0 row15\" >dummy</th>\n      <td id=\"T_c882a_row15_col0\" class=\"data row15 col0\" >Dummy Classifier</td>\n      <td id=\"T_c882a_row15_col1\" class=\"data row15 col1\" >0.2864</td>\n      <td id=\"T_c882a_row15_col2\" class=\"data row15 col2\" >0.5000</td>\n      <td id=\"T_c882a_row15_col3\" class=\"data row15 col3\" >0.2864</td>\n      <td id=\"T_c882a_row15_col4\" class=\"data row15 col4\" >0.0822</td>\n      <td id=\"T_c882a_row15_col5\" class=\"data row15 col5\" >0.1277</td>\n      <td id=\"T_c882a_row15_col6\" class=\"data row15 col6\" >0.0000</td>\n      <td id=\"T_c882a_row15_col7\" class=\"data row15 col7\" >0.0000</td>\n      <td id=\"T_c882a_row15_col8\" class=\"data row15 col8\" >0.0050</td>\n    </tr>\n  </tbody>\n</table>\n"
     },
     "metadata": {},
     "output_type": "display_data"
    }
   ],
   "source": [
    "best_model = compare_models()"
   ],
   "metadata": {
    "collapsed": false,
    "ExecuteTime": {
     "end_time": "2024-02-09T13:34:30.346041Z",
     "start_time": "2024-02-09T13:34:21.872048Z"
    }
   },
   "id": "b15802c2a1f8dbf9",
   "execution_count": 30
  },
  {
   "cell_type": "code",
   "outputs": [
    {
     "data": {
      "text/plain": "<pandas.io.formats.style.Styler at 0x285220dc0>",
      "text/html": "<style type=\"text/css\">\n</style>\n<table id=\"T_de410\">\n  <thead>\n    <tr>\n      <th class=\"blank level0\" >&nbsp;</th>\n      <th id=\"T_de410_level0_col0\" class=\"col_heading level0 col0\" >Model</th>\n      <th id=\"T_de410_level0_col1\" class=\"col_heading level0 col1\" >Accuracy</th>\n      <th id=\"T_de410_level0_col2\" class=\"col_heading level0 col2\" >AUC</th>\n      <th id=\"T_de410_level0_col3\" class=\"col_heading level0 col3\" >Recall</th>\n      <th id=\"T_de410_level0_col4\" class=\"col_heading level0 col4\" >Prec.</th>\n      <th id=\"T_de410_level0_col5\" class=\"col_heading level0 col5\" >F1</th>\n      <th id=\"T_de410_level0_col6\" class=\"col_heading level0 col6\" >Kappa</th>\n      <th id=\"T_de410_level0_col7\" class=\"col_heading level0 col7\" >MCC</th>\n    </tr>\n  </thead>\n  <tbody>\n    <tr>\n      <th id=\"T_de410_level0_row0\" class=\"row_heading level0 row0\" >0</th>\n      <td id=\"T_de410_row0_col0\" class=\"data row0 col0\" >K Neighbors Classifier</td>\n      <td id=\"T_de410_row0_col1\" class=\"data row0 col1\" >0.3333</td>\n      <td id=\"T_de410_row0_col2\" class=\"data row0 col2\" >0</td>\n      <td id=\"T_de410_row0_col3\" class=\"data row0 col3\" >0</td>\n      <td id=\"T_de410_row0_col4\" class=\"data row0 col4\" >0</td>\n      <td id=\"T_de410_row0_col5\" class=\"data row0 col5\" >0</td>\n      <td id=\"T_de410_row0_col6\" class=\"data row0 col6\" >0.0000</td>\n      <td id=\"T_de410_row0_col7\" class=\"data row0 col7\" >0.0000</td>\n    </tr>\n  </tbody>\n</table>\n"
     },
     "metadata": {},
     "output_type": "display_data"
    },
    {
     "name": "stdout",
     "output_type": "stream",
     "text": [
      "   feature1  feature2  target  prediction_label  prediction_score\n",
      "0 -2.684126  0.319397     0.0                 0               1.0\n",
      "1  1.390189 -0.282661     0.0                 2               0.6\n",
      "2 -0.906470 -0.756093     0.0                 1               1.0\n"
     ]
    }
   ],
   "source": [
    "# Прогнозирование на новых данных\n",
    "new_X = np.array([[5.1, 3.5, 1.4, 0.2], [5.9, 3.0, 5.1, 1.8], [5.1, 2.5, 3.0, 1.1]])  # Пример новых данных\n",
    "new_X_pca = pca.transform(new_X)\n",
    "new_data = pd.DataFrame(np.concatenate((new_X_pca, np.zeros((new_X.shape[0], 1))), axis=1),\n",
    "                        columns=['feature1', 'feature2', 'target'])\n",
    "predictions = predict_model(best_model, data=new_data)\n",
    "\n",
    "print(predictions)"
   ],
   "metadata": {
    "collapsed": false,
    "ExecuteTime": {
     "end_time": "2024-02-09T13:34:30.456981Z",
     "start_time": "2024-02-09T13:34:30.348353Z"
    }
   },
   "id": "f686a62333c0c4a8",
   "execution_count": 31
  }
 ],
 "metadata": {
  "kernelspec": {
   "display_name": "Python 3",
   "language": "python",
   "name": "python3"
  },
  "language_info": {
   "codemirror_mode": {
    "name": "ipython",
    "version": 2
   },
   "file_extension": ".py",
   "mimetype": "text/x-python",
   "name": "python",
   "nbconvert_exporter": "python",
   "pygments_lexer": "ipython2",
   "version": "2.7.6"
  }
 },
 "nbformat": 4,
 "nbformat_minor": 5
}
