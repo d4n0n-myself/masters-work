{
 "cells": [
  {
   "cell_type": "code",
   "execution_count": 1,
   "id": "initial_id",
   "metadata": {
    "collapsed": true,
    "ExecuteTime": {
     "end_time": "2024-02-07T05:57:47.311236Z",
     "start_time": "2024-02-07T05:57:47.172488Z"
    }
   },
   "outputs": [
    {
     "ename": "ModuleNotFoundError",
     "evalue": "No module named 'pycaret.datasets'; 'pycaret' is not a package",
     "output_type": "error",
     "traceback": [
      "\u001B[0;31m---------------------------------------------------------------------------\u001B[0m",
      "\u001B[0;31mModuleNotFoundError\u001B[0m                       Traceback (most recent call last)",
      "Cell \u001B[0;32mIn[1], line 2\u001B[0m\n\u001B[1;32m      1\u001B[0m \u001B[38;5;66;03m# load sample dataset\u001B[39;00m\n\u001B[0;32m----> 2\u001B[0m \u001B[38;5;28;01mfrom\u001B[39;00m \u001B[38;5;21;01mpycaret\u001B[39;00m\u001B[38;5;21;01m.\u001B[39;00m\u001B[38;5;21;01mdatasets\u001B[39;00m \u001B[38;5;28;01mimport\u001B[39;00m get_data\n\u001B[1;32m      3\u001B[0m data \u001B[38;5;241m=\u001B[39m get_data(\u001B[38;5;124m'\u001B[39m\u001B[38;5;124mdiabetes\u001B[39m\u001B[38;5;124m'\u001B[39m)\n",
      "\u001B[0;31mModuleNotFoundError\u001B[0m: No module named 'pycaret.datasets'; 'pycaret' is not a package"
     ]
    }
   ],
   "source": [
    "# load sample dataset\n",
    "from pycaret.datasets import get_data\n",
    "data = get_data('diabetes')"
   ]
  },
  {
   "cell_type": "code",
   "outputs": [
    {
     "ename": "ModuleNotFoundError",
     "evalue": "No module named 'pycaret.classification'; 'pycaret' is not a package",
     "output_type": "error",
     "traceback": [
      "\u001B[0;31m---------------------------------------------------------------------------\u001B[0m",
      "\u001B[0;31mModuleNotFoundError\u001B[0m                       Traceback (most recent call last)",
      "Cell \u001B[0;32mIn[1], line 1\u001B[0m\n\u001B[0;32m----> 1\u001B[0m \u001B[38;5;28;01mfrom\u001B[39;00m \u001B[38;5;21;01mpycaret\u001B[39;00m\u001B[38;5;21;01m.\u001B[39;00m\u001B[38;5;21;01mclassification\u001B[39;00m \u001B[38;5;28;01mimport\u001B[39;00m ClassificationExperiment\n\u001B[1;32m      2\u001B[0m s \u001B[38;5;241m=\u001B[39m ClassificationExperiment()\n\u001B[1;32m      3\u001B[0m s\u001B[38;5;241m.\u001B[39msetup(data, target \u001B[38;5;241m=\u001B[39m \u001B[38;5;124m'\u001B[39m\u001B[38;5;124mClass variable\u001B[39m\u001B[38;5;124m'\u001B[39m, session_id \u001B[38;5;241m=\u001B[39m \u001B[38;5;241m123\u001B[39m)\n",
      "\u001B[0;31mModuleNotFoundError\u001B[0m: No module named 'pycaret.classification'; 'pycaret' is not a package"
     ]
    }
   ],
   "source": [
    "from pycaret.classification import ClassificationExperiment\n",
    "s = ClassificationExperiment()\n",
    "s.setup(data, target = 'Class variable', session_id = 123)"
   ],
   "metadata": {
    "collapsed": false,
    "ExecuteTime": {
     "end_time": "2024-02-06T10:44:33.010431Z",
     "start_time": "2024-02-06T10:44:32.894027Z"
    }
   },
   "id": "542cb5468163cc8f",
   "execution_count": 1
  },
  {
   "cell_type": "code",
   "outputs": [],
   "source": [
    "\n",
    "best = s.compare_models()"
   ],
   "metadata": {
    "collapsed": false
   },
   "id": "f9f189d75e8c97d3"
  },
  {
   "cell_type": "code",
   "outputs": [],
   "source": [
    "\n",
    "print(best)"
   ],
   "metadata": {
    "collapsed": false
   },
   "id": "26fa8500215f067a"
  },
  {
   "cell_type": "code",
   "outputs": [],
   "source": [
    "\n",
    "\n",
    "s.evaluate_model(best)\n"
   ],
   "metadata": {
    "collapsed": false
   },
   "id": "f227054cdba79818"
  },
  {
   "cell_type": "code",
   "outputs": [],
   "source": [
    "\n",
    "s.plot_model(best, plot = 'auc')"
   ],
   "metadata": {
    "collapsed": false
   },
   "id": "f686a62333c0c4a8"
  }
 ],
 "metadata": {
  "kernelspec": {
   "display_name": "Python 3",
   "language": "python",
   "name": "python3"
  },
  "language_info": {
   "codemirror_mode": {
    "name": "ipython",
    "version": 2
   },
   "file_extension": ".py",
   "mimetype": "text/x-python",
   "name": "python",
   "nbconvert_exporter": "python",
   "pygments_lexer": "ipython2",
   "version": "2.7.6"
  }
 },
 "nbformat": 4,
 "nbformat_minor": 5
}
