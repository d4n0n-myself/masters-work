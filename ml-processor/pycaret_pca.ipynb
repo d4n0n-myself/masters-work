{
 "cells": [
  {
   "cell_type": "code",
   "execution_count": 39,
   "id": "initial_id",
   "metadata": {
    "collapsed": true,
    "ExecuteTime": {
     "end_time": "2024-02-11T14:46:06.495990Z",
     "start_time": "2024-02-11T14:46:06.486291Z"
    }
   },
   "outputs": [
    {
     "name": "stdout",
     "output_type": "stream",
     "text": [
      "[[6.1 2.9 4.7 1.4]\n",
      " [6.3 3.3 4.7 1.6]\n",
      " [6.4 3.1 5.5 1.8]\n",
      " [6.2 2.8 4.8 1.8]\n",
      " [5.4 3.4 1.7 0.2]\n",
      " [6.4 2.9 4.3 1.3]\n",
      " [6.5 3.  5.8 2.2]\n",
      " [6.4 3.2 5.3 2.3]\n",
      " [5.6 2.8 4.9 2. ]\n",
      " [6.8 3.2 5.9 2.3]]\n"
     ]
    }
   ],
   "source": [
    "import numpy as np\n",
    "import pandas as pd\n",
    "from sklearn.datasets import load_iris\n",
    "from sklearn.decomposition import PCA\n",
    "from sklearn.model_selection import train_test_split\n",
    "from pycaret.classification import *\n",
    "\n",
    "# Загрузка датасета Iris\n",
    "iris = load_iris()\n",
    "# Разделение данных на обучающий и тестовый наборы\n",
    "X_train, X_test, y_train, y_test = train_test_split(iris.data, iris.target, train_size=0.75, test_size=0.25)\n",
    "\n",
    "print(X_train[:10])"
   ]
  },
  {
   "cell_type": "code",
   "outputs": [
    {
     "name": "stdout",
     "output_type": "stream",
     "text": [
      "[[ 0.7345861  -0.11991047]\n",
      " [ 0.84664868  0.28430494]\n",
      " [ 1.65515425  0.0464808 ]\n",
      " [ 1.00725954 -0.18178441]\n",
      " [-2.55644205  0.41838941]\n",
      " [ 0.46718697  0.15541629]\n",
      " [ 2.09891067 -0.05012851]\n",
      " [ 1.65368807  0.10776434]\n",
      " [ 0.94326739 -0.61086413]\n",
      " [ 2.31402988  0.26566481]]\n"
     ]
    }
   ],
   "source": [
    "# Применение PCA\n",
    "pca = PCA(n_components=2)\n",
    "X_pca = pca.fit_transform(X_train)\n",
    "print(X_pca[:10])"
   ],
   "metadata": {
    "collapsed": false,
    "ExecuteTime": {
     "end_time": "2024-02-11T14:46:06.514558Z",
     "start_time": "2024-02-11T14:46:06.498983Z"
    }
   },
   "id": "ba6ae26864099399",
   "execution_count": 40
  },
  {
   "cell_type": "code",
   "outputs": [],
   "source": [
    "# Создание нового датасета с использованием новых признаков\n",
    "new_data = np.concatenate((X_pca, y_train.reshape(-1, 1)), axis=1)\n",
    "new_data = pd.DataFrame(new_data, columns=['feature1', 'feature2', 'target'])"
   ],
   "metadata": {
    "collapsed": false,
    "ExecuteTime": {
     "end_time": "2024-02-11T14:46:06.514898Z",
     "start_time": "2024-02-11T14:46:06.505856Z"
    }
   },
   "id": "26fa8500215f067a",
   "execution_count": 41
  },
  {
   "cell_type": "code",
   "outputs": [
    {
     "data": {
      "text/plain": "<pandas.io.formats.style.Styler at 0x28a880340>",
      "text/html": "<style type=\"text/css\">\n#T_81a23_row8_col1 {\n  background-color: lightgreen;\n}\n</style>\n<table id=\"T_81a23\">\n  <thead>\n    <tr>\n      <th class=\"blank level0\" >&nbsp;</th>\n      <th id=\"T_81a23_level0_col0\" class=\"col_heading level0 col0\" >Description</th>\n      <th id=\"T_81a23_level0_col1\" class=\"col_heading level0 col1\" >Value</th>\n    </tr>\n  </thead>\n  <tbody>\n    <tr>\n      <th id=\"T_81a23_level0_row0\" class=\"row_heading level0 row0\" >0</th>\n      <td id=\"T_81a23_row0_col0\" class=\"data row0 col0\" >Session id</td>\n      <td id=\"T_81a23_row0_col1\" class=\"data row0 col1\" >2901</td>\n    </tr>\n    <tr>\n      <th id=\"T_81a23_level0_row1\" class=\"row_heading level0 row1\" >1</th>\n      <td id=\"T_81a23_row1_col0\" class=\"data row1 col0\" >Target</td>\n      <td id=\"T_81a23_row1_col1\" class=\"data row1 col1\" >target</td>\n    </tr>\n    <tr>\n      <th id=\"T_81a23_level0_row2\" class=\"row_heading level0 row2\" >2</th>\n      <td id=\"T_81a23_row2_col0\" class=\"data row2 col0\" >Target type</td>\n      <td id=\"T_81a23_row2_col1\" class=\"data row2 col1\" >Multiclass</td>\n    </tr>\n    <tr>\n      <th id=\"T_81a23_level0_row3\" class=\"row_heading level0 row3\" >3</th>\n      <td id=\"T_81a23_row3_col0\" class=\"data row3 col0\" >Original data shape</td>\n      <td id=\"T_81a23_row3_col1\" class=\"data row3 col1\" >(112, 3)</td>\n    </tr>\n    <tr>\n      <th id=\"T_81a23_level0_row4\" class=\"row_heading level0 row4\" >4</th>\n      <td id=\"T_81a23_row4_col0\" class=\"data row4 col0\" >Transformed data shape</td>\n      <td id=\"T_81a23_row4_col1\" class=\"data row4 col1\" >(112, 3)</td>\n    </tr>\n    <tr>\n      <th id=\"T_81a23_level0_row5\" class=\"row_heading level0 row5\" >5</th>\n      <td id=\"T_81a23_row5_col0\" class=\"data row5 col0\" >Transformed train set shape</td>\n      <td id=\"T_81a23_row5_col1\" class=\"data row5 col1\" >(78, 3)</td>\n    </tr>\n    <tr>\n      <th id=\"T_81a23_level0_row6\" class=\"row_heading level0 row6\" >6</th>\n      <td id=\"T_81a23_row6_col0\" class=\"data row6 col0\" >Transformed test set shape</td>\n      <td id=\"T_81a23_row6_col1\" class=\"data row6 col1\" >(34, 3)</td>\n    </tr>\n    <tr>\n      <th id=\"T_81a23_level0_row7\" class=\"row_heading level0 row7\" >7</th>\n      <td id=\"T_81a23_row7_col0\" class=\"data row7 col0\" >Numeric features</td>\n      <td id=\"T_81a23_row7_col1\" class=\"data row7 col1\" >2</td>\n    </tr>\n    <tr>\n      <th id=\"T_81a23_level0_row8\" class=\"row_heading level0 row8\" >8</th>\n      <td id=\"T_81a23_row8_col0\" class=\"data row8 col0\" >Preprocess</td>\n      <td id=\"T_81a23_row8_col1\" class=\"data row8 col1\" >True</td>\n    </tr>\n    <tr>\n      <th id=\"T_81a23_level0_row9\" class=\"row_heading level0 row9\" >9</th>\n      <td id=\"T_81a23_row9_col0\" class=\"data row9 col0\" >Imputation type</td>\n      <td id=\"T_81a23_row9_col1\" class=\"data row9 col1\" >simple</td>\n    </tr>\n    <tr>\n      <th id=\"T_81a23_level0_row10\" class=\"row_heading level0 row10\" >10</th>\n      <td id=\"T_81a23_row10_col0\" class=\"data row10 col0\" >Numeric imputation</td>\n      <td id=\"T_81a23_row10_col1\" class=\"data row10 col1\" >mean</td>\n    </tr>\n    <tr>\n      <th id=\"T_81a23_level0_row11\" class=\"row_heading level0 row11\" >11</th>\n      <td id=\"T_81a23_row11_col0\" class=\"data row11 col0\" >Categorical imputation</td>\n      <td id=\"T_81a23_row11_col1\" class=\"data row11 col1\" >mode</td>\n    </tr>\n    <tr>\n      <th id=\"T_81a23_level0_row12\" class=\"row_heading level0 row12\" >12</th>\n      <td id=\"T_81a23_row12_col0\" class=\"data row12 col0\" >Fold Generator</td>\n      <td id=\"T_81a23_row12_col1\" class=\"data row12 col1\" >StratifiedKFold</td>\n    </tr>\n    <tr>\n      <th id=\"T_81a23_level0_row13\" class=\"row_heading level0 row13\" >13</th>\n      <td id=\"T_81a23_row13_col0\" class=\"data row13 col0\" >Fold Number</td>\n      <td id=\"T_81a23_row13_col1\" class=\"data row13 col1\" >10</td>\n    </tr>\n    <tr>\n      <th id=\"T_81a23_level0_row14\" class=\"row_heading level0 row14\" >14</th>\n      <td id=\"T_81a23_row14_col0\" class=\"data row14 col0\" >CPU Jobs</td>\n      <td id=\"T_81a23_row14_col1\" class=\"data row14 col1\" >-1</td>\n    </tr>\n    <tr>\n      <th id=\"T_81a23_level0_row15\" class=\"row_heading level0 row15\" >15</th>\n      <td id=\"T_81a23_row15_col0\" class=\"data row15 col0\" >Use GPU</td>\n      <td id=\"T_81a23_row15_col1\" class=\"data row15 col1\" >False</td>\n    </tr>\n    <tr>\n      <th id=\"T_81a23_level0_row16\" class=\"row_heading level0 row16\" >16</th>\n      <td id=\"T_81a23_row16_col0\" class=\"data row16 col0\" >Log Experiment</td>\n      <td id=\"T_81a23_row16_col1\" class=\"data row16 col1\" >False</td>\n    </tr>\n    <tr>\n      <th id=\"T_81a23_level0_row17\" class=\"row_heading level0 row17\" >17</th>\n      <td id=\"T_81a23_row17_col0\" class=\"data row17 col0\" >Experiment Name</td>\n      <td id=\"T_81a23_row17_col1\" class=\"data row17 col1\" >clf-default-name</td>\n    </tr>\n    <tr>\n      <th id=\"T_81a23_level0_row18\" class=\"row_heading level0 row18\" >18</th>\n      <td id=\"T_81a23_row18_col0\" class=\"data row18 col0\" >USI</td>\n      <td id=\"T_81a23_row18_col1\" class=\"data row18 col1\" >49c5</td>\n    </tr>\n  </tbody>\n</table>\n"
     },
     "metadata": {},
     "output_type": "display_data"
    }
   ],
   "source": [
    "# Создание и обучение модели с помощью PyCaret\n",
    "clf = setup(data=new_data, target='target')"
   ],
   "metadata": {
    "collapsed": false,
    "ExecuteTime": {
     "end_time": "2024-02-11T14:46:06.840903Z",
     "start_time": "2024-02-11T14:46:06.509983Z"
    }
   },
   "id": "f227054cdba79818",
   "execution_count": 42
  },
  {
   "cell_type": "code",
   "outputs": [
    {
     "data": {
      "text/plain": "                                                                    \n                                                                    \nInitiated  . . . . . . . . . . . . . . . . . .              17:46:06\nStatus     . . . . . . . . . . . . . . . . . .  Loading Dependencies\nEstimator  . . . . . . . . . . . . . . . . . .     Compiling Library",
      "text/html": "<div>\n<style scoped>\n    .dataframe tbody tr th:only-of-type {\n        vertical-align: middle;\n    }\n\n    .dataframe tbody tr th {\n        vertical-align: top;\n    }\n\n    .dataframe thead th {\n        text-align: right;\n    }\n</style>\n<table border=\"1\" class=\"dataframe\">\n  <thead>\n    <tr style=\"text-align: right;\">\n      <th></th>\n      <th></th>\n      <th></th>\n    </tr>\n    <tr>\n      <th></th>\n      <th></th>\n      <th></th>\n    </tr>\n  </thead>\n  <tbody>\n    <tr>\n      <th>Initiated</th>\n      <td>. . . . . . . . . . . . . . . . . .</td>\n      <td>17:46:06</td>\n    </tr>\n    <tr>\n      <th>Status</th>\n      <td>. . . . . . . . . . . . . . . . . .</td>\n      <td>Loading Dependencies</td>\n    </tr>\n    <tr>\n      <th>Estimator</th>\n      <td>. . . . . . . . . . . . . . . . . .</td>\n      <td>Compiling Library</td>\n    </tr>\n  </tbody>\n</table>\n</div>"
     },
     "metadata": {},
     "output_type": "display_data"
    },
    {
     "data": {
      "text/plain": "<IPython.core.display.HTML object>",
      "text/html": ""
     },
     "metadata": {},
     "output_type": "display_data"
    },
    {
     "data": {
      "text/plain": "<pandas.io.formats.style.Styler at 0x283ea1730>",
      "text/html": "<style type=\"text/css\">\n#T_ccd5b th {\n  text-align: left;\n}\n#T_ccd5b_row0_col0, #T_ccd5b_row0_col2, #T_ccd5b_row0_col4, #T_ccd5b_row0_col7, #T_ccd5b_row1_col0, #T_ccd5b_row1_col1, #T_ccd5b_row1_col2, #T_ccd5b_row1_col3, #T_ccd5b_row1_col5, #T_ccd5b_row1_col6, #T_ccd5b_row2_col0, #T_ccd5b_row2_col1, #T_ccd5b_row2_col2, #T_ccd5b_row2_col3, #T_ccd5b_row2_col4, #T_ccd5b_row2_col5, #T_ccd5b_row2_col6, #T_ccd5b_row2_col7, #T_ccd5b_row3_col0, #T_ccd5b_row3_col1, #T_ccd5b_row3_col2, #T_ccd5b_row3_col3, #T_ccd5b_row3_col4, #T_ccd5b_row3_col5, #T_ccd5b_row3_col6, #T_ccd5b_row3_col7, #T_ccd5b_row4_col0, #T_ccd5b_row4_col1, #T_ccd5b_row4_col3, #T_ccd5b_row4_col4, #T_ccd5b_row4_col5, #T_ccd5b_row4_col6, #T_ccd5b_row4_col7, #T_ccd5b_row5_col0, #T_ccd5b_row5_col1, #T_ccd5b_row5_col3, #T_ccd5b_row5_col4, #T_ccd5b_row5_col5, #T_ccd5b_row5_col6, #T_ccd5b_row5_col7, #T_ccd5b_row6_col0, #T_ccd5b_row6_col1, #T_ccd5b_row6_col2, #T_ccd5b_row6_col3, #T_ccd5b_row6_col4, #T_ccd5b_row6_col5, #T_ccd5b_row6_col6, #T_ccd5b_row6_col7, #T_ccd5b_row7_col0, #T_ccd5b_row7_col1, #T_ccd5b_row7_col2, #T_ccd5b_row7_col3, #T_ccd5b_row7_col4, #T_ccd5b_row7_col5, #T_ccd5b_row7_col6, #T_ccd5b_row7_col7, #T_ccd5b_row8_col0, #T_ccd5b_row8_col1, #T_ccd5b_row8_col2, #T_ccd5b_row8_col3, #T_ccd5b_row8_col4, #T_ccd5b_row8_col5, #T_ccd5b_row8_col6, #T_ccd5b_row8_col7, #T_ccd5b_row9_col0, #T_ccd5b_row9_col1, #T_ccd5b_row9_col2, #T_ccd5b_row9_col3, #T_ccd5b_row9_col4, #T_ccd5b_row9_col5, #T_ccd5b_row9_col6, #T_ccd5b_row9_col7, #T_ccd5b_row10_col0, #T_ccd5b_row10_col1, #T_ccd5b_row10_col2, #T_ccd5b_row10_col3, #T_ccd5b_row10_col4, #T_ccd5b_row10_col5, #T_ccd5b_row10_col6, #T_ccd5b_row10_col7, #T_ccd5b_row11_col0, #T_ccd5b_row11_col1, #T_ccd5b_row11_col2, #T_ccd5b_row11_col3, #T_ccd5b_row11_col4, #T_ccd5b_row11_col5, #T_ccd5b_row11_col6, #T_ccd5b_row11_col7, #T_ccd5b_row12_col0, #T_ccd5b_row12_col1, #T_ccd5b_row12_col2, #T_ccd5b_row12_col3, #T_ccd5b_row12_col4, #T_ccd5b_row12_col5, #T_ccd5b_row12_col6, #T_ccd5b_row12_col7, #T_ccd5b_row13_col0, #T_ccd5b_row13_col1, #T_ccd5b_row13_col2, #T_ccd5b_row13_col3, #T_ccd5b_row13_col4, #T_ccd5b_row13_col5, #T_ccd5b_row13_col6, #T_ccd5b_row13_col7, #T_ccd5b_row14_col0, #T_ccd5b_row14_col1, #T_ccd5b_row14_col2, #T_ccd5b_row14_col3, #T_ccd5b_row14_col4, #T_ccd5b_row14_col5, #T_ccd5b_row14_col6, #T_ccd5b_row14_col7, #T_ccd5b_row15_col0, #T_ccd5b_row15_col1, #T_ccd5b_row15_col2, #T_ccd5b_row15_col3, #T_ccd5b_row15_col4, #T_ccd5b_row15_col5, #T_ccd5b_row15_col6, #T_ccd5b_row15_col7 {\n  text-align: left;\n}\n#T_ccd5b_row0_col1, #T_ccd5b_row0_col3, #T_ccd5b_row0_col5, #T_ccd5b_row0_col6, #T_ccd5b_row1_col4, #T_ccd5b_row1_col7, #T_ccd5b_row4_col2, #T_ccd5b_row5_col2 {\n  text-align: left;\n  background-color: yellow;\n}\n#T_ccd5b_row0_col8, #T_ccd5b_row1_col8, #T_ccd5b_row2_col8, #T_ccd5b_row3_col8, #T_ccd5b_row5_col8, #T_ccd5b_row6_col8, #T_ccd5b_row7_col8, #T_ccd5b_row9_col8, #T_ccd5b_row10_col8, #T_ccd5b_row11_col8, #T_ccd5b_row12_col8, #T_ccd5b_row13_col8, #T_ccd5b_row15_col8 {\n  text-align: left;\n  background-color: lightgrey;\n}\n#T_ccd5b_row4_col8, #T_ccd5b_row8_col8, #T_ccd5b_row14_col8 {\n  text-align: left;\n  background-color: yellow;\n  background-color: lightgrey;\n}\n</style>\n<table id=\"T_ccd5b\">\n  <thead>\n    <tr>\n      <th class=\"blank level0\" >&nbsp;</th>\n      <th id=\"T_ccd5b_level0_col0\" class=\"col_heading level0 col0\" >Model</th>\n      <th id=\"T_ccd5b_level0_col1\" class=\"col_heading level0 col1\" >Accuracy</th>\n      <th id=\"T_ccd5b_level0_col2\" class=\"col_heading level0 col2\" >AUC</th>\n      <th id=\"T_ccd5b_level0_col3\" class=\"col_heading level0 col3\" >Recall</th>\n      <th id=\"T_ccd5b_level0_col4\" class=\"col_heading level0 col4\" >Prec.</th>\n      <th id=\"T_ccd5b_level0_col5\" class=\"col_heading level0 col5\" >F1</th>\n      <th id=\"T_ccd5b_level0_col6\" class=\"col_heading level0 col6\" >Kappa</th>\n      <th id=\"T_ccd5b_level0_col7\" class=\"col_heading level0 col7\" >MCC</th>\n      <th id=\"T_ccd5b_level0_col8\" class=\"col_heading level0 col8\" >TT (Sec)</th>\n    </tr>\n  </thead>\n  <tbody>\n    <tr>\n      <th id=\"T_ccd5b_level0_row0\" class=\"row_heading level0 row0\" >lightgbm</th>\n      <td id=\"T_ccd5b_row0_col0\" class=\"data row0 col0\" >Light Gradient Boosting Machine</td>\n      <td id=\"T_ccd5b_row0_col1\" class=\"data row0 col1\" >0.9500</td>\n      <td id=\"T_ccd5b_row0_col2\" class=\"data row0 col2\" >0.9858</td>\n      <td id=\"T_ccd5b_row0_col3\" class=\"data row0 col3\" >0.9500</td>\n      <td id=\"T_ccd5b_row0_col4\" class=\"data row0 col4\" >0.9500</td>\n      <td id=\"T_ccd5b_row0_col5\" class=\"data row0 col5\" >0.9500</td>\n      <td id=\"T_ccd5b_row0_col6\" class=\"data row0 col6\" >0.9238</td>\n      <td id=\"T_ccd5b_row0_col7\" class=\"data row0 col7\" >0.9238</td>\n      <td id=\"T_ccd5b_row0_col8\" class=\"data row0 col8\" >0.0820</td>\n    </tr>\n    <tr>\n      <th id=\"T_ccd5b_level0_row1\" class=\"row_heading level0 row1\" >lr</th>\n      <td id=\"T_ccd5b_row1_col0\" class=\"data row1 col0\" >Logistic Regression</td>\n      <td id=\"T_ccd5b_row1_col1\" class=\"data row1 col1\" >0.9482</td>\n      <td id=\"T_ccd5b_row1_col2\" class=\"data row1 col2\" >0.9904</td>\n      <td id=\"T_ccd5b_row1_col3\" class=\"data row1 col3\" >0.9482</td>\n      <td id=\"T_ccd5b_row1_col4\" class=\"data row1 col4\" >0.9549</td>\n      <td id=\"T_ccd5b_row1_col5\" class=\"data row1 col5\" >0.9465</td>\n      <td id=\"T_ccd5b_row1_col6\" class=\"data row1 col6\" >0.9203</td>\n      <td id=\"T_ccd5b_row1_col7\" class=\"data row1 col7\" >0.9250</td>\n      <td id=\"T_ccd5b_row1_col8\" class=\"data row1 col8\" >0.1730</td>\n    </tr>\n    <tr>\n      <th id=\"T_ccd5b_level0_row2\" class=\"row_heading level0 row2\" >et</th>\n      <td id=\"T_ccd5b_row2_col0\" class=\"data row2 col0\" >Extra Trees Classifier</td>\n      <td id=\"T_ccd5b_row2_col1\" class=\"data row2 col1\" >0.9375</td>\n      <td id=\"T_ccd5b_row2_col2\" class=\"data row2 col2\" >0.9904</td>\n      <td id=\"T_ccd5b_row2_col3\" class=\"data row2 col3\" >0.9375</td>\n      <td id=\"T_ccd5b_row2_col4\" class=\"data row2 col4\" >0.9542</td>\n      <td id=\"T_ccd5b_row2_col5\" class=\"data row2 col5\" >0.9361</td>\n      <td id=\"T_ccd5b_row2_col6\" class=\"data row2 col6\" >0.9052</td>\n      <td id=\"T_ccd5b_row2_col7\" class=\"data row2 col7\" >0.9151</td>\n      <td id=\"T_ccd5b_row2_col8\" class=\"data row2 col8\" >0.0280</td>\n    </tr>\n    <tr>\n      <th id=\"T_ccd5b_level0_row3\" class=\"row_heading level0 row3\" >knn</th>\n      <td id=\"T_ccd5b_row3_col0\" class=\"data row3 col0\" >K Neighbors Classifier</td>\n      <td id=\"T_ccd5b_row3_col1\" class=\"data row3 col1\" >0.9357</td>\n      <td id=\"T_ccd5b_row3_col2\" class=\"data row3 col2\" >0.9789</td>\n      <td id=\"T_ccd5b_row3_col3\" class=\"data row3 col3\" >0.9357</td>\n      <td id=\"T_ccd5b_row3_col4\" class=\"data row3 col4\" >0.9455</td>\n      <td id=\"T_ccd5b_row3_col5\" class=\"data row3 col5\" >0.9336</td>\n      <td id=\"T_ccd5b_row3_col6\" class=\"data row3 col6\" >0.9012</td>\n      <td id=\"T_ccd5b_row3_col7\" class=\"data row3 col7\" >0.9080</td>\n      <td id=\"T_ccd5b_row3_col8\" class=\"data row3 col8\" >0.0100</td>\n    </tr>\n    <tr>\n      <th id=\"T_ccd5b_level0_row4\" class=\"row_heading level0 row4\" >qda</th>\n      <td id=\"T_ccd5b_row4_col0\" class=\"data row4 col0\" >Quadratic Discriminant Analysis</td>\n      <td id=\"T_ccd5b_row4_col1\" class=\"data row4 col1\" >0.9357</td>\n      <td id=\"T_ccd5b_row4_col2\" class=\"data row4 col2\" >0.9954</td>\n      <td id=\"T_ccd5b_row4_col3\" class=\"data row4 col3\" >0.9357</td>\n      <td id=\"T_ccd5b_row4_col4\" class=\"data row4 col4\" >0.9518</td>\n      <td id=\"T_ccd5b_row4_col5\" class=\"data row4 col5\" >0.9321</td>\n      <td id=\"T_ccd5b_row4_col6\" class=\"data row4 col6\" >0.9008</td>\n      <td id=\"T_ccd5b_row4_col7\" class=\"data row4 col7\" >0.9116</td>\n      <td id=\"T_ccd5b_row4_col8\" class=\"data row4 col8\" >0.0040</td>\n    </tr>\n    <tr>\n      <th id=\"T_ccd5b_level0_row5\" class=\"row_heading level0 row5\" >lda</th>\n      <td id=\"T_ccd5b_row5_col0\" class=\"data row5 col0\" >Linear Discriminant Analysis</td>\n      <td id=\"T_ccd5b_row5_col1\" class=\"data row5 col1\" >0.9357</td>\n      <td id=\"T_ccd5b_row5_col2\" class=\"data row5 col2\" >0.9954</td>\n      <td id=\"T_ccd5b_row5_col3\" class=\"data row5 col3\" >0.9357</td>\n      <td id=\"T_ccd5b_row5_col4\" class=\"data row5 col4\" >0.9455</td>\n      <td id=\"T_ccd5b_row5_col5\" class=\"data row5 col5\" >0.9336</td>\n      <td id=\"T_ccd5b_row5_col6\" class=\"data row5 col6\" >0.9012</td>\n      <td id=\"T_ccd5b_row5_col7\" class=\"data row5 col7\" >0.9080</td>\n      <td id=\"T_ccd5b_row5_col8\" class=\"data row5 col8\" >0.0050</td>\n    </tr>\n    <tr>\n      <th id=\"T_ccd5b_level0_row6\" class=\"row_heading level0 row6\" >rf</th>\n      <td id=\"T_ccd5b_row6_col0\" class=\"data row6 col0\" >Random Forest Classifier</td>\n      <td id=\"T_ccd5b_row6_col1\" class=\"data row6 col1\" >0.9250</td>\n      <td id=\"T_ccd5b_row6_col2\" class=\"data row6 col2\" >0.9846</td>\n      <td id=\"T_ccd5b_row6_col3\" class=\"data row6 col3\" >0.9250</td>\n      <td id=\"T_ccd5b_row6_col4\" class=\"data row6 col4\" >0.9312</td>\n      <td id=\"T_ccd5b_row6_col5\" class=\"data row6 col5\" >0.9243</td>\n      <td id=\"T_ccd5b_row6_col6\" class=\"data row6 col6\" >0.8857</td>\n      <td id=\"T_ccd5b_row6_col7\" class=\"data row6 col7\" >0.8897</td>\n      <td id=\"T_ccd5b_row6_col8\" class=\"data row6 col8\" >0.0290</td>\n    </tr>\n    <tr>\n      <th id=\"T_ccd5b_level0_row7\" class=\"row_heading level0 row7\" >nb</th>\n      <td id=\"T_ccd5b_row7_col0\" class=\"data row7 col0\" >Naive Bayes</td>\n      <td id=\"T_ccd5b_row7_col1\" class=\"data row7 col1\" >0.8839</td>\n      <td id=\"T_ccd5b_row7_col2\" class=\"data row7 col2\" >0.9790</td>\n      <td id=\"T_ccd5b_row7_col3\" class=\"data row7 col3\" >0.8839</td>\n      <td id=\"T_ccd5b_row7_col4\" class=\"data row7 col4\" >0.9101</td>\n      <td id=\"T_ccd5b_row7_col5\" class=\"data row7 col5\" >0.8817</td>\n      <td id=\"T_ccd5b_row7_col6\" class=\"data row7 col6\" >0.8242</td>\n      <td id=\"T_ccd5b_row7_col7\" class=\"data row7 col7\" >0.8392</td>\n      <td id=\"T_ccd5b_row7_col8\" class=\"data row7 col8\" >0.0050</td>\n    </tr>\n    <tr>\n      <th id=\"T_ccd5b_level0_row8\" class=\"row_heading level0 row8\" >dt</th>\n      <td id=\"T_ccd5b_row8_col0\" class=\"data row8 col0\" >Decision Tree Classifier</td>\n      <td id=\"T_ccd5b_row8_col1\" class=\"data row8 col1\" >0.8839</td>\n      <td id=\"T_ccd5b_row8_col2\" class=\"data row8 col2\" >0.9117</td>\n      <td id=\"T_ccd5b_row8_col3\" class=\"data row8 col3\" >0.8839</td>\n      <td id=\"T_ccd5b_row8_col4\" class=\"data row8 col4\" >0.9086</td>\n      <td id=\"T_ccd5b_row8_col5\" class=\"data row8 col5\" >0.8808</td>\n      <td id=\"T_ccd5b_row8_col6\" class=\"data row8 col6\" >0.8259</td>\n      <td id=\"T_ccd5b_row8_col7\" class=\"data row8 col7\" >0.8399</td>\n      <td id=\"T_ccd5b_row8_col8\" class=\"data row8 col8\" >0.0040</td>\n    </tr>\n    <tr>\n      <th id=\"T_ccd5b_level0_row9\" class=\"row_heading level0 row9\" >svm</th>\n      <td id=\"T_ccd5b_row9_col0\" class=\"data row9 col0\" >SVM - Linear Kernel</td>\n      <td id=\"T_ccd5b_row9_col1\" class=\"data row9 col1\" >0.8732</td>\n      <td id=\"T_ccd5b_row9_col2\" class=\"data row9 col2\" >0.0000</td>\n      <td id=\"T_ccd5b_row9_col3\" class=\"data row9 col3\" >0.8732</td>\n      <td id=\"T_ccd5b_row9_col4\" class=\"data row9 col4\" >0.8726</td>\n      <td id=\"T_ccd5b_row9_col5\" class=\"data row9 col5\" >0.8541</td>\n      <td id=\"T_ccd5b_row9_col6\" class=\"data row9 col6\" >0.8069</td>\n      <td id=\"T_ccd5b_row9_col7\" class=\"data row9 col7\" >0.8323</td>\n      <td id=\"T_ccd5b_row9_col8\" class=\"data row9 col8\" >0.0090</td>\n    </tr>\n    <tr>\n      <th id=\"T_ccd5b_level0_row10\" class=\"row_heading level0 row10\" >xgboost</th>\n      <td id=\"T_ccd5b_row10_col0\" class=\"data row10 col0\" >Extreme Gradient Boosting</td>\n      <td id=\"T_ccd5b_row10_col1\" class=\"data row10 col1\" >0.8696</td>\n      <td id=\"T_ccd5b_row10_col2\" class=\"data row10 col2\" >0.9755</td>\n      <td id=\"T_ccd5b_row10_col3\" class=\"data row10 col3\" >0.8696</td>\n      <td id=\"T_ccd5b_row10_col4\" class=\"data row10 col4\" >0.8635</td>\n      <td id=\"T_ccd5b_row10_col5\" class=\"data row10 col5\" >0.8567</td>\n      <td id=\"T_ccd5b_row10_col6\" class=\"data row10 col6\" >0.8003</td>\n      <td id=\"T_ccd5b_row10_col7\" class=\"data row10 col7\" >0.8153</td>\n      <td id=\"T_ccd5b_row10_col8\" class=\"data row10 col8\" >0.0090</td>\n    </tr>\n    <tr>\n      <th id=\"T_ccd5b_level0_row11\" class=\"row_heading level0 row11\" >catboost</th>\n      <td id=\"T_ccd5b_row11_col0\" class=\"data row11 col0\" >CatBoost Classifier</td>\n      <td id=\"T_ccd5b_row11_col1\" class=\"data row11 col1\" >0.8607</td>\n      <td id=\"T_ccd5b_row11_col2\" class=\"data row11 col2\" >0.9779</td>\n      <td id=\"T_ccd5b_row11_col3\" class=\"data row11 col3\" >0.8607</td>\n      <td id=\"T_ccd5b_row11_col4\" class=\"data row11 col4\" >0.8768</td>\n      <td id=\"T_ccd5b_row11_col5\" class=\"data row11 col5\" >0.8571</td>\n      <td id=\"T_ccd5b_row11_col6\" class=\"data row11 col6\" >0.7865</td>\n      <td id=\"T_ccd5b_row11_col7\" class=\"data row11 col7\" >0.7974</td>\n      <td id=\"T_ccd5b_row11_col8\" class=\"data row11 col8\" >0.1390</td>\n    </tr>\n    <tr>\n      <th id=\"T_ccd5b_level0_row12\" class=\"row_heading level0 row12\" >gbc</th>\n      <td id=\"T_ccd5b_row12_col0\" class=\"data row12 col0\" >Gradient Boosting Classifier</td>\n      <td id=\"T_ccd5b_row12_col1\" class=\"data row12 col1\" >0.8589</td>\n      <td id=\"T_ccd5b_row12_col2\" class=\"data row12 col2\" >0.9708</td>\n      <td id=\"T_ccd5b_row12_col3\" class=\"data row12 col3\" >0.8589</td>\n      <td id=\"T_ccd5b_row12_col4\" class=\"data row12 col4\" >0.8766</td>\n      <td id=\"T_ccd5b_row12_col5\" class=\"data row12 col5\" >0.8565</td>\n      <td id=\"T_ccd5b_row12_col6\" class=\"data row12 col6\" >0.7848</td>\n      <td id=\"T_ccd5b_row12_col7\" class=\"data row12 col7\" >0.7960</td>\n      <td id=\"T_ccd5b_row12_col8\" class=\"data row12 col8\" >0.0260</td>\n    </tr>\n    <tr>\n      <th id=\"T_ccd5b_level0_row13\" class=\"row_heading level0 row13\" >ada</th>\n      <td id=\"T_ccd5b_row13_col0\" class=\"data row13 col0\" >Ada Boost Classifier</td>\n      <td id=\"T_ccd5b_row13_col1\" class=\"data row13 col1\" >0.8054</td>\n      <td id=\"T_ccd5b_row13_col2\" class=\"data row13 col2\" >0.9483</td>\n      <td id=\"T_ccd5b_row13_col3\" class=\"data row13 col3\" >0.8054</td>\n      <td id=\"T_ccd5b_row13_col4\" class=\"data row13 col4\" >0.7793</td>\n      <td id=\"T_ccd5b_row13_col5\" class=\"data row13 col5\" >0.7785</td>\n      <td id=\"T_ccd5b_row13_col6\" class=\"data row13 col6\" >0.7079</td>\n      <td id=\"T_ccd5b_row13_col7\" class=\"data row13 col7\" >0.7438</td>\n      <td id=\"T_ccd5b_row13_col8\" class=\"data row13 col8\" >0.0130</td>\n    </tr>\n    <tr>\n      <th id=\"T_ccd5b_level0_row14\" class=\"row_heading level0 row14\" >ridge</th>\n      <td id=\"T_ccd5b_row14_col0\" class=\"data row14 col0\" >Ridge Classifier</td>\n      <td id=\"T_ccd5b_row14_col1\" class=\"data row14 col1\" >0.7821</td>\n      <td id=\"T_ccd5b_row14_col2\" class=\"data row14 col2\" >0.0000</td>\n      <td id=\"T_ccd5b_row14_col3\" class=\"data row14 col3\" >0.7821</td>\n      <td id=\"T_ccd5b_row14_col4\" class=\"data row14 col4\" >0.7863</td>\n      <td id=\"T_ccd5b_row14_col5\" class=\"data row14 col5\" >0.7505</td>\n      <td id=\"T_ccd5b_row14_col6\" class=\"data row14 col6\" >0.6665</td>\n      <td id=\"T_ccd5b_row14_col7\" class=\"data row14 col7\" >0.7131</td>\n      <td id=\"T_ccd5b_row14_col8\" class=\"data row14 col8\" >0.0040</td>\n    </tr>\n    <tr>\n      <th id=\"T_ccd5b_level0_row15\" class=\"row_heading level0 row15\" >dummy</th>\n      <td id=\"T_ccd5b_row15_col0\" class=\"data row15 col0\" >Dummy Classifier</td>\n      <td id=\"T_ccd5b_row15_col1\" class=\"data row15 col1\" >0.3857</td>\n      <td id=\"T_ccd5b_row15_col2\" class=\"data row15 col2\" >0.5000</td>\n      <td id=\"T_ccd5b_row15_col3\" class=\"data row15 col3\" >0.3857</td>\n      <td id=\"T_ccd5b_row15_col4\" class=\"data row15 col4\" >0.1492</td>\n      <td id=\"T_ccd5b_row15_col5\" class=\"data row15 col5\" >0.2151</td>\n      <td id=\"T_ccd5b_row15_col6\" class=\"data row15 col6\" >0.0000</td>\n      <td id=\"T_ccd5b_row15_col7\" class=\"data row15 col7\" >0.0000</td>\n      <td id=\"T_ccd5b_row15_col8\" class=\"data row15 col8\" >0.0050</td>\n    </tr>\n  </tbody>\n</table>\n"
     },
     "metadata": {},
     "output_type": "display_data"
    }
   ],
   "source": [
    "best_model = compare_models()"
   ],
   "metadata": {
    "collapsed": false,
    "ExecuteTime": {
     "end_time": "2024-02-11T14:46:14.026019Z",
     "start_time": "2024-02-11T14:46:06.842701Z"
    }
   },
   "id": "b15802c2a1f8dbf9",
   "execution_count": 43
  },
  {
   "cell_type": "code",
   "outputs": [
    {
     "data": {
      "text/plain": "<pandas.io.formats.style.Styler at 0x28a862be0>",
      "text/html": "<style type=\"text/css\">\n</style>\n<table id=\"T_5ff5e\">\n  <thead>\n    <tr>\n      <th class=\"blank level0\" >&nbsp;</th>\n      <th id=\"T_5ff5e_level0_col0\" class=\"col_heading level0 col0\" >Model</th>\n      <th id=\"T_5ff5e_level0_col1\" class=\"col_heading level0 col1\" >Accuracy</th>\n      <th id=\"T_5ff5e_level0_col2\" class=\"col_heading level0 col2\" >AUC</th>\n      <th id=\"T_5ff5e_level0_col3\" class=\"col_heading level0 col3\" >Recall</th>\n      <th id=\"T_5ff5e_level0_col4\" class=\"col_heading level0 col4\" >Prec.</th>\n      <th id=\"T_5ff5e_level0_col5\" class=\"col_heading level0 col5\" >F1</th>\n      <th id=\"T_5ff5e_level0_col6\" class=\"col_heading level0 col6\" >Kappa</th>\n      <th id=\"T_5ff5e_level0_col7\" class=\"col_heading level0 col7\" >MCC</th>\n    </tr>\n  </thead>\n  <tbody>\n    <tr>\n      <th id=\"T_5ff5e_level0_row0\" class=\"row_heading level0 row0\" >0</th>\n      <td id=\"T_5ff5e_row0_col0\" class=\"data row0 col0\" >Light Gradient Boosting Machine</td>\n      <td id=\"T_5ff5e_row0_col1\" class=\"data row0 col1\" >0.9737</td>\n      <td id=\"T_5ff5e_row0_col2\" class=\"data row0 col2\" >0.9962</td>\n      <td id=\"T_5ff5e_row0_col3\" class=\"data row0 col3\" >0.9737</td>\n      <td id=\"T_5ff5e_row0_col4\" class=\"data row0 col4\" >0.9756</td>\n      <td id=\"T_5ff5e_row0_col5\" class=\"data row0 col5\" >0.9732</td>\n      <td id=\"T_5ff5e_row0_col6\" class=\"data row0 col6\" >0.9576</td>\n      <td id=\"T_5ff5e_row0_col7\" class=\"data row0 col7\" >0.9587</td>\n    </tr>\n  </tbody>\n</table>\n"
     },
     "metadata": {},
     "output_type": "display_data"
    },
    {
     "name": "stdout",
     "output_type": "stream",
     "text": [
      "    feature1  feature2  target  prediction_label  prediction_score\n",
      "0  -2.834881  0.538983     0.0                 0            0.9971\n",
      "1   0.103754 -0.497286     1.0                 1            0.9921\n",
      "2   0.562283 -0.159978     1.0                 1            0.9493\n",
      "3   1.160491 -0.578199     2.0                 2            0.9408\n",
      "4   0.974483  0.409830     1.0                 1            0.6125\n",
      "5   0.389005 -0.410934     1.0                 1            0.9952\n",
      "6   0.557099  0.195389     1.0                 1            0.9753\n",
      "7   1.700075  0.039079     2.0                 2            0.9905\n",
      "8  -2.841472  1.119448     0.0                 0            0.9971\n",
      "9   0.108390 -0.061989     1.0                 1            0.9943\n",
      "10 -0.556774 -0.355286     1.0                 1            0.9991\n",
      "11  0.682306  0.471210     1.0                 1            0.9678\n",
      "12 -2.964343 -0.148855     0.0                 0            0.9994\n",
      "13 -0.960827 -0.998023     1.0                 1            0.8296\n",
      "14 -2.885941  1.204906     0.0                 0            0.9971\n",
      "15 -2.791181  0.456778     0.0                 0            0.9971\n",
      "16  0.407042 -0.349156     1.0                 1            0.9951\n",
      "17 -2.717971  0.155098     0.0                 0            0.9992\n",
      "18  1.871796 -0.217501     2.0                 2            0.9959\n",
      "19 -3.477160 -0.480636     0.0                 0            0.9922\n",
      "20 -3.139726 -0.116684     0.0                 0            0.9994\n",
      "21 -0.425789 -0.247223     1.0                 1            0.9938\n",
      "22 -2.756487 -0.118064     0.0                 0            0.9994\n",
      "23 -2.965564 -0.223658     0.0                 0            0.9989\n",
      "24 -3.250046 -0.313263     0.0                 0            0.9922\n",
      "25 -2.784893  0.530891     0.0                 0            0.9971\n",
      "26 -2.997269 -0.289874     0.0                 0            0.9922\n",
      "27  2.179720  0.365927     2.0                 2            0.9481\n",
      "28  1.137270 -0.284610     2.0                 1            0.7610\n",
      "29 -2.922502 -0.084018     0.0                 0            0.9992\n",
      "30  2.670722  0.766198     2.0                 2            0.9414\n",
      "31 -3.140062 -0.549417     0.0                 0            0.9839\n",
      "32  1.041103  0.688615     1.0                 1            0.6017\n",
      "33  1.137722 -0.206554     2.0                 2            0.7129\n",
      "34 -2.837845  0.256545     0.0                 0            0.9971\n",
      "35 -2.443159  0.897408     0.0                 0            0.9087\n",
      "36 -3.018296  0.289406     0.0                 0            0.9977\n",
      "37  0.564840 -0.365049     1.0                 1            0.9951\n"
     ]
    }
   ],
   "source": [
    "# Прогнозирование на новых данных\n",
    "new_X_pca = pca.transform(X_test)\n",
    "new_data = pd.DataFrame(np.concatenate((new_X_pca, y_test.reshape(-1, 1)), axis=1),\n",
    "                        columns=['feature1', 'feature2', 'target'])\n",
    "predictions = predict_model(best_model, data=new_data)\n",
    "\n",
    "print(predictions)"
   ],
   "metadata": {
    "collapsed": false,
    "ExecuteTime": {
     "end_time": "2024-02-11T14:46:14.138936Z",
     "start_time": "2024-02-11T14:46:14.022368Z"
    }
   },
   "id": "f686a62333c0c4a8",
   "execution_count": 44
  }
 ],
 "metadata": {
  "kernelspec": {
   "display_name": "Python 3",
   "language": "python",
   "name": "python3"
  },
  "language_info": {
   "codemirror_mode": {
    "name": "ipython",
    "version": 2
   },
   "file_extension": ".py",
   "mimetype": "text/x-python",
   "name": "python",
   "nbconvert_exporter": "python",
   "pygments_lexer": "ipython2",
   "version": "2.7.6"
  }
 },
 "nbformat": 4,
 "nbformat_minor": 5
}
