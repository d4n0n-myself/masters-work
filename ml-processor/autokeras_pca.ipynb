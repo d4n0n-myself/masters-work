{
 "cells": [
  {
   "cell_type": "code",
   "outputs": [
    {
     "name": "stdout",
     "output_type": "stream",
     "text": [
      "Using TensorFlow backend\n",
      "[[4.4 3.  1.3 0.2]\n",
      " [7.2 3.6 6.1 2.5]\n",
      " [5.1 3.5 1.4 0.3]\n",
      " [7.7 2.8 6.7 2. ]\n",
      " [6.7 2.5 5.8 1.8]\n",
      " [6.1 2.9 4.7 1.4]\n",
      " [6.7 3.3 5.7 2.5]\n",
      " [6.6 3.  4.4 1.4]\n",
      " [7.  3.2 4.7 1.4]\n",
      " [4.9 2.5 4.5 1.7]]\n"
     ]
    }
   ],
   "source": [
    "import numpy as np\n",
    "import pandas as pd\n",
    "import autokeras as ak\n",
    "from sklearn.datasets import load_iris\n",
    "from sklearn.decomposition import PCA\n",
    "from sklearn.model_selection import train_test_split\n",
    "\n",
    "# Загрузка датасета Iris\n",
    "iris = load_iris()\n",
    "# Разделение данных на обучающий и тестовый наборы\n",
    "x_train, X_test, y_train, y_test = train_test_split(iris.data, iris.target, train_size=0.75, test_size=0.25)\n",
    "\n",
    "print(x_train[:10])"
   ],
   "metadata": {
    "collapsed": false,
    "ExecuteTime": {
     "end_time": "2024-02-20T20:23:50.889722Z",
     "start_time": "2024-02-20T20:23:47.182557Z"
    }
   },
   "id": "c7a730feffd379e7",
   "execution_count": 1
  },
  {
   "cell_type": "code",
   "outputs": [
    {
     "name": "stdout",
     "output_type": "stream",
     "text": [
      "[[-3.05019095 -0.42083567]\n",
      " [ 2.87156317  0.7313495 ]\n",
      " [-2.70235844  0.37298317]\n",
      " [ 3.44673919  0.40273893]\n",
      " [ 2.25466273 -0.27937481]\n",
      " [ 0.92154689 -0.13625065]\n",
      " [ 2.36422697  0.26350703]\n",
      " [ 0.84514007  0.32171132]\n",
      " [ 1.23668883  0.67080655]\n",
      " [ 0.43776308 -1.19824336]]\n"
     ]
    }
   ],
   "source": [
    "# Применение PCA на обучающем наборе\n",
    "pca = PCA(n_components=2)\n",
    "X_train_pca = pca.fit_transform(x_train)\n",
    "print(X_train_pca[:10])"
   ],
   "metadata": {
    "collapsed": false,
    "ExecuteTime": {
     "end_time": "2024-02-20T20:23:50.895880Z",
     "start_time": "2024-02-20T20:23:50.890003Z"
    }
   },
   "id": "f0810746ce36007",
   "execution_count": 2
  },
  {
   "cell_type": "code",
   "outputs": [],
   "source": [
    "# Создание нового датасета с использованием новых признаков\n",
    "new_data = np.concatenate((X_train_pca, y_train.reshape(-1, 1)), axis=1)\n",
    "new_data = pd.DataFrame(new_data, columns=['feature1', 'feature2', 'target'])"
   ],
   "metadata": {
    "collapsed": false,
    "ExecuteTime": {
     "end_time": "2024-02-20T20:23:50.900434Z",
     "start_time": "2024-02-20T20:23:50.894459Z"
    }
   },
   "id": "676ebe95dc792a09",
   "execution_count": 3
  },
  {
   "cell_type": "code",
   "outputs": [],
   "source": [
    "# Initialize the structured data classifier.\n",
    "clf = ak.StructuredDataClassifier(\n",
    "    overwrite=True, max_trials=10\n",
    ")  # It tries 10 different models."
   ],
   "metadata": {
    "collapsed": false,
    "ExecuteTime": {
     "end_time": "2024-02-20T20:23:50.925727Z",
     "start_time": "2024-02-20T20:23:50.902733Z"
    }
   },
   "id": "228770574415a4ff",
   "execution_count": 4
  },
  {
   "cell_type": "code",
   "outputs": [],
   "source": [
    "# Feed the structured data classifier with training data.\n",
    "clf.fit(\n",
    "    X_train_pca,\n",
    "    y_train,\n",
    "    epochs=50,\n",
    ")"
   ],
   "metadata": {
    "collapsed": false
   },
   "id": "f1c0898f3110247",
   "execution_count": null
  },
  {
   "cell_type": "code",
   "outputs": [
    {
     "name": "stderr",
     "output_type": "stream",
     "text": [
      "WARNING:absl:At this time, the v2.11+ optimizer `tf.keras.optimizers.RestoredOptimizer` runs slowly on M1/M2 Macs, please use the legacy Keras optimizer instead, located at `tf.keras.optimizers.legacy.RestoredOptimizer`.\n",
      "WARNING:absl:At this time, the v2.11+ optimizer `tf.keras.optimizers.Adam` runs slowly on M1/M2 Macs, please use the legacy Keras optimizer instead, located at `tf.keras.optimizers.legacy.Adam`.\n"
     ]
    },
    {
     "name": "stdout",
     "output_type": "stream",
     "text": [
      "2/2 [==============================] - 0s 1ms/step\n",
      "2/2 [==============================] - 0s 1ms/step\n",
      "[['2']\n",
      " ['2']\n",
      " ['0']\n",
      " ['0']\n",
      " ['2']\n",
      " ['0']\n",
      " ['1']\n",
      " ['1']\n",
      " ['0']\n",
      " ['0']\n",
      " ['1']\n",
      " ['0']\n",
      " ['0']\n",
      " ['2']\n",
      " ['1']\n",
      " ['1']\n",
      " ['0']\n",
      " ['1']\n",
      " ['2']\n",
      " ['2']\n",
      " ['1']\n",
      " ['1']\n",
      " ['0']\n",
      " ['0']\n",
      " ['0']\n",
      " ['0']\n",
      " ['1']\n",
      " ['1']\n",
      " ['0']\n",
      " ['2']\n",
      " ['2']\n",
      " ['1']\n",
      " ['0']\n",
      " ['2']\n",
      " ['2']\n",
      " ['1']\n",
      " ['1']\n",
      " ['2']]\n"
     ]
    }
   ],
   "source": [
    "# Прогнозирование на новых данных\n",
    "X_test_pca = pca.transform(X_test)\n",
    "predict_res = clf.predict(X_test_pca)\n",
    "print(predict_res)"
   ],
   "metadata": {
    "collapsed": false,
    "ExecuteTime": {
     "end_time": "2024-02-20T20:24:20.477693Z",
     "start_time": "2024-02-20T20:24:20.228120Z"
    }
   },
   "id": "8dedd4b9f1139096",
   "execution_count": 6
  },
  {
   "cell_type": "code",
   "outputs": [
    {
     "name": "stderr",
     "output_type": "stream",
     "text": [
      "WARNING:absl:At this time, the v2.11+ optimizer `tf.keras.optimizers.RestoredOptimizer` runs slowly on M1/M2 Macs, please use the legacy Keras optimizer instead, located at `tf.keras.optimizers.legacy.RestoredOptimizer`.\n",
      "WARNING:absl:At this time, the v2.11+ optimizer `tf.keras.optimizers.Adam` runs slowly on M1/M2 Macs, please use the legacy Keras optimizer instead, located at `tf.keras.optimizers.legacy.Adam`.\n"
     ]
    },
    {
     "name": "stdout",
     "output_type": "stream",
     "text": [
      "2/2 [==============================] - 0s 2ms/step - loss: 0.2462 - accuracy: 0.9211\n",
      "[0.24616986513137817, 0.9210526347160339]\n"
     ]
    }
   ],
   "source": [
    "# Evaluate the best model with testing data.\n",
    "eval_res = clf.evaluate(X_test_pca, y_test)\n",
    "print(eval_res)"
   ],
   "metadata": {
    "collapsed": false,
    "ExecuteTime": {
     "end_time": "2024-02-20T20:24:20.763738Z",
     "start_time": "2024-02-20T20:24:20.478634Z"
    }
   },
   "id": "565371b3fdcd8929",
   "execution_count": 7
  },
  {
   "cell_type": "code",
   "outputs": [
    {
     "name": "stderr",
     "output_type": "stream",
     "text": [
      "WARNING:absl:At this time, the v2.11+ optimizer `tf.keras.optimizers.RestoredOptimizer` runs slowly on M1/M2 Macs, please use the legacy Keras optimizer instead, located at `tf.keras.optimizers.legacy.RestoredOptimizer`.\n",
      "WARNING:absl:At this time, the v2.11+ optimizer `tf.keras.optimizers.Adam` runs slowly on M1/M2 Macs, please use the legacy Keras optimizer instead, located at `tf.keras.optimizers.legacy.Adam`.\n"
     ]
    },
    {
     "name": "stdout",
     "output_type": "stream",
     "text": [
      "Model: \"model\"\n",
      "_________________________________________________________________\n",
      " Layer (type)                Output Shape              Param #   \n",
      "=================================================================\n",
      " input_1 (InputLayer)        [(None, 2)]               0         \n",
      "                                                                 \n",
      " multi_category_encoding (M  (None, 2)                 0         \n",
      " ultiCategoryEncoding)                                           \n",
      "                                                                 \n",
      " normalization (Normalizati  (None, 2)                 5         \n",
      " on)                                                             \n",
      "                                                                 \n",
      " dense (Dense)               (None, 32)                96        \n",
      "                                                                 \n",
      " batch_normalization (Batch  (None, 32)                128       \n",
      " Normalization)                                                  \n",
      "                                                                 \n",
      " re_lu (ReLU)                (None, 32)                0         \n",
      "                                                                 \n",
      " dense_1 (Dense)             (None, 32)                1056      \n",
      "                                                                 \n",
      " batch_normalization_1 (Bat  (None, 32)                128       \n",
      " chNormalization)                                                \n",
      "                                                                 \n",
      " re_lu_1 (ReLU)              (None, 32)                0         \n",
      "                                                                 \n",
      " dense_2 (Dense)             (None, 3)                 99        \n",
      "                                                                 \n",
      " classification_head_1 (Sof  (None, 3)                 0         \n",
      " tmax)                                                           \n",
      "                                                                 \n",
      "=================================================================\n",
      "Total params: 1512 (5.91 KB)\n",
      "Trainable params: 1379 (5.39 KB)\n",
      "Non-trainable params: 133 (536.00 Byte)\n",
      "_________________________________________________________________\n"
     ]
    }
   ],
   "source": [
    "model = clf.export_model()\n",
    "model.summary()"
   ],
   "metadata": {
    "collapsed": false,
    "ExecuteTime": {
     "end_time": "2024-02-20T20:24:20.948289Z",
     "start_time": "2024-02-20T20:24:20.763114Z"
    }
   },
   "id": "c589850162adaf80",
   "execution_count": 8
  }
 ],
 "metadata": {
  "kernelspec": {
   "display_name": "Python 3",
   "language": "python",
   "name": "python3"
  },
  "language_info": {
   "codemirror_mode": {
    "name": "ipython",
    "version": 2
   },
   "file_extension": ".py",
   "mimetype": "text/x-python",
   "name": "python",
   "nbconvert_exporter": "python",
   "pygments_lexer": "ipython2",
   "version": "2.7.6"
  }
 },
 "nbformat": 4,
 "nbformat_minor": 5
}
