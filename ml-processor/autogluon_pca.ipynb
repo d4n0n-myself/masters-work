{
 "cells": [
  {
   "cell_type": "code",
   "outputs": [
    {
     "name": "stdout",
     "output_type": "stream",
     "text": [
      "[[5.9 3.  4.2 1.5]\n",
      " [5.8 2.6 4.  1.2]\n",
      " [6.8 3.  5.5 2.1]\n",
      " [4.7 3.2 1.3 0.2]\n",
      " [6.9 3.1 5.1 2.3]\n",
      " [5.  3.5 1.6 0.6]\n",
      " [5.4 3.7 1.5 0.2]\n",
      " [5.  2.  3.5 1. ]\n",
      " [6.5 3.  5.5 1.8]\n",
      " [6.7 3.3 5.7 2.5]]\n"
     ]
    }
   ],
   "source": [
    "import numpy as np\n",
    "import pandas as pd\n",
    "from sklearn.datasets import load_iris\n",
    "from sklearn.decomposition import PCA\n",
    "from sklearn.model_selection import train_test_split\n",
    "from autogluon.tabular import TabularPredictor\n",
    "\n",
    "# Загрузка датасета Iris\n",
    "iris = load_iris()\n",
    "# Разделение данных на обучающий и тестовый наборы\n",
    "X_train, X_test, y_train, y_test = train_test_split(iris.data, iris.target, train_size=0.75, test_size=0.25)\n",
    "\n",
    "print(X_train[:10])"
   ],
   "metadata": {
    "collapsed": false,
    "ExecuteTime": {
     "end_time": "2024-02-11T14:39:36.091836Z",
     "start_time": "2024-02-11T14:39:36.072153Z"
    }
   },
   "id": "c7a730feffd379e7",
   "execution_count": 63
  },
  {
   "cell_type": "code",
   "outputs": [
    {
     "name": "stdout",
     "output_type": "stream",
     "text": [
      "[[ 0.45149168 -0.12650805]\n",
      " [ 0.16235194 -0.43115786]\n",
      " [ 2.11263303  0.14898743]\n",
      " [-2.94949688 -0.08892385]\n",
      " [ 1.87495486  0.34554795]\n",
      " [-2.45736119  0.23886415]\n",
      " [-2.54886975  0.68862204]\n",
      " [-0.59653901 -1.27590863]\n",
      " [ 1.89191153 -0.01527315]\n",
      " [ 2.36903557  0.24564653]]\n"
     ]
    }
   ],
   "source": [
    "# Применение PCA\n",
    "pca = PCA(n_components=2)\n",
    "X_pca = pca.fit_transform(X_train)\n",
    "print(X_pca[:10])"
   ],
   "metadata": {
    "collapsed": false,
    "ExecuteTime": {
     "end_time": "2024-02-11T14:39:36.092312Z",
     "start_time": "2024-02-11T14:39:36.083631Z"
    }
   },
   "id": "f0810746ce36007",
   "execution_count": 64
  },
  {
   "cell_type": "code",
   "outputs": [],
   "source": [
    "# Создание нового датасета с использованием новых признаков\n",
    "new_data = np.concatenate((X_pca, y_train.reshape(-1, 1)), axis=1)\n",
    "new_data = pd.DataFrame(new_data, columns=['feature1', 'feature2', 'target'])"
   ],
   "metadata": {
    "collapsed": false,
    "ExecuteTime": {
     "end_time": "2024-02-11T14:39:36.094048Z",
     "start_time": "2024-02-11T14:39:36.091519Z"
    }
   },
   "id": "676ebe95dc792a09",
   "execution_count": 65
  },
  {
   "cell_type": "code",
   "outputs": [
    {
     "name": "stderr",
     "output_type": "stream",
     "text": [
      "No path specified. Models will be saved in: \"AutogluonModels/ag-20240211_143936\"\n",
      "Presets specified: ['medium_quality']\n",
      "Beginning AutoGluon training ...\n",
      "AutoGluon will save models to \"AutogluonModels/ag-20240211_143936\"\n",
      "=================== System Info ===================\n",
      "AutoGluon Version:  1.0.0\n",
      "Python Version:     3.9.6\n",
      "Operating System:   Darwin\n",
      "Platform Machine:   arm64\n",
      "Platform Version:   Darwin Kernel Version 21.6.0: Mon Dec 19 20:46:01 PST 2022; root:xnu-8020.240.18~2/RELEASE_ARM64_T8101\n",
      "CPU Count:          8\n",
      "Memory Avail:       6.21 GB / 16.00 GB (38.8%)\n",
      "Disk Space Avail:   56.41 GB / 228.27 GB (24.7%)\n",
      "===================================================\n",
      "Train Data Rows:    112\n",
      "Train Data Columns: 2\n",
      "Label Column:       target\n",
      "AutoGluon infers your prediction problem is: 'multiclass' (because dtype of label-column == float, but few unique label-values observed and label-values can be converted to int).\n",
      "\t3 unique label values:  [1.0, 2.0, 0.0]\n",
      "\tIf 'multiclass' is not the correct problem_type, please manually specify the problem_type parameter during predictor init (You may specify problem_type as one of: ['binary', 'multiclass', 'regression'])\n",
      "Problem Type:       multiclass\n",
      "Preprocessing data ...\n",
      "Train Data Class Count: 3\n",
      "Using Feature Generators to preprocess the data ...\n",
      "Fitting AutoMLPipelineFeatureGenerator...\n",
      "\tAvailable Memory:                    6364.27 MB\n",
      "\tTrain Data (Original)  Memory Usage: 0.00 MB (0.0% of available memory)\n",
      "\tInferring data type of each feature based on column values. Set feature_metadata_in to manually specify special dtypes of the features.\n",
      "\tStage 1 Generators:\n",
      "\t\tFitting AsTypeFeatureGenerator...\n",
      "\tStage 2 Generators:\n",
      "\t\tFitting FillNaFeatureGenerator...\n",
      "\tStage 3 Generators:\n",
      "\t\tFitting IdentityFeatureGenerator...\n",
      "\tStage 4 Generators:\n",
      "\t\tFitting DropUniqueFeatureGenerator...\n",
      "\tStage 5 Generators:\n",
      "\t\tFitting DropDuplicatesFeatureGenerator...\n",
      "\tTypes of features in original data (raw dtype, special dtypes):\n",
      "\t\t('float', []) : 2 | ['feature1', 'feature2']\n",
      "\tTypes of features in processed data (raw dtype, special dtypes):\n",
      "\t\t('float', []) : 2 | ['feature1', 'feature2']\n",
      "\t0.0s = Fit runtime\n",
      "\t2 features in original data used to generate 2 features in processed data.\n",
      "\tTrain Data (Processed) Memory Usage: 0.00 MB (0.0% of available memory)\n",
      "Data preprocessing and feature engineering runtime = 0.03s ...\n",
      "AutoGluon will gauge predictive performance using evaluation metric: 'accuracy'\n",
      "\tTo change this, specify the eval_metric parameter of Predictor()\n",
      "Automatically generating train/validation split with holdout_frac=0.2, Train Rows: 89, Val Rows: 23\n",
      "User-specified model hyperparameters to be fit:\n",
      "{\n",
      "\t'NN_TORCH': {},\n",
      "\t'GBM': [{'extra_trees': True, 'ag_args': {'name_suffix': 'XT'}}, {}, 'GBMLarge'],\n",
      "\t'CAT': {},\n",
      "\t'XGB': {},\n",
      "\t'FASTAI': {},\n",
      "\t'RF': [{'criterion': 'gini', 'ag_args': {'name_suffix': 'Gini', 'problem_types': ['binary', 'multiclass']}}, {'criterion': 'entropy', 'ag_args': {'name_suffix': 'Entr', 'problem_types': ['binary', 'multiclass']}}, {'criterion': 'squared_error', 'ag_args': {'name_suffix': 'MSE', 'problem_types': ['regression', 'quantile']}}],\n",
      "\t'XT': [{'criterion': 'gini', 'ag_args': {'name_suffix': 'Gini', 'problem_types': ['binary', 'multiclass']}}, {'criterion': 'entropy', 'ag_args': {'name_suffix': 'Entr', 'problem_types': ['binary', 'multiclass']}}, {'criterion': 'squared_error', 'ag_args': {'name_suffix': 'MSE', 'problem_types': ['regression', 'quantile']}}],\n",
      "\t'KNN': [{'weights': 'uniform', 'ag_args': {'name_suffix': 'Unif'}}, {'weights': 'distance', 'ag_args': {'name_suffix': 'Dist'}}],\n",
      "}\n",
      "Fitting 13 L1 models ...\n",
      "Fitting model: KNeighborsUnif ...\n",
      "\t1.0\t = Validation score   (accuracy)\n",
      "\t0.01s\t = Training   runtime\n",
      "\t0.02s\t = Validation runtime\n",
      "Fitting model: KNeighborsDist ...\n",
      "\t1.0\t = Validation score   (accuracy)\n",
      "\t0.0s\t = Training   runtime\n",
      "\t0.01s\t = Validation runtime\n",
      "Fitting model: NeuralNetFastAI ...\n",
      "No improvement since epoch 7: early stopping\n",
      "\t1.0\t = Validation score   (accuracy)\n",
      "\t0.26s\t = Training   runtime\n",
      "\t0.0s\t = Validation runtime\n",
      "Fitting model: LightGBMXT ...\n",
      "\t0.9565\t = Validation score   (accuracy)\n",
      "\t0.42s\t = Training   runtime\n",
      "\t0.0s\t = Validation runtime\n",
      "Fitting model: LightGBM ...\n",
      "\t1.0\t = Validation score   (accuracy)\n",
      "\t0.56s\t = Training   runtime\n",
      "\t0.0s\t = Validation runtime\n",
      "Fitting model: RandomForestGini ...\n",
      "\t0.9565\t = Validation score   (accuracy)\n",
      "\t0.19s\t = Training   runtime\n",
      "\t0.01s\t = Validation runtime\n",
      "Fitting model: RandomForestEntr ...\n",
      "\t0.9565\t = Validation score   (accuracy)\n",
      "\t0.2s\t = Training   runtime\n",
      "\t0.02s\t = Validation runtime\n",
      "Fitting model: CatBoost ...\n",
      "\t1.0\t = Validation score   (accuracy)\n",
      "\t0.17s\t = Training   runtime\n",
      "\t0.0s\t = Validation runtime\n",
      "Fitting model: ExtraTreesGini ...\n",
      "\t1.0\t = Validation score   (accuracy)\n",
      "\t0.21s\t = Training   runtime\n",
      "\t0.03s\t = Validation runtime\n",
      "Fitting model: ExtraTreesEntr ...\n",
      "\t1.0\t = Validation score   (accuracy)\n",
      "\t0.2s\t = Training   runtime\n",
      "\t0.01s\t = Validation runtime\n",
      "Fitting model: XGBoost ...\n",
      "\t1.0\t = Validation score   (accuracy)\n",
      "\t0.2s\t = Training   runtime\n",
      "\t0.0s\t = Validation runtime\n",
      "Fitting model: NeuralNetTorch ...\n",
      "\t1.0\t = Validation score   (accuracy)\n",
      "\t0.23s\t = Training   runtime\n",
      "\t0.0s\t = Validation runtime\n",
      "Fitting model: LightGBMLarge ...\n",
      "\t1.0\t = Validation score   (accuracy)\n",
      "\t1.71s\t = Training   runtime\n",
      "\t0.0s\t = Validation runtime\n",
      "Fitting model: WeightedEnsemble_L2 ...\n",
      "\tEnsemble Weights: {'ExtraTreesGini': 1.0}\n",
      "\t1.0\t = Validation score   (accuracy)\n",
      "\t0.2s\t = Training   runtime\n",
      "\t0.0s\t = Validation runtime\n",
      "AutoGluon training complete, total runtime = 4.77s ... Best model: \"WeightedEnsemble_L2\"\n",
      "TabularPredictor saved. To load, use: predictor = TabularPredictor.load(\"AutogluonModels/ag-20240211_143936\")\n"
     ]
    }
   ],
   "source": [
    "# Создание и обучение модели с помощью AutoGluon\n",
    "predictor = TabularPredictor(label='target').fit(new_data, presets='medium_quality')\n",
    "# predictor = TabularPredictor.load(\"AutogluonModels/ag-20240209_065058\")"
   ],
   "metadata": {
    "collapsed": false,
    "ExecuteTime": {
     "end_time": "2024-02-11T14:39:40.884819Z",
     "start_time": "2024-02-11T14:39:36.098105Z"
    }
   },
   "id": "228770574415a4ff",
   "execution_count": 66
  },
  {
   "cell_type": "code",
   "outputs": [
    {
     "data": {
      "text/plain": "0    2.0\n1    1.0\n2    0.0\n3    2.0\n4    0.0\nName: target, dtype: float64"
     },
     "execution_count": 68,
     "metadata": {},
     "output_type": "execute_result"
    }
   ],
   "source": [
    "# Прогнозирование на новых данных\n",
    "new_X_pca = pca.transform(X_test)\n",
    "test_data = pd.DataFrame(np.concatenate((new_X_pca, y_test.reshape(-1, 1)), axis=1),\n",
    "                        columns=['feature1', 'feature2', 'target'])\n",
    "predictions = predictor.predict(test_data)\n",
    "\n",
    "predictions.head()"
   ],
   "metadata": {
    "collapsed": false,
    "ExecuteTime": {
     "end_time": "2024-02-11T14:41:47.610623Z",
     "start_time": "2024-02-11T14:41:47.569109Z"
    }
   },
   "id": "8dedd4b9f1139096",
   "execution_count": 68
  },
  {
   "cell_type": "code",
   "outputs": [
    {
     "data": {
      "text/plain": "{'accuracy': 1.0, 'balanced_accuracy': 1.0, 'mcc': 1.0}"
     },
     "execution_count": 69,
     "metadata": {},
     "output_type": "execute_result"
    }
   ],
   "source": [
    "predictor.evaluate(new_data, silent=True)"
   ],
   "metadata": {
    "collapsed": false,
    "ExecuteTime": {
     "end_time": "2024-02-11T14:41:51.132690Z",
     "start_time": "2024-02-11T14:41:51.071118Z"
    }
   },
   "id": "565371b3fdcd8929",
   "execution_count": 69
  },
  {
   "cell_type": "code",
   "outputs": [
    {
     "data": {
      "text/plain": "                  model  score_test  score_val eval_metric  pred_time_test  \\\n0         LightGBMLarge    1.000000   1.000000    accuracy        0.002503   \n1               XGBoost    1.000000   1.000000    accuracy        0.011064   \n2        KNeighborsDist    1.000000   1.000000    accuracy        0.015522   \n3        ExtraTreesGini    1.000000   1.000000    accuracy        0.031196   \n4        ExtraTreesEntr    1.000000   1.000000    accuracy        0.031352   \n5   WeightedEnsemble_L2    1.000000   1.000000    accuracy        0.032053   \n6      RandomForestEntr    0.991071   0.956522    accuracy        0.029763   \n7      RandomForestGini    0.991071   0.956522    accuracy        0.029972   \n8              LightGBM    0.982143   1.000000    accuracy        0.001380   \n9       NeuralNetFastAI    0.973214   1.000000    accuracy        0.011552   \n10       KNeighborsUnif    0.973214   1.000000    accuracy        0.017707   \n11       NeuralNetTorch    0.964286   1.000000    accuracy        0.002451   \n12           LightGBMXT    0.946429   0.956522    accuracy        0.001085   \n13             CatBoost    0.937500   1.000000    accuracy        0.000905   \n\n    pred_time_val  fit_time  pred_time_test_marginal  pred_time_val_marginal  \\\n0        0.000726  1.705303                 0.002503                0.000726   \n1        0.001213  0.195539                 0.011064                0.001213   \n2        0.012714  0.002239                 0.015522                0.012714   \n3        0.025854  0.206925                 0.031196                0.025854   \n4        0.013456  0.200014                 0.031352                0.013456   \n5        0.026095  0.406775                 0.000857                0.000241   \n6        0.024650  0.200557                 0.029763                0.024650   \n7        0.012879  0.185271                 0.029972                0.012879   \n8        0.000682  0.558241                 0.001380                0.000682   \n9        0.002980  0.263346                 0.011552                0.002980   \n10       0.017141  0.005077                 0.017707                0.017141   \n11       0.001405  0.232640                 0.002451                0.001405   \n12       0.001125  0.416156                 0.001085                0.001125   \n13       0.000536  0.172631                 0.000905                0.000536   \n\n    fit_time_marginal  stack_level  can_infer  fit_order  \n0            1.705303            1       True         13  \n1            0.195539            1       True         11  \n2            0.002239            1       True          2  \n3            0.206925            1       True          9  \n4            0.200014            1       True         10  \n5            0.199850            2       True         14  \n6            0.200557            1       True          7  \n7            0.185271            1       True          6  \n8            0.558241            1       True          5  \n9            0.263346            1       True          3  \n10           0.005077            1       True          1  \n11           0.232640            1       True         12  \n12           0.416156            1       True          4  \n13           0.172631            1       True          8  ",
      "text/html": "<div>\n<style scoped>\n    .dataframe tbody tr th:only-of-type {\n        vertical-align: middle;\n    }\n\n    .dataframe tbody tr th {\n        vertical-align: top;\n    }\n\n    .dataframe thead th {\n        text-align: right;\n    }\n</style>\n<table border=\"1\" class=\"dataframe\">\n  <thead>\n    <tr style=\"text-align: right;\">\n      <th></th>\n      <th>model</th>\n      <th>score_test</th>\n      <th>score_val</th>\n      <th>eval_metric</th>\n      <th>pred_time_test</th>\n      <th>pred_time_val</th>\n      <th>fit_time</th>\n      <th>pred_time_test_marginal</th>\n      <th>pred_time_val_marginal</th>\n      <th>fit_time_marginal</th>\n      <th>stack_level</th>\n      <th>can_infer</th>\n      <th>fit_order</th>\n    </tr>\n  </thead>\n  <tbody>\n    <tr>\n      <th>0</th>\n      <td>LightGBMLarge</td>\n      <td>1.000000</td>\n      <td>1.000000</td>\n      <td>accuracy</td>\n      <td>0.002503</td>\n      <td>0.000726</td>\n      <td>1.705303</td>\n      <td>0.002503</td>\n      <td>0.000726</td>\n      <td>1.705303</td>\n      <td>1</td>\n      <td>True</td>\n      <td>13</td>\n    </tr>\n    <tr>\n      <th>1</th>\n      <td>XGBoost</td>\n      <td>1.000000</td>\n      <td>1.000000</td>\n      <td>accuracy</td>\n      <td>0.011064</td>\n      <td>0.001213</td>\n      <td>0.195539</td>\n      <td>0.011064</td>\n      <td>0.001213</td>\n      <td>0.195539</td>\n      <td>1</td>\n      <td>True</td>\n      <td>11</td>\n    </tr>\n    <tr>\n      <th>2</th>\n      <td>KNeighborsDist</td>\n      <td>1.000000</td>\n      <td>1.000000</td>\n      <td>accuracy</td>\n      <td>0.015522</td>\n      <td>0.012714</td>\n      <td>0.002239</td>\n      <td>0.015522</td>\n      <td>0.012714</td>\n      <td>0.002239</td>\n      <td>1</td>\n      <td>True</td>\n      <td>2</td>\n    </tr>\n    <tr>\n      <th>3</th>\n      <td>ExtraTreesGini</td>\n      <td>1.000000</td>\n      <td>1.000000</td>\n      <td>accuracy</td>\n      <td>0.031196</td>\n      <td>0.025854</td>\n      <td>0.206925</td>\n      <td>0.031196</td>\n      <td>0.025854</td>\n      <td>0.206925</td>\n      <td>1</td>\n      <td>True</td>\n      <td>9</td>\n    </tr>\n    <tr>\n      <th>4</th>\n      <td>ExtraTreesEntr</td>\n      <td>1.000000</td>\n      <td>1.000000</td>\n      <td>accuracy</td>\n      <td>0.031352</td>\n      <td>0.013456</td>\n      <td>0.200014</td>\n      <td>0.031352</td>\n      <td>0.013456</td>\n      <td>0.200014</td>\n      <td>1</td>\n      <td>True</td>\n      <td>10</td>\n    </tr>\n    <tr>\n      <th>5</th>\n      <td>WeightedEnsemble_L2</td>\n      <td>1.000000</td>\n      <td>1.000000</td>\n      <td>accuracy</td>\n      <td>0.032053</td>\n      <td>0.026095</td>\n      <td>0.406775</td>\n      <td>0.000857</td>\n      <td>0.000241</td>\n      <td>0.199850</td>\n      <td>2</td>\n      <td>True</td>\n      <td>14</td>\n    </tr>\n    <tr>\n      <th>6</th>\n      <td>RandomForestEntr</td>\n      <td>0.991071</td>\n      <td>0.956522</td>\n      <td>accuracy</td>\n      <td>0.029763</td>\n      <td>0.024650</td>\n      <td>0.200557</td>\n      <td>0.029763</td>\n      <td>0.024650</td>\n      <td>0.200557</td>\n      <td>1</td>\n      <td>True</td>\n      <td>7</td>\n    </tr>\n    <tr>\n      <th>7</th>\n      <td>RandomForestGini</td>\n      <td>0.991071</td>\n      <td>0.956522</td>\n      <td>accuracy</td>\n      <td>0.029972</td>\n      <td>0.012879</td>\n      <td>0.185271</td>\n      <td>0.029972</td>\n      <td>0.012879</td>\n      <td>0.185271</td>\n      <td>1</td>\n      <td>True</td>\n      <td>6</td>\n    </tr>\n    <tr>\n      <th>8</th>\n      <td>LightGBM</td>\n      <td>0.982143</td>\n      <td>1.000000</td>\n      <td>accuracy</td>\n      <td>0.001380</td>\n      <td>0.000682</td>\n      <td>0.558241</td>\n      <td>0.001380</td>\n      <td>0.000682</td>\n      <td>0.558241</td>\n      <td>1</td>\n      <td>True</td>\n      <td>5</td>\n    </tr>\n    <tr>\n      <th>9</th>\n      <td>NeuralNetFastAI</td>\n      <td>0.973214</td>\n      <td>1.000000</td>\n      <td>accuracy</td>\n      <td>0.011552</td>\n      <td>0.002980</td>\n      <td>0.263346</td>\n      <td>0.011552</td>\n      <td>0.002980</td>\n      <td>0.263346</td>\n      <td>1</td>\n      <td>True</td>\n      <td>3</td>\n    </tr>\n    <tr>\n      <th>10</th>\n      <td>KNeighborsUnif</td>\n      <td>0.973214</td>\n      <td>1.000000</td>\n      <td>accuracy</td>\n      <td>0.017707</td>\n      <td>0.017141</td>\n      <td>0.005077</td>\n      <td>0.017707</td>\n      <td>0.017141</td>\n      <td>0.005077</td>\n      <td>1</td>\n      <td>True</td>\n      <td>1</td>\n    </tr>\n    <tr>\n      <th>11</th>\n      <td>NeuralNetTorch</td>\n      <td>0.964286</td>\n      <td>1.000000</td>\n      <td>accuracy</td>\n      <td>0.002451</td>\n      <td>0.001405</td>\n      <td>0.232640</td>\n      <td>0.002451</td>\n      <td>0.001405</td>\n      <td>0.232640</td>\n      <td>1</td>\n      <td>True</td>\n      <td>12</td>\n    </tr>\n    <tr>\n      <th>12</th>\n      <td>LightGBMXT</td>\n      <td>0.946429</td>\n      <td>0.956522</td>\n      <td>accuracy</td>\n      <td>0.001085</td>\n      <td>0.001125</td>\n      <td>0.416156</td>\n      <td>0.001085</td>\n      <td>0.001125</td>\n      <td>0.416156</td>\n      <td>1</td>\n      <td>True</td>\n      <td>4</td>\n    </tr>\n    <tr>\n      <th>13</th>\n      <td>CatBoost</td>\n      <td>0.937500</td>\n      <td>1.000000</td>\n      <td>accuracy</td>\n      <td>0.000905</td>\n      <td>0.000536</td>\n      <td>0.172631</td>\n      <td>0.000905</td>\n      <td>0.000536</td>\n      <td>0.172631</td>\n      <td>1</td>\n      <td>True</td>\n      <td>8</td>\n    </tr>\n  </tbody>\n</table>\n</div>"
     },
     "execution_count": 70,
     "metadata": {},
     "output_type": "execute_result"
    }
   ],
   "source": [
    "predictor.leaderboard(new_data)"
   ],
   "metadata": {
    "collapsed": false,
    "ExecuteTime": {
     "end_time": "2024-02-11T14:41:51.986172Z",
     "start_time": "2024-02-11T14:41:51.774110Z"
    }
   },
   "id": "c589850162adaf80",
   "execution_count": 70
  },
  {
   "cell_type": "code",
   "outputs": [
    {
     "data": {
      "text/plain": "{'accuracy': 0.9736842105263158,\n 'balanced_accuracy': 0.9791666666666666,\n 'mcc': 0.9608244925752507}"
     },
     "execution_count": 71,
     "metadata": {},
     "output_type": "execute_result"
    }
   ],
   "source": [
    "predictor.evaluate(test_data, silent=True)"
   ],
   "metadata": {
    "collapsed": false,
    "ExecuteTime": {
     "end_time": "2024-02-11T14:41:52.601717Z",
     "start_time": "2024-02-11T14:41:52.560169Z"
    }
   },
   "id": "4d50e872c845ba4a",
   "execution_count": 71
  },
  {
   "cell_type": "code",
   "outputs": [
    {
     "data": {
      "text/plain": "                  model  score_test  score_val eval_metric  pred_time_test  \\\n0        NeuralNetTorch    0.973684   1.000000    accuracy        0.002272   \n1        KNeighborsDist    0.973684   1.000000    accuracy        0.015115   \n2        KNeighborsUnif    0.973684   1.000000    accuracy        0.016630   \n3        ExtraTreesGini    0.973684   1.000000    accuracy        0.026871   \n4   WeightedEnsemble_L2    0.973684   1.000000    accuracy        0.028003   \n5        ExtraTreesEntr    0.973684   1.000000    accuracy        0.029930   \n6       NeuralNetFastAI    0.947368   1.000000    accuracy        0.007386   \n7      RandomForestGini    0.947368   0.956522    accuracy        0.030107   \n8      RandomForestEntr    0.947368   0.956522    accuracy        0.031562   \n9            LightGBMXT    0.921053   0.956522    accuracy        0.000939   \n10             LightGBM    0.921053   1.000000    accuracy        0.001329   \n11        LightGBMLarge    0.921053   1.000000    accuracy        0.002402   \n12             CatBoost    0.894737   1.000000    accuracy        0.000855   \n13              XGBoost    0.894737   1.000000    accuracy        0.010727   \n\n    pred_time_val  fit_time  pred_time_test_marginal  pred_time_val_marginal  \\\n0        0.001405  0.232640                 0.002272                0.001405   \n1        0.012714  0.002239                 0.015115                0.012714   \n2        0.017141  0.005077                 0.016630                0.017141   \n3        0.025854  0.206925                 0.026871                0.025854   \n4        0.026095  0.406775                 0.001132                0.000241   \n5        0.013456  0.200014                 0.029930                0.013456   \n6        0.002980  0.263346                 0.007386                0.002980   \n7        0.012879  0.185271                 0.030107                0.012879   \n8        0.024650  0.200557                 0.031562                0.024650   \n9        0.001125  0.416156                 0.000939                0.001125   \n10       0.000682  0.558241                 0.001329                0.000682   \n11       0.000726  1.705303                 0.002402                0.000726   \n12       0.000536  0.172631                 0.000855                0.000536   \n13       0.001213  0.195539                 0.010727                0.001213   \n\n    fit_time_marginal  stack_level  can_infer  fit_order  \n0            0.232640            1       True         12  \n1            0.002239            1       True          2  \n2            0.005077            1       True          1  \n3            0.206925            1       True          9  \n4            0.199850            2       True         14  \n5            0.200014            1       True         10  \n6            0.263346            1       True          3  \n7            0.185271            1       True          6  \n8            0.200557            1       True          7  \n9            0.416156            1       True          4  \n10           0.558241            1       True          5  \n11           1.705303            1       True         13  \n12           0.172631            1       True          8  \n13           0.195539            1       True         11  ",
      "text/html": "<div>\n<style scoped>\n    .dataframe tbody tr th:only-of-type {\n        vertical-align: middle;\n    }\n\n    .dataframe tbody tr th {\n        vertical-align: top;\n    }\n\n    .dataframe thead th {\n        text-align: right;\n    }\n</style>\n<table border=\"1\" class=\"dataframe\">\n  <thead>\n    <tr style=\"text-align: right;\">\n      <th></th>\n      <th>model</th>\n      <th>score_test</th>\n      <th>score_val</th>\n      <th>eval_metric</th>\n      <th>pred_time_test</th>\n      <th>pred_time_val</th>\n      <th>fit_time</th>\n      <th>pred_time_test_marginal</th>\n      <th>pred_time_val_marginal</th>\n      <th>fit_time_marginal</th>\n      <th>stack_level</th>\n      <th>can_infer</th>\n      <th>fit_order</th>\n    </tr>\n  </thead>\n  <tbody>\n    <tr>\n      <th>0</th>\n      <td>NeuralNetTorch</td>\n      <td>0.973684</td>\n      <td>1.000000</td>\n      <td>accuracy</td>\n      <td>0.002272</td>\n      <td>0.001405</td>\n      <td>0.232640</td>\n      <td>0.002272</td>\n      <td>0.001405</td>\n      <td>0.232640</td>\n      <td>1</td>\n      <td>True</td>\n      <td>12</td>\n    </tr>\n    <tr>\n      <th>1</th>\n      <td>KNeighborsDist</td>\n      <td>0.973684</td>\n      <td>1.000000</td>\n      <td>accuracy</td>\n      <td>0.015115</td>\n      <td>0.012714</td>\n      <td>0.002239</td>\n      <td>0.015115</td>\n      <td>0.012714</td>\n      <td>0.002239</td>\n      <td>1</td>\n      <td>True</td>\n      <td>2</td>\n    </tr>\n    <tr>\n      <th>2</th>\n      <td>KNeighborsUnif</td>\n      <td>0.973684</td>\n      <td>1.000000</td>\n      <td>accuracy</td>\n      <td>0.016630</td>\n      <td>0.017141</td>\n      <td>0.005077</td>\n      <td>0.016630</td>\n      <td>0.017141</td>\n      <td>0.005077</td>\n      <td>1</td>\n      <td>True</td>\n      <td>1</td>\n    </tr>\n    <tr>\n      <th>3</th>\n      <td>ExtraTreesGini</td>\n      <td>0.973684</td>\n      <td>1.000000</td>\n      <td>accuracy</td>\n      <td>0.026871</td>\n      <td>0.025854</td>\n      <td>0.206925</td>\n      <td>0.026871</td>\n      <td>0.025854</td>\n      <td>0.206925</td>\n      <td>1</td>\n      <td>True</td>\n      <td>9</td>\n    </tr>\n    <tr>\n      <th>4</th>\n      <td>WeightedEnsemble_L2</td>\n      <td>0.973684</td>\n      <td>1.000000</td>\n      <td>accuracy</td>\n      <td>0.028003</td>\n      <td>0.026095</td>\n      <td>0.406775</td>\n      <td>0.001132</td>\n      <td>0.000241</td>\n      <td>0.199850</td>\n      <td>2</td>\n      <td>True</td>\n      <td>14</td>\n    </tr>\n    <tr>\n      <th>5</th>\n      <td>ExtraTreesEntr</td>\n      <td>0.973684</td>\n      <td>1.000000</td>\n      <td>accuracy</td>\n      <td>0.029930</td>\n      <td>0.013456</td>\n      <td>0.200014</td>\n      <td>0.029930</td>\n      <td>0.013456</td>\n      <td>0.200014</td>\n      <td>1</td>\n      <td>True</td>\n      <td>10</td>\n    </tr>\n    <tr>\n      <th>6</th>\n      <td>NeuralNetFastAI</td>\n      <td>0.947368</td>\n      <td>1.000000</td>\n      <td>accuracy</td>\n      <td>0.007386</td>\n      <td>0.002980</td>\n      <td>0.263346</td>\n      <td>0.007386</td>\n      <td>0.002980</td>\n      <td>0.263346</td>\n      <td>1</td>\n      <td>True</td>\n      <td>3</td>\n    </tr>\n    <tr>\n      <th>7</th>\n      <td>RandomForestGini</td>\n      <td>0.947368</td>\n      <td>0.956522</td>\n      <td>accuracy</td>\n      <td>0.030107</td>\n      <td>0.012879</td>\n      <td>0.185271</td>\n      <td>0.030107</td>\n      <td>0.012879</td>\n      <td>0.185271</td>\n      <td>1</td>\n      <td>True</td>\n      <td>6</td>\n    </tr>\n    <tr>\n      <th>8</th>\n      <td>RandomForestEntr</td>\n      <td>0.947368</td>\n      <td>0.956522</td>\n      <td>accuracy</td>\n      <td>0.031562</td>\n      <td>0.024650</td>\n      <td>0.200557</td>\n      <td>0.031562</td>\n      <td>0.024650</td>\n      <td>0.200557</td>\n      <td>1</td>\n      <td>True</td>\n      <td>7</td>\n    </tr>\n    <tr>\n      <th>9</th>\n      <td>LightGBMXT</td>\n      <td>0.921053</td>\n      <td>0.956522</td>\n      <td>accuracy</td>\n      <td>0.000939</td>\n      <td>0.001125</td>\n      <td>0.416156</td>\n      <td>0.000939</td>\n      <td>0.001125</td>\n      <td>0.416156</td>\n      <td>1</td>\n      <td>True</td>\n      <td>4</td>\n    </tr>\n    <tr>\n      <th>10</th>\n      <td>LightGBM</td>\n      <td>0.921053</td>\n      <td>1.000000</td>\n      <td>accuracy</td>\n      <td>0.001329</td>\n      <td>0.000682</td>\n      <td>0.558241</td>\n      <td>0.001329</td>\n      <td>0.000682</td>\n      <td>0.558241</td>\n      <td>1</td>\n      <td>True</td>\n      <td>5</td>\n    </tr>\n    <tr>\n      <th>11</th>\n      <td>LightGBMLarge</td>\n      <td>0.921053</td>\n      <td>1.000000</td>\n      <td>accuracy</td>\n      <td>0.002402</td>\n      <td>0.000726</td>\n      <td>1.705303</td>\n      <td>0.002402</td>\n      <td>0.000726</td>\n      <td>1.705303</td>\n      <td>1</td>\n      <td>True</td>\n      <td>13</td>\n    </tr>\n    <tr>\n      <th>12</th>\n      <td>CatBoost</td>\n      <td>0.894737</td>\n      <td>1.000000</td>\n      <td>accuracy</td>\n      <td>0.000855</td>\n      <td>0.000536</td>\n      <td>0.172631</td>\n      <td>0.000855</td>\n      <td>0.000536</td>\n      <td>0.172631</td>\n      <td>1</td>\n      <td>True</td>\n      <td>8</td>\n    </tr>\n    <tr>\n      <th>13</th>\n      <td>XGBoost</td>\n      <td>0.894737</td>\n      <td>1.000000</td>\n      <td>accuracy</td>\n      <td>0.010727</td>\n      <td>0.001213</td>\n      <td>0.195539</td>\n      <td>0.010727</td>\n      <td>0.001213</td>\n      <td>0.195539</td>\n      <td>1</td>\n      <td>True</td>\n      <td>11</td>\n    </tr>\n  </tbody>\n</table>\n</div>"
     },
     "execution_count": 72,
     "metadata": {},
     "output_type": "execute_result"
    }
   ],
   "source": [
    "predictor.leaderboard(test_data)"
   ],
   "metadata": {
    "collapsed": false,
    "ExecuteTime": {
     "end_time": "2024-02-11T14:41:53.660683Z",
     "start_time": "2024-02-11T14:41:53.467414Z"
    }
   },
   "id": "9819ad6970702f1f",
   "execution_count": 72
  }
 ],
 "metadata": {
  "kernelspec": {
   "display_name": "Python 3",
   "language": "python",
   "name": "python3"
  },
  "language_info": {
   "codemirror_mode": {
    "name": "ipython",
    "version": 2
   },
   "file_extension": ".py",
   "mimetype": "text/x-python",
   "name": "python",
   "nbconvert_exporter": "python",
   "pygments_lexer": "ipython2",
   "version": "2.7.6"
  }
 },
 "nbformat": 4,
 "nbformat_minor": 5
}
