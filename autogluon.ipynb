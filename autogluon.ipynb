{
 "cells": [
  {
   "cell_type": "code",
   "outputs": [
    {
     "data": {
      "text/plain": "   Unnamed: 0  chern_simons  cusp_volume  hyperbolic_adjoint_torsion_degree  \\\n0       70746      0.090530    12.226322                                  0   \n1      240827      0.232453    13.800773                                  0   \n2      155659     -0.144099    14.761030                                  0   \n3      239963     -0.171668    13.738019                                  0   \n4       90504      0.235188    15.896359                                  0   \n\n   hyperbolic_torsion_degree  injectivity_radius  longitudinal_translation  \\\n0                         10            0.507756                 10.685555   \n1                         14            0.413645                 10.453156   \n2                         14            0.436928                 13.405199   \n3                         22            0.249481                 27.819496   \n4                         10            0.389329                 15.330971   \n\n   meridinal_translation_imag  meridinal_translation_real  \\\n0                    1.144192                   -0.519157   \n1                    1.320249                   -0.158522   \n2                    1.101142                    0.768894   \n3                    0.493827                   -1.188718   \n4                    1.036879                    0.722828   \n\n   short_geodesic_imag_part  short_geodesic_real_part  Symmetry_0  \\\n0                 -2.760601                  1.015512         0.0   \n1                 -3.013258                  0.827289         0.0   \n2                  2.233106                  0.873856         0.0   \n3                 -2.042771                  0.498961         0.0   \n4                 -3.056138                  0.778658         0.0   \n\n   Symmetry_D3  Symmetry_D4  Symmetry_D6  Symmetry_D8  Symmetry_Z/2 + Z/2  \\\n0          0.0          0.0          0.0          0.0                 1.0   \n1          0.0          0.0          0.0          0.0                 1.0   \n2          0.0          0.0          0.0          0.0                 0.0   \n3          0.0          0.0          0.0          0.0                 0.0   \n4          0.0          0.0          0.0          0.0                 0.0   \n\n      volume  signature  \n0  11.393225         -2  \n1  12.742782          0  \n2  15.236505          2  \n3  17.279890         -8  \n4  16.749298          4  ",
      "text/html": "<div>\n<style scoped>\n    .dataframe tbody tr th:only-of-type {\n        vertical-align: middle;\n    }\n\n    .dataframe tbody tr th {\n        vertical-align: top;\n    }\n\n    .dataframe thead th {\n        text-align: right;\n    }\n</style>\n<table border=\"1\" class=\"dataframe\">\n  <thead>\n    <tr style=\"text-align: right;\">\n      <th></th>\n      <th>Unnamed: 0</th>\n      <th>chern_simons</th>\n      <th>cusp_volume</th>\n      <th>hyperbolic_adjoint_torsion_degree</th>\n      <th>hyperbolic_torsion_degree</th>\n      <th>injectivity_radius</th>\n      <th>longitudinal_translation</th>\n      <th>meridinal_translation_imag</th>\n      <th>meridinal_translation_real</th>\n      <th>short_geodesic_imag_part</th>\n      <th>short_geodesic_real_part</th>\n      <th>Symmetry_0</th>\n      <th>Symmetry_D3</th>\n      <th>Symmetry_D4</th>\n      <th>Symmetry_D6</th>\n      <th>Symmetry_D8</th>\n      <th>Symmetry_Z/2 + Z/2</th>\n      <th>volume</th>\n      <th>signature</th>\n    </tr>\n  </thead>\n  <tbody>\n    <tr>\n      <th>0</th>\n      <td>70746</td>\n      <td>0.090530</td>\n      <td>12.226322</td>\n      <td>0</td>\n      <td>10</td>\n      <td>0.507756</td>\n      <td>10.685555</td>\n      <td>1.144192</td>\n      <td>-0.519157</td>\n      <td>-2.760601</td>\n      <td>1.015512</td>\n      <td>0.0</td>\n      <td>0.0</td>\n      <td>0.0</td>\n      <td>0.0</td>\n      <td>0.0</td>\n      <td>1.0</td>\n      <td>11.393225</td>\n      <td>-2</td>\n    </tr>\n    <tr>\n      <th>1</th>\n      <td>240827</td>\n      <td>0.232453</td>\n      <td>13.800773</td>\n      <td>0</td>\n      <td>14</td>\n      <td>0.413645</td>\n      <td>10.453156</td>\n      <td>1.320249</td>\n      <td>-0.158522</td>\n      <td>-3.013258</td>\n      <td>0.827289</td>\n      <td>0.0</td>\n      <td>0.0</td>\n      <td>0.0</td>\n      <td>0.0</td>\n      <td>0.0</td>\n      <td>1.0</td>\n      <td>12.742782</td>\n      <td>0</td>\n    </tr>\n    <tr>\n      <th>2</th>\n      <td>155659</td>\n      <td>-0.144099</td>\n      <td>14.761030</td>\n      <td>0</td>\n      <td>14</td>\n      <td>0.436928</td>\n      <td>13.405199</td>\n      <td>1.101142</td>\n      <td>0.768894</td>\n      <td>2.233106</td>\n      <td>0.873856</td>\n      <td>0.0</td>\n      <td>0.0</td>\n      <td>0.0</td>\n      <td>0.0</td>\n      <td>0.0</td>\n      <td>0.0</td>\n      <td>15.236505</td>\n      <td>2</td>\n    </tr>\n    <tr>\n      <th>3</th>\n      <td>239963</td>\n      <td>-0.171668</td>\n      <td>13.738019</td>\n      <td>0</td>\n      <td>22</td>\n      <td>0.249481</td>\n      <td>27.819496</td>\n      <td>0.493827</td>\n      <td>-1.188718</td>\n      <td>-2.042771</td>\n      <td>0.498961</td>\n      <td>0.0</td>\n      <td>0.0</td>\n      <td>0.0</td>\n      <td>0.0</td>\n      <td>0.0</td>\n      <td>0.0</td>\n      <td>17.279890</td>\n      <td>-8</td>\n    </tr>\n    <tr>\n      <th>4</th>\n      <td>90504</td>\n      <td>0.235188</td>\n      <td>15.896359</td>\n      <td>0</td>\n      <td>10</td>\n      <td>0.389329</td>\n      <td>15.330971</td>\n      <td>1.036879</td>\n      <td>0.722828</td>\n      <td>-3.056138</td>\n      <td>0.778658</td>\n      <td>0.0</td>\n      <td>0.0</td>\n      <td>0.0</td>\n      <td>0.0</td>\n      <td>0.0</td>\n      <td>0.0</td>\n      <td>16.749298</td>\n      <td>4</td>\n    </tr>\n  </tbody>\n</table>\n</div>"
     },
     "execution_count": 3,
     "metadata": {},
     "output_type": "execute_result"
    }
   ],
   "source": [
    "from autogluon.tabular import TabularDataset, TabularPredictor\n",
    "\n",
    "data_url = 'https://raw.githubusercontent.com/mli/ag-docs/main/knot_theory/'\n",
    "train_data = TabularDataset(f'{data_url}train.csv')\n",
    "train_data.head()"
   ],
   "metadata": {
    "collapsed": false,
    "ExecuteTime": {
     "end_time": "2024-02-07T06:25:20.407976Z",
     "start_time": "2024-02-07T06:25:19.290258Z"
    }
   },
   "id": "c7a730feffd379e7",
   "execution_count": 3
  },
  {
   "cell_type": "code",
   "outputs": [
    {
     "data": {
      "text/plain": "count    10000.000000\nmean        -0.022000\nstd          3.025166\nmin        -12.000000\n25%         -2.000000\n50%          0.000000\n75%          2.000000\nmax         12.000000\nName: signature, dtype: float64"
     },
     "execution_count": 4,
     "metadata": {},
     "output_type": "execute_result"
    }
   ],
   "source": [
    "label = 'signature'\n",
    "train_data[label].describe()"
   ],
   "metadata": {
    "collapsed": false,
    "ExecuteTime": {
     "end_time": "2024-02-07T06:25:20.418468Z",
     "start_time": "2024-02-07T06:25:20.405776Z"
    }
   },
   "id": "f0810746ce36007",
   "execution_count": 4
  },
  {
   "cell_type": "code",
   "outputs": [
    {
     "name": "stderr",
     "output_type": "stream",
     "text": [
      "No path specified. Models will be saved in: \"AutogluonModels/ag-20240207_062520\"\n",
      "No presets specified! To achieve strong results with AutoGluon, it is recommended to use the available presets.\n",
      "\tRecommended Presets (For more details refer to https://auto.gluon.ai/stable/tutorials/tabular/tabular-essentials.html#presets):\n",
      "\tpresets='best_quality'   : Maximize accuracy. Default time_limit=3600.\n",
      "\tpresets='high_quality'   : Strong accuracy with fast inference speed. Default time_limit=3600.\n",
      "\tpresets='good_quality'   : Good accuracy with very fast inference speed. Default time_limit=3600.\n",
      "\tpresets='medium_quality' : Fast training time, ideal for initial prototyping.\n",
      "Beginning AutoGluon training ...\n",
      "AutoGluon will save models to \"AutogluonModels/ag-20240207_062520\"\n",
      "=================== System Info ===================\n",
      "AutoGluon Version:  1.0.0\n",
      "Python Version:     3.9.6\n",
      "Operating System:   Darwin\n",
      "Platform Machine:   arm64\n",
      "Platform Version:   Darwin Kernel Version 21.6.0: Mon Dec 19 20:46:01 PST 2022; root:xnu-8020.240.18~2/RELEASE_ARM64_T8101\n",
      "CPU Count:          8\n",
      "Memory Avail:       7.44 GB / 16.00 GB (46.5%)\n",
      "Disk Space Avail:   56.43 GB / 228.27 GB (24.7%)\n",
      "===================================================\n",
      "Train Data Rows:    10000\n",
      "Train Data Columns: 18\n",
      "Label Column:       signature\n",
      "AutoGluon infers your prediction problem is: 'multiclass' (because dtype of label-column == int, but few unique label-values observed).\n",
      "\tFirst 10 (of 13) unique label values:  [-2, 0, 2, -8, 4, -4, -6, 8, 6, 10]\n",
      "\tIf 'multiclass' is not the correct problem_type, please manually specify the problem_type parameter during predictor init (You may specify problem_type as one of: ['binary', 'multiclass', 'regression'])\n",
      "Problem Type:       multiclass\n",
      "Preprocessing data ...\n",
      "Warning: Some classes in the training set have fewer than 10 examples. AutoGluon will only keep 9 out of 13 classes for training and will not try to predict the rare classes. To keep more classes, increase the number of datapoints from these rare classes in the training data or reduce label_count_threshold.\n",
      "Fraction of data from classes with at least 10 examples that will be kept for training models: 0.9984\n",
      "Train Data Class Count: 9\n",
      "Using Feature Generators to preprocess the data ...\n",
      "Fitting AutoMLPipelineFeatureGenerator...\n",
      "\tAvailable Memory:                    7619.01 MB\n",
      "\tTrain Data (Original)  Memory Usage: 1.37 MB (0.0% of available memory)\n",
      "\tInferring data type of each feature based on column values. Set feature_metadata_in to manually specify special dtypes of the features.\n",
      "\tStage 1 Generators:\n",
      "\t\tFitting AsTypeFeatureGenerator...\n",
      "\t\t\tNote: Converting 5 features to boolean dtype as they only contain 2 unique values.\n",
      "\tStage 2 Generators:\n",
      "\t\tFitting FillNaFeatureGenerator...\n",
      "\tStage 3 Generators:\n",
      "\t\tFitting IdentityFeatureGenerator...\n",
      "\tStage 4 Generators:\n",
      "\t\tFitting DropUniqueFeatureGenerator...\n",
      "\tStage 5 Generators:\n",
      "\t\tFitting DropDuplicatesFeatureGenerator...\n",
      "\tUseless Original Features (Count: 1): ['Symmetry_D8']\n",
      "\t\tThese features carry no predictive signal and should be manually investigated.\n",
      "\t\tThis is typically a feature which has the same value for all rows.\n",
      "\t\tThese features do not need to be present at inference time.\n",
      "\tTypes of features in original data (raw dtype, special dtypes):\n",
      "\t\t('float', []) : 14 | ['chern_simons', 'cusp_volume', 'injectivity_radius', 'longitudinal_translation', 'meridinal_translation_imag', ...]\n",
      "\t\t('int', [])   :  3 | ['Unnamed: 0', 'hyperbolic_adjoint_torsion_degree', 'hyperbolic_torsion_degree']\n",
      "\tTypes of features in processed data (raw dtype, special dtypes):\n",
      "\t\t('float', [])     : 9 | ['chern_simons', 'cusp_volume', 'injectivity_radius', 'longitudinal_translation', 'meridinal_translation_imag', ...]\n",
      "\t\t('int', [])       : 3 | ['Unnamed: 0', 'hyperbolic_adjoint_torsion_degree', 'hyperbolic_torsion_degree']\n",
      "\t\t('int', ['bool']) : 5 | ['Symmetry_0', 'Symmetry_D3', 'Symmetry_D4', 'Symmetry_D6', 'Symmetry_Z/2 + Z/2']\n",
      "\t0.0s = Fit runtime\n",
      "\t17 features in original data used to generate 17 features in processed data.\n",
      "\tTrain Data (Processed) Memory Usage: 0.96 MB (0.0% of available memory)\n",
      "Data preprocessing and feature engineering runtime = 0.07s ...\n",
      "AutoGluon will gauge predictive performance using evaluation metric: 'accuracy'\n",
      "\tTo change this, specify the eval_metric parameter of Predictor()\n",
      "Automatically generating train/validation split with holdout_frac=0.1, Train Rows: 8985, Val Rows: 999\n",
      "User-specified model hyperparameters to be fit:\n",
      "{\n",
      "\t'NN_TORCH': {},\n",
      "\t'GBM': [{'extra_trees': True, 'ag_args': {'name_suffix': 'XT'}}, {}, 'GBMLarge'],\n",
      "\t'CAT': {},\n",
      "\t'XGB': {},\n",
      "\t'FASTAI': {},\n",
      "\t'RF': [{'criterion': 'gini', 'ag_args': {'name_suffix': 'Gini', 'problem_types': ['binary', 'multiclass']}}, {'criterion': 'entropy', 'ag_args': {'name_suffix': 'Entr', 'problem_types': ['binary', 'multiclass']}}, {'criterion': 'squared_error', 'ag_args': {'name_suffix': 'MSE', 'problem_types': ['regression', 'quantile']}}],\n",
      "\t'XT': [{'criterion': 'gini', 'ag_args': {'name_suffix': 'Gini', 'problem_types': ['binary', 'multiclass']}}, {'criterion': 'entropy', 'ag_args': {'name_suffix': 'Entr', 'problem_types': ['binary', 'multiclass']}}, {'criterion': 'squared_error', 'ag_args': {'name_suffix': 'MSE', 'problem_types': ['regression', 'quantile']}}],\n",
      "\t'KNN': [{'weights': 'uniform', 'ag_args': {'name_suffix': 'Unif'}}, {'weights': 'distance', 'ag_args': {'name_suffix': 'Dist'}}],\n",
      "}\n",
      "Fitting 13 L1 models ...\n",
      "Fitting model: KNeighborsUnif ...\n",
      "\t0.2232\t = Validation score   (accuracy)\n",
      "\t0.96s\t = Training   runtime\n",
      "\t0.02s\t = Validation runtime\n",
      "Fitting model: KNeighborsDist ...\n",
      "\t0.2132\t = Validation score   (accuracy)\n",
      "\t0.01s\t = Training   runtime\n",
      "\t0.02s\t = Validation runtime\n",
      "Fitting model: NeuralNetFastAI ...\n",
      "\t0.9419\t = Validation score   (accuracy)\n",
      "\t4.93s\t = Training   runtime\n",
      "\t0.01s\t = Validation runtime\n",
      "Fitting model: LightGBMXT ...\n",
      "\t0.9459\t = Validation score   (accuracy)\n",
      "\t12.44s\t = Training   runtime\n",
      "\t0.03s\t = Validation runtime\n",
      "Fitting model: LightGBM ...\n",
      "\t0.956\t = Validation score   (accuracy)\n",
      "\t9.86s\t = Training   runtime\n",
      "\t0.02s\t = Validation runtime\n",
      "Fitting model: RandomForestGini ...\n",
      "\t0.9439\t = Validation score   (accuracy)\n",
      "\t0.8s\t = Training   runtime\n",
      "\t0.04s\t = Validation runtime\n",
      "Fitting model: RandomForestEntr ...\n",
      "\t0.9489\t = Validation score   (accuracy)\n",
      "\t0.97s\t = Training   runtime\n",
      "\t0.04s\t = Validation runtime\n",
      "Fitting model: CatBoost ...\n",
      "\t0.956\t = Validation score   (accuracy)\n",
      "\t15.15s\t = Training   runtime\n",
      "\t0.0s\t = Validation runtime\n",
      "Fitting model: ExtraTreesGini ...\n",
      "\t0.9439\t = Validation score   (accuracy)\n",
      "\t0.54s\t = Training   runtime\n",
      "\t0.04s\t = Validation runtime\n",
      "Fitting model: ExtraTreesEntr ...\n",
      "\t0.9429\t = Validation score   (accuracy)\n",
      "\t0.63s\t = Training   runtime\n",
      "\t0.04s\t = Validation runtime\n",
      "Fitting model: XGBoost ...\n",
      "\t0.957\t = Validation score   (accuracy)\n",
      "\t7.45s\t = Training   runtime\n",
      "\t0.03s\t = Validation runtime\n",
      "Fitting model: NeuralNetTorch ...\n",
      "\t0.9399\t = Validation score   (accuracy)\n",
      "\t19.96s\t = Training   runtime\n",
      "\t0.01s\t = Validation runtime\n",
      "Fitting model: LightGBMLarge ...\n",
      "\t0.9499\t = Validation score   (accuracy)\n",
      "\t24.74s\t = Training   runtime\n",
      "\t0.05s\t = Validation runtime\n",
      "Fitting model: WeightedEnsemble_L2 ...\n",
      "\tEnsemble Weights: {'KNeighborsUnif': 0.25, 'NeuralNetFastAI': 0.25, 'RandomForestEntr': 0.25, 'XGBoost': 0.25}\n",
      "\t0.962\t = Validation score   (accuracy)\n",
      "\t0.5s\t = Training   runtime\n",
      "\t0.0s\t = Validation runtime\n",
      "AutoGluon training complete, total runtime = 100.26s ... Best model: \"WeightedEnsemble_L2\"\n",
      "TabularPredictor saved. To load, use: predictor = TabularPredictor.load(\"AutogluonModels/ag-20240207_062520\")\n"
     ]
    }
   ],
   "source": [
    "predictor = TabularPredictor(label=label).fit(train_data)"
   ],
   "metadata": {
    "collapsed": false,
    "ExecuteTime": {
     "end_time": "2024-02-07T06:27:00.718896Z",
     "start_time": "2024-02-07T06:25:20.415023Z"
    }
   },
   "id": "676ebe95dc792a09",
   "execution_count": 5
  },
  {
   "cell_type": "code",
   "outputs": [
    {
     "name": "stderr",
     "output_type": "stream",
     "text": [
      "Loaded data from: https://raw.githubusercontent.com/mli/ag-docs/main/knot_theory/test.csv | Columns = 19 / 19 | Rows = 5000 -> 5000\n"
     ]
    },
    {
     "data": {
      "text/plain": "0   -4\n1   -2\n2    0\n3    4\n4    2\nName: signature, dtype: int64"
     },
     "execution_count": 6,
     "metadata": {},
     "output_type": "execute_result"
    }
   ],
   "source": [
    "test_data = TabularDataset(f'{data_url}test.csv')\n",
    "\n",
    "y_pred = predictor.predict(test_data.drop(columns=[label]))\n",
    "y_pred.head()"
   ],
   "metadata": {
    "collapsed": false,
    "ExecuteTime": {
     "end_time": "2024-02-07T06:27:02.048673Z",
     "start_time": "2024-02-07T06:27:00.723984Z"
    }
   },
   "id": "228770574415a4ff",
   "execution_count": 6
  },
  {
   "cell_type": "code",
   "outputs": [
    {
     "data": {
      "text/plain": "{'accuracy': 0.949,\n 'balanced_accuracy': 0.7505368761310511,\n 'mcc': 0.9374970716201447}"
     },
     "execution_count": 7,
     "metadata": {},
     "output_type": "execute_result"
    }
   ],
   "source": [
    "predictor.evaluate(test_data, silent=True)"
   ],
   "metadata": {
    "collapsed": false,
    "ExecuteTime": {
     "end_time": "2024-02-07T06:27:02.486410Z",
     "start_time": "2024-02-07T06:27:02.049899Z"
    }
   },
   "id": "1bfa70bc3243a2f5",
   "execution_count": 7
  },
  {
   "cell_type": "code",
   "outputs": [
    {
     "data": {
      "text/plain": "                  model  score_test  score_val eval_metric  pred_time_test  \\\n0   WeightedEnsemble_L2      0.9490   0.961962    accuracy        0.373306   \n1              LightGBM      0.9456   0.955956    accuracy        0.091341   \n2               XGBoost      0.9448   0.956957    accuracy        0.198583   \n3         LightGBMLarge      0.9444   0.949950    accuracy        0.262819   \n4              CatBoost      0.9432   0.955956    accuracy        0.025810   \n5       NeuralNetFastAI      0.9398   0.941942    accuracy        0.034779   \n6      RandomForestEntr      0.9382   0.948949    accuracy        0.121890   \n7        ExtraTreesEntr      0.9374   0.942943    accuracy        0.192257   \n8      RandomForestGini      0.9362   0.943944    accuracy        0.122725   \n9        ExtraTreesGini      0.9352   0.943944    accuracy        0.157393   \n10           LightGBMXT      0.9320   0.945946    accuracy        0.140610   \n11       NeuralNetTorch      0.9294   0.939940    accuracy        0.013174   \n12       KNeighborsDist      0.2210   0.213213    accuracy        0.017650   \n13       KNeighborsUnif      0.2180   0.223223    accuracy        0.014010   \n\n    pred_time_val   fit_time  pred_time_test_marginal  pred_time_val_marginal  \\\n0        0.099222  14.807968                 0.004044                0.000314   \n1        0.016291   9.860423                 0.091341                0.016291   \n2        0.030748   7.446325                 0.198583                0.030748   \n3        0.048016  24.741451                 0.262819                0.048016   \n4        0.003210  15.146573                 0.025810                0.003210   \n5        0.007346   4.934825                 0.034779                0.007346   \n6        0.038557   0.971840                 0.121890                0.038557   \n7        0.037887   0.632520                 0.192257                0.037887   \n8        0.037559   0.797518                 0.122725                0.037559   \n9        0.038353   0.544027                 0.157393                0.038353   \n10       0.026478  12.439346                 0.140610                0.026478   \n11       0.007655  19.959393                 0.013174                0.007655   \n12       0.015233   0.011637                 0.017650                0.015233   \n13       0.022257   0.955959                 0.014010                0.022257   \n\n    fit_time_marginal  stack_level  can_infer  fit_order  \n0            0.499019            2       True         14  \n1            9.860423            1       True          5  \n2            7.446325            1       True         11  \n3           24.741451            1       True         13  \n4           15.146573            1       True          8  \n5            4.934825            1       True          3  \n6            0.971840            1       True          7  \n7            0.632520            1       True         10  \n8            0.797518            1       True          6  \n9            0.544027            1       True          9  \n10          12.439346            1       True          4  \n11          19.959393            1       True         12  \n12           0.011637            1       True          2  \n13           0.955959            1       True          1  ",
      "text/html": "<div>\n<style scoped>\n    .dataframe tbody tr th:only-of-type {\n        vertical-align: middle;\n    }\n\n    .dataframe tbody tr th {\n        vertical-align: top;\n    }\n\n    .dataframe thead th {\n        text-align: right;\n    }\n</style>\n<table border=\"1\" class=\"dataframe\">\n  <thead>\n    <tr style=\"text-align: right;\">\n      <th></th>\n      <th>model</th>\n      <th>score_test</th>\n      <th>score_val</th>\n      <th>eval_metric</th>\n      <th>pred_time_test</th>\n      <th>pred_time_val</th>\n      <th>fit_time</th>\n      <th>pred_time_test_marginal</th>\n      <th>pred_time_val_marginal</th>\n      <th>fit_time_marginal</th>\n      <th>stack_level</th>\n      <th>can_infer</th>\n      <th>fit_order</th>\n    </tr>\n  </thead>\n  <tbody>\n    <tr>\n      <th>0</th>\n      <td>WeightedEnsemble_L2</td>\n      <td>0.9490</td>\n      <td>0.961962</td>\n      <td>accuracy</td>\n      <td>0.373306</td>\n      <td>0.099222</td>\n      <td>14.807968</td>\n      <td>0.004044</td>\n      <td>0.000314</td>\n      <td>0.499019</td>\n      <td>2</td>\n      <td>True</td>\n      <td>14</td>\n    </tr>\n    <tr>\n      <th>1</th>\n      <td>LightGBM</td>\n      <td>0.9456</td>\n      <td>0.955956</td>\n      <td>accuracy</td>\n      <td>0.091341</td>\n      <td>0.016291</td>\n      <td>9.860423</td>\n      <td>0.091341</td>\n      <td>0.016291</td>\n      <td>9.860423</td>\n      <td>1</td>\n      <td>True</td>\n      <td>5</td>\n    </tr>\n    <tr>\n      <th>2</th>\n      <td>XGBoost</td>\n      <td>0.9448</td>\n      <td>0.956957</td>\n      <td>accuracy</td>\n      <td>0.198583</td>\n      <td>0.030748</td>\n      <td>7.446325</td>\n      <td>0.198583</td>\n      <td>0.030748</td>\n      <td>7.446325</td>\n      <td>1</td>\n      <td>True</td>\n      <td>11</td>\n    </tr>\n    <tr>\n      <th>3</th>\n      <td>LightGBMLarge</td>\n      <td>0.9444</td>\n      <td>0.949950</td>\n      <td>accuracy</td>\n      <td>0.262819</td>\n      <td>0.048016</td>\n      <td>24.741451</td>\n      <td>0.262819</td>\n      <td>0.048016</td>\n      <td>24.741451</td>\n      <td>1</td>\n      <td>True</td>\n      <td>13</td>\n    </tr>\n    <tr>\n      <th>4</th>\n      <td>CatBoost</td>\n      <td>0.9432</td>\n      <td>0.955956</td>\n      <td>accuracy</td>\n      <td>0.025810</td>\n      <td>0.003210</td>\n      <td>15.146573</td>\n      <td>0.025810</td>\n      <td>0.003210</td>\n      <td>15.146573</td>\n      <td>1</td>\n      <td>True</td>\n      <td>8</td>\n    </tr>\n    <tr>\n      <th>5</th>\n      <td>NeuralNetFastAI</td>\n      <td>0.9398</td>\n      <td>0.941942</td>\n      <td>accuracy</td>\n      <td>0.034779</td>\n      <td>0.007346</td>\n      <td>4.934825</td>\n      <td>0.034779</td>\n      <td>0.007346</td>\n      <td>4.934825</td>\n      <td>1</td>\n      <td>True</td>\n      <td>3</td>\n    </tr>\n    <tr>\n      <th>6</th>\n      <td>RandomForestEntr</td>\n      <td>0.9382</td>\n      <td>0.948949</td>\n      <td>accuracy</td>\n      <td>0.121890</td>\n      <td>0.038557</td>\n      <td>0.971840</td>\n      <td>0.121890</td>\n      <td>0.038557</td>\n      <td>0.971840</td>\n      <td>1</td>\n      <td>True</td>\n      <td>7</td>\n    </tr>\n    <tr>\n      <th>7</th>\n      <td>ExtraTreesEntr</td>\n      <td>0.9374</td>\n      <td>0.942943</td>\n      <td>accuracy</td>\n      <td>0.192257</td>\n      <td>0.037887</td>\n      <td>0.632520</td>\n      <td>0.192257</td>\n      <td>0.037887</td>\n      <td>0.632520</td>\n      <td>1</td>\n      <td>True</td>\n      <td>10</td>\n    </tr>\n    <tr>\n      <th>8</th>\n      <td>RandomForestGini</td>\n      <td>0.9362</td>\n      <td>0.943944</td>\n      <td>accuracy</td>\n      <td>0.122725</td>\n      <td>0.037559</td>\n      <td>0.797518</td>\n      <td>0.122725</td>\n      <td>0.037559</td>\n      <td>0.797518</td>\n      <td>1</td>\n      <td>True</td>\n      <td>6</td>\n    </tr>\n    <tr>\n      <th>9</th>\n      <td>ExtraTreesGini</td>\n      <td>0.9352</td>\n      <td>0.943944</td>\n      <td>accuracy</td>\n      <td>0.157393</td>\n      <td>0.038353</td>\n      <td>0.544027</td>\n      <td>0.157393</td>\n      <td>0.038353</td>\n      <td>0.544027</td>\n      <td>1</td>\n      <td>True</td>\n      <td>9</td>\n    </tr>\n    <tr>\n      <th>10</th>\n      <td>LightGBMXT</td>\n      <td>0.9320</td>\n      <td>0.945946</td>\n      <td>accuracy</td>\n      <td>0.140610</td>\n      <td>0.026478</td>\n      <td>12.439346</td>\n      <td>0.140610</td>\n      <td>0.026478</td>\n      <td>12.439346</td>\n      <td>1</td>\n      <td>True</td>\n      <td>4</td>\n    </tr>\n    <tr>\n      <th>11</th>\n      <td>NeuralNetTorch</td>\n      <td>0.9294</td>\n      <td>0.939940</td>\n      <td>accuracy</td>\n      <td>0.013174</td>\n      <td>0.007655</td>\n      <td>19.959393</td>\n      <td>0.013174</td>\n      <td>0.007655</td>\n      <td>19.959393</td>\n      <td>1</td>\n      <td>True</td>\n      <td>12</td>\n    </tr>\n    <tr>\n      <th>12</th>\n      <td>KNeighborsDist</td>\n      <td>0.2210</td>\n      <td>0.213213</td>\n      <td>accuracy</td>\n      <td>0.017650</td>\n      <td>0.015233</td>\n      <td>0.011637</td>\n      <td>0.017650</td>\n      <td>0.015233</td>\n      <td>0.011637</td>\n      <td>1</td>\n      <td>True</td>\n      <td>2</td>\n    </tr>\n    <tr>\n      <th>13</th>\n      <td>KNeighborsUnif</td>\n      <td>0.2180</td>\n      <td>0.223223</td>\n      <td>accuracy</td>\n      <td>0.014010</td>\n      <td>0.022257</td>\n      <td>0.955959</td>\n      <td>0.014010</td>\n      <td>0.022257</td>\n      <td>0.955959</td>\n      <td>1</td>\n      <td>True</td>\n      <td>1</td>\n    </tr>\n  </tbody>\n</table>\n</div>"
     },
     "execution_count": 8,
     "metadata": {},
     "output_type": "execute_result"
    }
   ],
   "source": [
    "predictor.leaderboard(test_data)"
   ],
   "metadata": {
    "collapsed": false,
    "ExecuteTime": {
     "end_time": "2024-02-07T06:27:03.914438Z",
     "start_time": "2024-02-07T06:27:02.485173Z"
    }
   },
   "id": "8dedd4b9f1139096",
   "execution_count": 8
  }
 ],
 "metadata": {
  "kernelspec": {
   "display_name": "Python 3",
   "language": "python",
   "name": "python3"
  },
  "language_info": {
   "codemirror_mode": {
    "name": "ipython",
    "version": 2
   },
   "file_extension": ".py",
   "mimetype": "text/x-python",
   "name": "python",
   "nbconvert_exporter": "python",
   "pygments_lexer": "ipython2",
   "version": "2.7.6"
  }
 },
 "nbformat": 4,
 "nbformat_minor": 5
}
