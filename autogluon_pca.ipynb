{
 "cells": [
  {
   "cell_type": "code",
   "outputs": [
    {
     "name": "stdout",
     "output_type": "stream",
     "text": [
      "[[5.1 3.5 1.4 0.2]\n",
      " [4.9 3.  1.4 0.2]\n",
      " [4.7 3.2 1.3 0.2]\n",
      " [4.6 3.1 1.5 0.2]\n",
      " [5.  3.6 1.4 0.2]\n",
      " [5.4 3.9 1.7 0.4]\n",
      " [4.6 3.4 1.4 0.3]\n",
      " [5.  3.4 1.5 0.2]\n",
      " [4.4 2.9 1.4 0.2]\n",
      " [4.9 3.1 1.5 0.1]]\n"
     ]
    }
   ],
   "source": [
    "import numpy as np\n",
    "import pandas as pd\n",
    "from sklearn.datasets import load_iris\n",
    "from sklearn.decomposition import PCA\n",
    "from autogluon.tabular import TabularPredictor\n",
    "\n",
    "# Загрузка датасета Iris\n",
    "iris = load_iris()\n",
    "X = iris.data\n",
    "y = iris.target\n",
    "\n",
    "print(X[:10])"
   ],
   "metadata": {
    "collapsed": false,
    "ExecuteTime": {
     "end_time": "2024-02-09T13:51:20.978548Z",
     "start_time": "2024-02-09T13:51:20.970797Z"
    }
   },
   "id": "c7a730feffd379e7",
   "execution_count": 54
  },
  {
   "cell_type": "code",
   "outputs": [
    {
     "name": "stdout",
     "output_type": "stream",
     "text": [
      "[[-2.68412563  0.31939725]\n",
      " [-2.71414169 -0.17700123]\n",
      " [-2.88899057 -0.14494943]\n",
      " [-2.74534286 -0.31829898]\n",
      " [-2.72871654  0.32675451]\n",
      " [-2.28085963  0.74133045]\n",
      " [-2.82053775 -0.08946138]\n",
      " [-2.62614497  0.16338496]\n",
      " [-2.88638273 -0.57831175]\n",
      " [-2.6727558  -0.11377425]]\n"
     ]
    }
   ],
   "source": [
    "# Применение PCA\n",
    "pca = PCA(n_components=2)\n",
    "X_pca = pca.fit_transform(X)\n",
    "print(X_pca[:10])"
   ],
   "metadata": {
    "collapsed": false,
    "ExecuteTime": {
     "end_time": "2024-02-09T13:51:20.990206Z",
     "start_time": "2024-02-09T13:51:20.983409Z"
    }
   },
   "id": "f0810746ce36007",
   "execution_count": 55
  },
  {
   "cell_type": "code",
   "outputs": [],
   "source": [
    "# Создание нового датасета с использованием новых признаков\n",
    "new_data = np.concatenate((X_pca, y.reshape(-1, 1)), axis=1)\n",
    "new_data = pd.DataFrame(new_data, columns=['feature1', 'feature2', 'target'])"
   ],
   "metadata": {
    "collapsed": false,
    "ExecuteTime": {
     "end_time": "2024-02-09T13:51:20.994020Z",
     "start_time": "2024-02-09T13:51:20.991786Z"
    }
   },
   "id": "676ebe95dc792a09",
   "execution_count": 56
  },
  {
   "cell_type": "code",
   "outputs": [
    {
     "name": "stderr",
     "output_type": "stream",
     "text": [
      "No path specified. Models will be saved in: \"AutogluonModels/ag-20240209_135120\"\n",
      "Presets specified: ['medium_quality']\n",
      "Beginning AutoGluon training ...\n",
      "AutoGluon will save models to \"AutogluonModels/ag-20240209_135120\"\n",
      "=================== System Info ===================\n",
      "AutoGluon Version:  1.0.0\n",
      "Python Version:     3.9.6\n",
      "Operating System:   Darwin\n",
      "Platform Machine:   arm64\n",
      "Platform Version:   Darwin Kernel Version 21.6.0: Mon Dec 19 20:46:01 PST 2022; root:xnu-8020.240.18~2/RELEASE_ARM64_T8101\n",
      "CPU Count:          8\n",
      "Memory Avail:       6.33 GB / 16.00 GB (39.6%)\n",
      "Disk Space Avail:   56.47 GB / 228.27 GB (24.7%)\n",
      "===================================================\n",
      "Train Data Rows:    150\n",
      "Train Data Columns: 2\n",
      "Label Column:       target\n",
      "AutoGluon infers your prediction problem is: 'multiclass' (because dtype of label-column == float, but few unique label-values observed and label-values can be converted to int).\n",
      "\t3 unique label values:  [0.0, 1.0, 2.0]\n",
      "\tIf 'multiclass' is not the correct problem_type, please manually specify the problem_type parameter during predictor init (You may specify problem_type as one of: ['binary', 'multiclass', 'regression'])\n",
      "Problem Type:       multiclass\n",
      "Preprocessing data ...\n",
      "Train Data Class Count: 3\n",
      "Using Feature Generators to preprocess the data ...\n",
      "Fitting AutoMLPipelineFeatureGenerator...\n",
      "\tAvailable Memory:                    6482.72 MB\n",
      "\tTrain Data (Original)  Memory Usage: 0.00 MB (0.0% of available memory)\n",
      "\tInferring data type of each feature based on column values. Set feature_metadata_in to manually specify special dtypes of the features.\n",
      "\tStage 1 Generators:\n",
      "\t\tFitting AsTypeFeatureGenerator...\n",
      "\tStage 2 Generators:\n",
      "\t\tFitting FillNaFeatureGenerator...\n",
      "\tStage 3 Generators:\n",
      "\t\tFitting IdentityFeatureGenerator...\n",
      "\tStage 4 Generators:\n",
      "\t\tFitting DropUniqueFeatureGenerator...\n",
      "\tStage 5 Generators:\n",
      "\t\tFitting DropDuplicatesFeatureGenerator...\n",
      "\tTypes of features in original data (raw dtype, special dtypes):\n",
      "\t\t('float', []) : 2 | ['feature1', 'feature2']\n",
      "\tTypes of features in processed data (raw dtype, special dtypes):\n",
      "\t\t('float', []) : 2 | ['feature1', 'feature2']\n",
      "\t0.0s = Fit runtime\n",
      "\t2 features in original data used to generate 2 features in processed data.\n",
      "\tTrain Data (Processed) Memory Usage: 0.00 MB (0.0% of available memory)\n",
      "Data preprocessing and feature engineering runtime = 0.03s ...\n",
      "AutoGluon will gauge predictive performance using evaluation metric: 'accuracy'\n",
      "\tTo change this, specify the eval_metric parameter of Predictor()\n",
      "Automatically generating train/validation split with holdout_frac=0.2, Train Rows: 120, Val Rows: 30\n",
      "User-specified model hyperparameters to be fit:\n",
      "{\n",
      "\t'NN_TORCH': {},\n",
      "\t'GBM': [{'extra_trees': True, 'ag_args': {'name_suffix': 'XT'}}, {}, 'GBMLarge'],\n",
      "\t'CAT': {},\n",
      "\t'XGB': {},\n",
      "\t'FASTAI': {},\n",
      "\t'RF': [{'criterion': 'gini', 'ag_args': {'name_suffix': 'Gini', 'problem_types': ['binary', 'multiclass']}}, {'criterion': 'entropy', 'ag_args': {'name_suffix': 'Entr', 'problem_types': ['binary', 'multiclass']}}, {'criterion': 'squared_error', 'ag_args': {'name_suffix': 'MSE', 'problem_types': ['regression', 'quantile']}}],\n",
      "\t'XT': [{'criterion': 'gini', 'ag_args': {'name_suffix': 'Gini', 'problem_types': ['binary', 'multiclass']}}, {'criterion': 'entropy', 'ag_args': {'name_suffix': 'Entr', 'problem_types': ['binary', 'multiclass']}}, {'criterion': 'squared_error', 'ag_args': {'name_suffix': 'MSE', 'problem_types': ['regression', 'quantile']}}],\n",
      "\t'KNN': [{'weights': 'uniform', 'ag_args': {'name_suffix': 'Unif'}}, {'weights': 'distance', 'ag_args': {'name_suffix': 'Dist'}}],\n",
      "}\n",
      "Fitting 13 L1 models ...\n",
      "Fitting model: KNeighborsUnif ...\n",
      "\t0.9667\t = Validation score   (accuracy)\n",
      "\t0.0s\t = Training   runtime\n",
      "\t0.01s\t = Validation runtime\n",
      "Fitting model: KNeighborsDist ...\n",
      "\t0.9667\t = Validation score   (accuracy)\n",
      "\t0.0s\t = Training   runtime\n",
      "\t0.01s\t = Validation runtime\n",
      "Fitting model: NeuralNetFastAI ...\n",
      "No improvement since epoch 7: early stopping\n",
      "\t1.0\t = Validation score   (accuracy)\n",
      "\t0.39s\t = Training   runtime\n",
      "\t0.0s\t = Validation runtime\n",
      "Fitting model: LightGBMXT ...\n",
      "\t1.0\t = Validation score   (accuracy)\n",
      "\t0.59s\t = Training   runtime\n",
      "\t0.0s\t = Validation runtime\n",
      "Fitting model: LightGBM ...\n",
      "\t1.0\t = Validation score   (accuracy)\n",
      "\t0.51s\t = Training   runtime\n",
      "\t0.0s\t = Validation runtime\n",
      "Fitting model: RandomForestGini ...\n",
      "\t0.9667\t = Validation score   (accuracy)\n",
      "\t0.2s\t = Training   runtime\n",
      "\t0.01s\t = Validation runtime\n",
      "Fitting model: RandomForestEntr ...\n",
      "\t0.9667\t = Validation score   (accuracy)\n",
      "\t0.19s\t = Training   runtime\n",
      "\t0.01s\t = Validation runtime\n",
      "Fitting model: CatBoost ...\n",
      "\t0.9667\t = Validation score   (accuracy)\n",
      "\t0.19s\t = Training   runtime\n",
      "\t0.0s\t = Validation runtime\n",
      "Fitting model: ExtraTreesGini ...\n",
      "\t1.0\t = Validation score   (accuracy)\n",
      "\t0.2s\t = Training   runtime\n",
      "\t0.01s\t = Validation runtime\n",
      "Fitting model: ExtraTreesEntr ...\n",
      "\t1.0\t = Validation score   (accuracy)\n",
      "\t0.21s\t = Training   runtime\n",
      "\t0.03s\t = Validation runtime\n",
      "Fitting model: XGBoost ...\n",
      "\t1.0\t = Validation score   (accuracy)\n",
      "\t0.18s\t = Training   runtime\n",
      "\t0.0s\t = Validation runtime\n",
      "Fitting model: NeuralNetTorch ...\n",
      "\t1.0\t = Validation score   (accuracy)\n",
      "\t0.22s\t = Training   runtime\n",
      "\t0.0s\t = Validation runtime\n",
      "Fitting model: LightGBMLarge ...\n",
      "\t1.0\t = Validation score   (accuracy)\n",
      "\t1.69s\t = Training   runtime\n",
      "\t0.0s\t = Validation runtime\n",
      "Fitting model: WeightedEnsemble_L2 ...\n",
      "\tEnsemble Weights: {'ExtraTreesEntr': 1.0}\n",
      "\t1.0\t = Validation score   (accuracy)\n",
      "\t0.2s\t = Training   runtime\n",
      "\t0.0s\t = Validation runtime\n",
      "AutoGluon training complete, total runtime = 5.01s ... Best model: \"WeightedEnsemble_L2\"\n",
      "TabularPredictor saved. To load, use: predictor = TabularPredictor.load(\"AutogluonModels/ag-20240209_135120\")\n"
     ]
    }
   ],
   "source": [
    "# Создание и обучение модели с помощью AutoGluon\n",
    "predictor = TabularPredictor(label='target').fit(new_data, presets='medium_quality')\n",
    "# predictor = TabularPredictor.load(\"AutogluonModels/ag-20240209_065058\")"
   ],
   "metadata": {
    "collapsed": false,
    "ExecuteTime": {
     "end_time": "2024-02-09T13:51:26.021916Z",
     "start_time": "2024-02-09T13:51:20.997582Z"
    }
   },
   "id": "228770574415a4ff",
   "execution_count": 57
  },
  {
   "cell_type": "code",
   "outputs": [
    {
     "data": {
      "text/plain": "0    0.0\n1    2.0\n2    1.0\nName: target, dtype: float64"
     },
     "execution_count": 58,
     "metadata": {},
     "output_type": "execute_result"
    }
   ],
   "source": [
    "# Прогнозирование на новых данных\n",
    "new_X = np.array([[5.1, 3.5, 1.4, 0.2], [5.9, 3.0, 5.1, 1.8], [5.1, 2.5, 3.0, 1.1]])  # Пример новых данных\n",
    "new_X_pca = pca.transform(new_X)\n",
    "test_data = pd.DataFrame(np.concatenate((new_X_pca, [[0], [2], [1]]), axis=1),\n",
    "                        columns=['feature1', 'feature2', 'target'])\n",
    "predictions = predictor.predict(test_data)\n",
    "\n",
    "predictions.head()"
   ],
   "metadata": {
    "collapsed": false,
    "ExecuteTime": {
     "end_time": "2024-02-09T13:51:26.062496Z",
     "start_time": "2024-02-09T13:51:26.024906Z"
    }
   },
   "id": "8dedd4b9f1139096",
   "execution_count": 58
  },
  {
   "cell_type": "code",
   "outputs": [
    {
     "data": {
      "text/plain": "{'accuracy': 1.0, 'balanced_accuracy': 1.0, 'mcc': 1.0}"
     },
     "execution_count": 59,
     "metadata": {},
     "output_type": "execute_result"
    }
   ],
   "source": [
    "predictor.evaluate(new_data, silent=True)"
   ],
   "metadata": {
    "collapsed": false,
    "ExecuteTime": {
     "end_time": "2024-02-09T13:51:26.098922Z",
     "start_time": "2024-02-09T13:51:26.062810Z"
    }
   },
   "id": "565371b3fdcd8929",
   "execution_count": 59
  },
  {
   "cell_type": "code",
   "outputs": [
    {
     "data": {
      "text/plain": "                  model  score_test  score_val eval_metric  pred_time_test  \\\n0        ExtraTreesGini    1.000000   1.000000    accuracy        0.029410   \n1        ExtraTreesEntr    1.000000   1.000000    accuracy        0.030488   \n2   WeightedEnsemble_L2    1.000000   1.000000    accuracy        0.031276   \n3         LightGBMLarge    0.993333   1.000000    accuracy        0.002221   \n4        KNeighborsDist    0.993333   0.966667    accuracy        0.013983   \n5      RandomForestEntr    0.993333   0.966667    accuracy        0.028854   \n6      RandomForestGini    0.993333   0.966667    accuracy        0.030254   \n7        NeuralNetTorch    0.980000   1.000000    accuracy        0.002324   \n8               XGBoost    0.980000   1.000000    accuracy        0.008882   \n9              LightGBM    0.966667   1.000000    accuracy        0.001231   \n10           LightGBMXT    0.966667   1.000000    accuracy        0.003215   \n11      NeuralNetFastAI    0.966667   1.000000    accuracy        0.008890   \n12       KNeighborsUnif    0.966667   0.966667    accuracy        0.013900   \n13             CatBoost    0.926667   0.966667    accuracy        0.001052   \n\n    pred_time_val  fit_time  pred_time_test_marginal  pred_time_val_marginal  \\\n0        0.014375  0.199694                 0.029410                0.014375   \n1        0.026259  0.205901                 0.030488                0.026259   \n2        0.026497  0.409636                 0.000788                0.000238   \n3        0.000766  1.690082                 0.002221                0.000766   \n4        0.014922  0.002849                 0.013983                0.014922   \n5        0.014579  0.192665                 0.028854                0.014579   \n6        0.014202  0.199318                 0.030254                0.014202   \n7        0.001751  0.222265                 0.002324                0.001751   \n8        0.001385  0.178305                 0.008882                0.001385   \n9        0.000764  0.508965                 0.001231                0.000764   \n10       0.000981  0.593613                 0.003215                0.000981   \n11       0.003032  0.389668                 0.008890                0.003032   \n12       0.014448  0.002727                 0.013900                0.014448   \n13       0.000536  0.190729                 0.001052                0.000536   \n\n    fit_time_marginal  stack_level  can_infer  fit_order  \n0            0.199694            1       True          9  \n1            0.205901            1       True         10  \n2            0.203735            2       True         14  \n3            1.690082            1       True         13  \n4            0.002849            1       True          2  \n5            0.192665            1       True          7  \n6            0.199318            1       True          6  \n7            0.222265            1       True         12  \n8            0.178305            1       True         11  \n9            0.508965            1       True          5  \n10           0.593613            1       True          4  \n11           0.389668            1       True          3  \n12           0.002727            1       True          1  \n13           0.190729            1       True          8  ",
      "text/html": "<div>\n<style scoped>\n    .dataframe tbody tr th:only-of-type {\n        vertical-align: middle;\n    }\n\n    .dataframe tbody tr th {\n        vertical-align: top;\n    }\n\n    .dataframe thead th {\n        text-align: right;\n    }\n</style>\n<table border=\"1\" class=\"dataframe\">\n  <thead>\n    <tr style=\"text-align: right;\">\n      <th></th>\n      <th>model</th>\n      <th>score_test</th>\n      <th>score_val</th>\n      <th>eval_metric</th>\n      <th>pred_time_test</th>\n      <th>pred_time_val</th>\n      <th>fit_time</th>\n      <th>pred_time_test_marginal</th>\n      <th>pred_time_val_marginal</th>\n      <th>fit_time_marginal</th>\n      <th>stack_level</th>\n      <th>can_infer</th>\n      <th>fit_order</th>\n    </tr>\n  </thead>\n  <tbody>\n    <tr>\n      <th>0</th>\n      <td>ExtraTreesGini</td>\n      <td>1.000000</td>\n      <td>1.000000</td>\n      <td>accuracy</td>\n      <td>0.029410</td>\n      <td>0.014375</td>\n      <td>0.199694</td>\n      <td>0.029410</td>\n      <td>0.014375</td>\n      <td>0.199694</td>\n      <td>1</td>\n      <td>True</td>\n      <td>9</td>\n    </tr>\n    <tr>\n      <th>1</th>\n      <td>ExtraTreesEntr</td>\n      <td>1.000000</td>\n      <td>1.000000</td>\n      <td>accuracy</td>\n      <td>0.030488</td>\n      <td>0.026259</td>\n      <td>0.205901</td>\n      <td>0.030488</td>\n      <td>0.026259</td>\n      <td>0.205901</td>\n      <td>1</td>\n      <td>True</td>\n      <td>10</td>\n    </tr>\n    <tr>\n      <th>2</th>\n      <td>WeightedEnsemble_L2</td>\n      <td>1.000000</td>\n      <td>1.000000</td>\n      <td>accuracy</td>\n      <td>0.031276</td>\n      <td>0.026497</td>\n      <td>0.409636</td>\n      <td>0.000788</td>\n      <td>0.000238</td>\n      <td>0.203735</td>\n      <td>2</td>\n      <td>True</td>\n      <td>14</td>\n    </tr>\n    <tr>\n      <th>3</th>\n      <td>LightGBMLarge</td>\n      <td>0.993333</td>\n      <td>1.000000</td>\n      <td>accuracy</td>\n      <td>0.002221</td>\n      <td>0.000766</td>\n      <td>1.690082</td>\n      <td>0.002221</td>\n      <td>0.000766</td>\n      <td>1.690082</td>\n      <td>1</td>\n      <td>True</td>\n      <td>13</td>\n    </tr>\n    <tr>\n      <th>4</th>\n      <td>KNeighborsDist</td>\n      <td>0.993333</td>\n      <td>0.966667</td>\n      <td>accuracy</td>\n      <td>0.013983</td>\n      <td>0.014922</td>\n      <td>0.002849</td>\n      <td>0.013983</td>\n      <td>0.014922</td>\n      <td>0.002849</td>\n      <td>1</td>\n      <td>True</td>\n      <td>2</td>\n    </tr>\n    <tr>\n      <th>5</th>\n      <td>RandomForestEntr</td>\n      <td>0.993333</td>\n      <td>0.966667</td>\n      <td>accuracy</td>\n      <td>0.028854</td>\n      <td>0.014579</td>\n      <td>0.192665</td>\n      <td>0.028854</td>\n      <td>0.014579</td>\n      <td>0.192665</td>\n      <td>1</td>\n      <td>True</td>\n      <td>7</td>\n    </tr>\n    <tr>\n      <th>6</th>\n      <td>RandomForestGini</td>\n      <td>0.993333</td>\n      <td>0.966667</td>\n      <td>accuracy</td>\n      <td>0.030254</td>\n      <td>0.014202</td>\n      <td>0.199318</td>\n      <td>0.030254</td>\n      <td>0.014202</td>\n      <td>0.199318</td>\n      <td>1</td>\n      <td>True</td>\n      <td>6</td>\n    </tr>\n    <tr>\n      <th>7</th>\n      <td>NeuralNetTorch</td>\n      <td>0.980000</td>\n      <td>1.000000</td>\n      <td>accuracy</td>\n      <td>0.002324</td>\n      <td>0.001751</td>\n      <td>0.222265</td>\n      <td>0.002324</td>\n      <td>0.001751</td>\n      <td>0.222265</td>\n      <td>1</td>\n      <td>True</td>\n      <td>12</td>\n    </tr>\n    <tr>\n      <th>8</th>\n      <td>XGBoost</td>\n      <td>0.980000</td>\n      <td>1.000000</td>\n      <td>accuracy</td>\n      <td>0.008882</td>\n      <td>0.001385</td>\n      <td>0.178305</td>\n      <td>0.008882</td>\n      <td>0.001385</td>\n      <td>0.178305</td>\n      <td>1</td>\n      <td>True</td>\n      <td>11</td>\n    </tr>\n    <tr>\n      <th>9</th>\n      <td>LightGBM</td>\n      <td>0.966667</td>\n      <td>1.000000</td>\n      <td>accuracy</td>\n      <td>0.001231</td>\n      <td>0.000764</td>\n      <td>0.508965</td>\n      <td>0.001231</td>\n      <td>0.000764</td>\n      <td>0.508965</td>\n      <td>1</td>\n      <td>True</td>\n      <td>5</td>\n    </tr>\n    <tr>\n      <th>10</th>\n      <td>LightGBMXT</td>\n      <td>0.966667</td>\n      <td>1.000000</td>\n      <td>accuracy</td>\n      <td>0.003215</td>\n      <td>0.000981</td>\n      <td>0.593613</td>\n      <td>0.003215</td>\n      <td>0.000981</td>\n      <td>0.593613</td>\n      <td>1</td>\n      <td>True</td>\n      <td>4</td>\n    </tr>\n    <tr>\n      <th>11</th>\n      <td>NeuralNetFastAI</td>\n      <td>0.966667</td>\n      <td>1.000000</td>\n      <td>accuracy</td>\n      <td>0.008890</td>\n      <td>0.003032</td>\n      <td>0.389668</td>\n      <td>0.008890</td>\n      <td>0.003032</td>\n      <td>0.389668</td>\n      <td>1</td>\n      <td>True</td>\n      <td>3</td>\n    </tr>\n    <tr>\n      <th>12</th>\n      <td>KNeighborsUnif</td>\n      <td>0.966667</td>\n      <td>0.966667</td>\n      <td>accuracy</td>\n      <td>0.013900</td>\n      <td>0.014448</td>\n      <td>0.002727</td>\n      <td>0.013900</td>\n      <td>0.014448</td>\n      <td>0.002727</td>\n      <td>1</td>\n      <td>True</td>\n      <td>1</td>\n    </tr>\n    <tr>\n      <th>13</th>\n      <td>CatBoost</td>\n      <td>0.926667</td>\n      <td>0.966667</td>\n      <td>accuracy</td>\n      <td>0.001052</td>\n      <td>0.000536</td>\n      <td>0.190729</td>\n      <td>0.001052</td>\n      <td>0.000536</td>\n      <td>0.190729</td>\n      <td>1</td>\n      <td>True</td>\n      <td>8</td>\n    </tr>\n  </tbody>\n</table>\n</div>"
     },
     "execution_count": 60,
     "metadata": {},
     "output_type": "execute_result"
    }
   ],
   "source": [
    "predictor.leaderboard(new_data)"
   ],
   "metadata": {
    "collapsed": false,
    "ExecuteTime": {
     "end_time": "2024-02-09T13:51:26.294099Z",
     "start_time": "2024-02-09T13:51:26.102634Z"
    }
   },
   "id": "c589850162adaf80",
   "execution_count": 60
  },
  {
   "cell_type": "code",
   "outputs": [
    {
     "data": {
      "text/plain": "{'accuracy': 1.0, 'balanced_accuracy': 1.0, 'mcc': 1.0}"
     },
     "execution_count": 61,
     "metadata": {},
     "output_type": "execute_result"
    }
   ],
   "source": [
    "predictor.evaluate(test_data, silent=True)"
   ],
   "metadata": {
    "collapsed": false,
    "ExecuteTime": {
     "end_time": "2024-02-09T13:51:26.453962Z",
     "start_time": "2024-02-09T13:51:26.297309Z"
    }
   },
   "id": "4d50e872c845ba4a",
   "execution_count": 61
  },
  {
   "cell_type": "code",
   "outputs": [
    {
     "data": {
      "text/plain": "                  model  score_test  score_val eval_metric  pred_time_test  \\\n0              CatBoost         1.0   0.966667    accuracy        0.000815   \n1         LightGBMLarge         1.0   1.000000    accuracy        0.001745   \n2        NeuralNetTorch         1.0   1.000000    accuracy        0.002350   \n3              LightGBM         1.0   1.000000    accuracy        0.003120   \n4            LightGBMXT         1.0   1.000000    accuracy        0.006310   \n5               XGBoost         1.0   1.000000    accuracy        0.008873   \n6       NeuralNetFastAI         1.0   1.000000    accuracy        0.013065   \n7        ExtraTreesEntr         1.0   1.000000    accuracy        0.016284   \n8        ExtraTreesGini         1.0   1.000000    accuracy        0.017004   \n9   WeightedEnsemble_L2         1.0   1.000000    accuracy        0.017022   \n10       KNeighborsDist         1.0   0.966667    accuracy        0.017112   \n11     RandomForestEntr         1.0   0.966667    accuracy        0.018686   \n12     RandomForestGini         1.0   0.966667    accuracy        0.029395   \n13       KNeighborsUnif         1.0   0.966667    accuracy        0.048753   \n\n    pred_time_val  fit_time  pred_time_test_marginal  pred_time_val_marginal  \\\n0        0.000536  0.190729                 0.000815                0.000536   \n1        0.000766  1.690082                 0.001745                0.000766   \n2        0.001751  0.222265                 0.002350                0.001751   \n3        0.000764  0.508965                 0.003120                0.000764   \n4        0.000981  0.593613                 0.006310                0.000981   \n5        0.001385  0.178305                 0.008873                0.001385   \n6        0.003032  0.389668                 0.013065                0.003032   \n7        0.026259  0.205901                 0.016284                0.026259   \n8        0.014375  0.199694                 0.017004                0.014375   \n9        0.026497  0.409636                 0.000738                0.000238   \n10       0.014922  0.002849                 0.017112                0.014922   \n11       0.014579  0.192665                 0.018686                0.014579   \n12       0.014202  0.199318                 0.029395                0.014202   \n13       0.014448  0.002727                 0.048753                0.014448   \n\n    fit_time_marginal  stack_level  can_infer  fit_order  \n0            0.190729            1       True          8  \n1            1.690082            1       True         13  \n2            0.222265            1       True         12  \n3            0.508965            1       True          5  \n4            0.593613            1       True          4  \n5            0.178305            1       True         11  \n6            0.389668            1       True          3  \n7            0.205901            1       True         10  \n8            0.199694            1       True          9  \n9            0.203735            2       True         14  \n10           0.002849            1       True          2  \n11           0.192665            1       True          7  \n12           0.199318            1       True          6  \n13           0.002727            1       True          1  ",
      "text/html": "<div>\n<style scoped>\n    .dataframe tbody tr th:only-of-type {\n        vertical-align: middle;\n    }\n\n    .dataframe tbody tr th {\n        vertical-align: top;\n    }\n\n    .dataframe thead th {\n        text-align: right;\n    }\n</style>\n<table border=\"1\" class=\"dataframe\">\n  <thead>\n    <tr style=\"text-align: right;\">\n      <th></th>\n      <th>model</th>\n      <th>score_test</th>\n      <th>score_val</th>\n      <th>eval_metric</th>\n      <th>pred_time_test</th>\n      <th>pred_time_val</th>\n      <th>fit_time</th>\n      <th>pred_time_test_marginal</th>\n      <th>pred_time_val_marginal</th>\n      <th>fit_time_marginal</th>\n      <th>stack_level</th>\n      <th>can_infer</th>\n      <th>fit_order</th>\n    </tr>\n  </thead>\n  <tbody>\n    <tr>\n      <th>0</th>\n      <td>CatBoost</td>\n      <td>1.0</td>\n      <td>0.966667</td>\n      <td>accuracy</td>\n      <td>0.000815</td>\n      <td>0.000536</td>\n      <td>0.190729</td>\n      <td>0.000815</td>\n      <td>0.000536</td>\n      <td>0.190729</td>\n      <td>1</td>\n      <td>True</td>\n      <td>8</td>\n    </tr>\n    <tr>\n      <th>1</th>\n      <td>LightGBMLarge</td>\n      <td>1.0</td>\n      <td>1.000000</td>\n      <td>accuracy</td>\n      <td>0.001745</td>\n      <td>0.000766</td>\n      <td>1.690082</td>\n      <td>0.001745</td>\n      <td>0.000766</td>\n      <td>1.690082</td>\n      <td>1</td>\n      <td>True</td>\n      <td>13</td>\n    </tr>\n    <tr>\n      <th>2</th>\n      <td>NeuralNetTorch</td>\n      <td>1.0</td>\n      <td>1.000000</td>\n      <td>accuracy</td>\n      <td>0.002350</td>\n      <td>0.001751</td>\n      <td>0.222265</td>\n      <td>0.002350</td>\n      <td>0.001751</td>\n      <td>0.222265</td>\n      <td>1</td>\n      <td>True</td>\n      <td>12</td>\n    </tr>\n    <tr>\n      <th>3</th>\n      <td>LightGBM</td>\n      <td>1.0</td>\n      <td>1.000000</td>\n      <td>accuracy</td>\n      <td>0.003120</td>\n      <td>0.000764</td>\n      <td>0.508965</td>\n      <td>0.003120</td>\n      <td>0.000764</td>\n      <td>0.508965</td>\n      <td>1</td>\n      <td>True</td>\n      <td>5</td>\n    </tr>\n    <tr>\n      <th>4</th>\n      <td>LightGBMXT</td>\n      <td>1.0</td>\n      <td>1.000000</td>\n      <td>accuracy</td>\n      <td>0.006310</td>\n      <td>0.000981</td>\n      <td>0.593613</td>\n      <td>0.006310</td>\n      <td>0.000981</td>\n      <td>0.593613</td>\n      <td>1</td>\n      <td>True</td>\n      <td>4</td>\n    </tr>\n    <tr>\n      <th>5</th>\n      <td>XGBoost</td>\n      <td>1.0</td>\n      <td>1.000000</td>\n      <td>accuracy</td>\n      <td>0.008873</td>\n      <td>0.001385</td>\n      <td>0.178305</td>\n      <td>0.008873</td>\n      <td>0.001385</td>\n      <td>0.178305</td>\n      <td>1</td>\n      <td>True</td>\n      <td>11</td>\n    </tr>\n    <tr>\n      <th>6</th>\n      <td>NeuralNetFastAI</td>\n      <td>1.0</td>\n      <td>1.000000</td>\n      <td>accuracy</td>\n      <td>0.013065</td>\n      <td>0.003032</td>\n      <td>0.389668</td>\n      <td>0.013065</td>\n      <td>0.003032</td>\n      <td>0.389668</td>\n      <td>1</td>\n      <td>True</td>\n      <td>3</td>\n    </tr>\n    <tr>\n      <th>7</th>\n      <td>ExtraTreesEntr</td>\n      <td>1.0</td>\n      <td>1.000000</td>\n      <td>accuracy</td>\n      <td>0.016284</td>\n      <td>0.026259</td>\n      <td>0.205901</td>\n      <td>0.016284</td>\n      <td>0.026259</td>\n      <td>0.205901</td>\n      <td>1</td>\n      <td>True</td>\n      <td>10</td>\n    </tr>\n    <tr>\n      <th>8</th>\n      <td>ExtraTreesGini</td>\n      <td>1.0</td>\n      <td>1.000000</td>\n      <td>accuracy</td>\n      <td>0.017004</td>\n      <td>0.014375</td>\n      <td>0.199694</td>\n      <td>0.017004</td>\n      <td>0.014375</td>\n      <td>0.199694</td>\n      <td>1</td>\n      <td>True</td>\n      <td>9</td>\n    </tr>\n    <tr>\n      <th>9</th>\n      <td>WeightedEnsemble_L2</td>\n      <td>1.0</td>\n      <td>1.000000</td>\n      <td>accuracy</td>\n      <td>0.017022</td>\n      <td>0.026497</td>\n      <td>0.409636</td>\n      <td>0.000738</td>\n      <td>0.000238</td>\n      <td>0.203735</td>\n      <td>2</td>\n      <td>True</td>\n      <td>14</td>\n    </tr>\n    <tr>\n      <th>10</th>\n      <td>KNeighborsDist</td>\n      <td>1.0</td>\n      <td>0.966667</td>\n      <td>accuracy</td>\n      <td>0.017112</td>\n      <td>0.014922</td>\n      <td>0.002849</td>\n      <td>0.017112</td>\n      <td>0.014922</td>\n      <td>0.002849</td>\n      <td>1</td>\n      <td>True</td>\n      <td>2</td>\n    </tr>\n    <tr>\n      <th>11</th>\n      <td>RandomForestEntr</td>\n      <td>1.0</td>\n      <td>0.966667</td>\n      <td>accuracy</td>\n      <td>0.018686</td>\n      <td>0.014579</td>\n      <td>0.192665</td>\n      <td>0.018686</td>\n      <td>0.014579</td>\n      <td>0.192665</td>\n      <td>1</td>\n      <td>True</td>\n      <td>7</td>\n    </tr>\n    <tr>\n      <th>12</th>\n      <td>RandomForestGini</td>\n      <td>1.0</td>\n      <td>0.966667</td>\n      <td>accuracy</td>\n      <td>0.029395</td>\n      <td>0.014202</td>\n      <td>0.199318</td>\n      <td>0.029395</td>\n      <td>0.014202</td>\n      <td>0.199318</td>\n      <td>1</td>\n      <td>True</td>\n      <td>6</td>\n    </tr>\n    <tr>\n      <th>13</th>\n      <td>KNeighborsUnif</td>\n      <td>1.0</td>\n      <td>0.966667</td>\n      <td>accuracy</td>\n      <td>0.048753</td>\n      <td>0.014448</td>\n      <td>0.002727</td>\n      <td>0.048753</td>\n      <td>0.014448</td>\n      <td>0.002727</td>\n      <td>1</td>\n      <td>True</td>\n      <td>1</td>\n    </tr>\n  </tbody>\n</table>\n</div>"
     },
     "execution_count": 62,
     "metadata": {},
     "output_type": "execute_result"
    }
   ],
   "source": [
    "predictor.leaderboard(test_data)"
   ],
   "metadata": {
    "collapsed": false,
    "ExecuteTime": {
     "end_time": "2024-02-09T13:51:26.555866Z",
     "start_time": "2024-02-09T13:51:26.394456Z"
    }
   },
   "id": "9819ad6970702f1f",
   "execution_count": 62
  }
 ],
 "metadata": {
  "kernelspec": {
   "display_name": "Python 3",
   "language": "python",
   "name": "python3"
  },
  "language_info": {
   "codemirror_mode": {
    "name": "ipython",
    "version": 2
   },
   "file_extension": ".py",
   "mimetype": "text/x-python",
   "name": "python",
   "nbconvert_exporter": "python",
   "pygments_lexer": "ipython2",
   "version": "2.7.6"
  }
 },
 "nbformat": 4,
 "nbformat_minor": 5
}
