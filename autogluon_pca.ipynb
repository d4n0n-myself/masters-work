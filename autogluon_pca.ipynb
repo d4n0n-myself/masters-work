{
 "cells": [
  {
   "cell_type": "code",
   "outputs": [
    {
     "name": "stdout",
     "output_type": "stream",
     "text": [
      "[[5.1 3.5 1.4 0.2]\n",
      " [4.9 3.  1.4 0.2]\n",
      " [4.7 3.2 1.3 0.2]\n",
      " [4.6 3.1 1.5 0.2]\n",
      " [5.  3.6 1.4 0.2]\n",
      " [5.4 3.9 1.7 0.4]\n",
      " [4.6 3.4 1.4 0.3]\n",
      " [5.  3.4 1.5 0.2]\n",
      " [4.4 2.9 1.4 0.2]\n",
      " [4.9 3.1 1.5 0.1]]\n"
     ]
    }
   ],
   "source": [
    "import numpy as np\n",
    "import pandas as pd\n",
    "from sklearn.datasets import load_iris\n",
    "from sklearn.decomposition import PCA\n",
    "from autogluon.tabular import TabularPredictor\n",
    "\n",
    "# Загрузка датасета Iris\n",
    "iris = load_iris()\n",
    "X = iris.data\n",
    "y = iris.target\n",
    "\n",
    "print(X[:10])"
   ],
   "metadata": {
    "collapsed": false,
    "ExecuteTime": {
     "end_time": "2024-02-09T13:40:18.915867Z",
     "start_time": "2024-02-09T13:40:18.906811Z"
    }
   },
   "id": "c7a730feffd379e7",
   "execution_count": 22
  },
  {
   "cell_type": "code",
   "outputs": [
    {
     "name": "stdout",
     "output_type": "stream",
     "text": [
      "[[-2.68412563  0.31939725]\n",
      " [-2.71414169 -0.17700123]\n",
      " [-2.88899057 -0.14494943]\n",
      " [-2.74534286 -0.31829898]\n",
      " [-2.72871654  0.32675451]\n",
      " [-2.28085963  0.74133045]\n",
      " [-2.82053775 -0.08946138]\n",
      " [-2.62614497  0.16338496]\n",
      " [-2.88638273 -0.57831175]\n",
      " [-2.6727558  -0.11377425]]\n"
     ]
    }
   ],
   "source": [
    "# Применение PCA\n",
    "pca = PCA(n_components=2)\n",
    "X_pca = pca.fit_transform(X)\n",
    "print(X_pca[:10])"
   ],
   "metadata": {
    "collapsed": false,
    "ExecuteTime": {
     "end_time": "2024-02-09T13:40:18.939885Z",
     "start_time": "2024-02-09T13:40:18.920437Z"
    }
   },
   "id": "f0810746ce36007",
   "execution_count": 23
  },
  {
   "cell_type": "code",
   "outputs": [],
   "source": [
    "# Создание нового датасета с использованием новых признаков\n",
    "new_data = np.concatenate((X_pca, y.reshape(-1, 1)), axis=1)\n",
    "new_data = pd.DataFrame(new_data, columns=['feature1', 'feature2', 'target'])"
   ],
   "metadata": {
    "collapsed": false,
    "ExecuteTime": {
     "end_time": "2024-02-09T13:40:18.940206Z",
     "start_time": "2024-02-09T13:40:18.925369Z"
    }
   },
   "id": "676ebe95dc792a09",
   "execution_count": 24
  },
  {
   "cell_type": "code",
   "outputs": [
    {
     "name": "stderr",
     "output_type": "stream",
     "text": [
      "No path specified. Models will be saved in: \"AutogluonModels/ag-20240209_134018\"\n",
      "Presets specified: ['medium_quality']\n",
      "Beginning AutoGluon training ...\n",
      "AutoGluon will save models to \"AutogluonModels/ag-20240209_134018\"\n",
      "=================== System Info ===================\n",
      "AutoGluon Version:  1.0.0\n",
      "Python Version:     3.9.6\n",
      "Operating System:   Darwin\n",
      "Platform Machine:   arm64\n",
      "Platform Version:   Darwin Kernel Version 21.6.0: Mon Dec 19 20:46:01 PST 2022; root:xnu-8020.240.18~2/RELEASE_ARM64_T8101\n",
      "CPU Count:          8\n",
      "Memory Avail:       6.76 GB / 16.00 GB (42.3%)\n",
      "Disk Space Avail:   55.19 GB / 228.27 GB (24.2%)\n",
      "===================================================\n",
      "Train Data Rows:    150\n",
      "Train Data Columns: 2\n",
      "Label Column:       target\n",
      "AutoGluon infers your prediction problem is: 'multiclass' (because dtype of label-column == float, but few unique label-values observed and label-values can be converted to int).\n",
      "\t3 unique label values:  [0.0, 1.0, 2.0]\n",
      "\tIf 'multiclass' is not the correct problem_type, please manually specify the problem_type parameter during predictor init (You may specify problem_type as one of: ['binary', 'multiclass', 'regression'])\n",
      "Problem Type:       multiclass\n",
      "Preprocessing data ...\n",
      "Train Data Class Count: 3\n",
      "Using Feature Generators to preprocess the data ...\n",
      "Fitting AutoMLPipelineFeatureGenerator...\n",
      "\tAvailable Memory:                    6923.13 MB\n",
      "\tTrain Data (Original)  Memory Usage: 0.00 MB (0.0% of available memory)\n",
      "\tInferring data type of each feature based on column values. Set feature_metadata_in to manually specify special dtypes of the features.\n",
      "\tStage 1 Generators:\n",
      "\t\tFitting AsTypeFeatureGenerator...\n",
      "\tStage 2 Generators:\n",
      "\t\tFitting FillNaFeatureGenerator...\n",
      "\tStage 3 Generators:\n",
      "\t\tFitting IdentityFeatureGenerator...\n",
      "\tStage 4 Generators:\n",
      "\t\tFitting DropUniqueFeatureGenerator...\n",
      "\tStage 5 Generators:\n",
      "\t\tFitting DropDuplicatesFeatureGenerator...\n",
      "\tTypes of features in original data (raw dtype, special dtypes):\n",
      "\t\t('float', []) : 2 | ['feature1', 'feature2']\n",
      "\tTypes of features in processed data (raw dtype, special dtypes):\n",
      "\t\t('float', []) : 2 | ['feature1', 'feature2']\n",
      "\t0.0s = Fit runtime\n",
      "\t2 features in original data used to generate 2 features in processed data.\n",
      "\tTrain Data (Processed) Memory Usage: 0.00 MB (0.0% of available memory)\n",
      "Data preprocessing and feature engineering runtime = 0.03s ...\n",
      "AutoGluon will gauge predictive performance using evaluation metric: 'accuracy'\n",
      "\tTo change this, specify the eval_metric parameter of Predictor()\n",
      "Automatically generating train/validation split with holdout_frac=0.2, Train Rows: 120, Val Rows: 30\n",
      "User-specified model hyperparameters to be fit:\n",
      "{\n",
      "\t'NN_TORCH': {},\n",
      "\t'GBM': [{'extra_trees': True, 'ag_args': {'name_suffix': 'XT'}}, {}, 'GBMLarge'],\n",
      "\t'CAT': {},\n",
      "\t'XGB': {},\n",
      "\t'FASTAI': {},\n",
      "\t'RF': [{'criterion': 'gini', 'ag_args': {'name_suffix': 'Gini', 'problem_types': ['binary', 'multiclass']}}, {'criterion': 'entropy', 'ag_args': {'name_suffix': 'Entr', 'problem_types': ['binary', 'multiclass']}}, {'criterion': 'squared_error', 'ag_args': {'name_suffix': 'MSE', 'problem_types': ['regression', 'quantile']}}],\n",
      "\t'XT': [{'criterion': 'gini', 'ag_args': {'name_suffix': 'Gini', 'problem_types': ['binary', 'multiclass']}}, {'criterion': 'entropy', 'ag_args': {'name_suffix': 'Entr', 'problem_types': ['binary', 'multiclass']}}, {'criterion': 'squared_error', 'ag_args': {'name_suffix': 'MSE', 'problem_types': ['regression', 'quantile']}}],\n",
      "\t'KNN': [{'weights': 'uniform', 'ag_args': {'name_suffix': 'Unif'}}, {'weights': 'distance', 'ag_args': {'name_suffix': 'Dist'}}],\n",
      "}\n",
      "Fitting 13 L1 models ...\n",
      "Fitting model: KNeighborsUnif ...\n",
      "\t0.9667\t = Validation score   (accuracy)\n",
      "\t0.0s\t = Training   runtime\n",
      "\t0.02s\t = Validation runtime\n",
      "Fitting model: KNeighborsDist ...\n",
      "\t0.9667\t = Validation score   (accuracy)\n",
      "\t0.0s\t = Training   runtime\n",
      "\t0.01s\t = Validation runtime\n",
      "Fitting model: NeuralNetFastAI ...\n",
      "No improvement since epoch 7: early stopping\n",
      "\t1.0\t = Validation score   (accuracy)\n",
      "\t0.42s\t = Training   runtime\n",
      "\t0.0s\t = Validation runtime\n",
      "Fitting model: LightGBMXT ...\n",
      "\t1.0\t = Validation score   (accuracy)\n",
      "\t0.56s\t = Training   runtime\n",
      "\t0.0s\t = Validation runtime\n",
      "Fitting model: LightGBM ...\n",
      "\t1.0\t = Validation score   (accuracy)\n",
      "\t0.49s\t = Training   runtime\n",
      "\t0.0s\t = Validation runtime\n",
      "Fitting model: RandomForestGini ...\n",
      "\t0.9667\t = Validation score   (accuracy)\n",
      "\t0.2s\t = Training   runtime\n",
      "\t0.01s\t = Validation runtime\n",
      "Fitting model: RandomForestEntr ...\n",
      "\t0.9667\t = Validation score   (accuracy)\n",
      "\t0.2s\t = Training   runtime\n",
      "\t0.01s\t = Validation runtime\n",
      "Fitting model: CatBoost ...\n",
      "\t0.9667\t = Validation score   (accuracy)\n",
      "\t0.19s\t = Training   runtime\n",
      "\t0.0s\t = Validation runtime\n",
      "Fitting model: ExtraTreesGini ...\n",
      "\t1.0\t = Validation score   (accuracy)\n",
      "\t0.21s\t = Training   runtime\n",
      "\t0.01s\t = Validation runtime\n",
      "Fitting model: ExtraTreesEntr ...\n",
      "\t1.0\t = Validation score   (accuracy)\n",
      "\t0.2s\t = Training   runtime\n",
      "\t0.01s\t = Validation runtime\n",
      "Fitting model: XGBoost ...\n",
      "\t1.0\t = Validation score   (accuracy)\n",
      "\t0.18s\t = Training   runtime\n",
      "\t0.0s\t = Validation runtime\n",
      "Fitting model: NeuralNetTorch ...\n",
      "\t1.0\t = Validation score   (accuracy)\n",
      "\t0.22s\t = Training   runtime\n",
      "\t0.0s\t = Validation runtime\n",
      "Fitting model: LightGBMLarge ...\n",
      "\t1.0\t = Validation score   (accuracy)\n",
      "\t1.71s\t = Training   runtime\n",
      "\t0.0s\t = Validation runtime\n",
      "Fitting model: WeightedEnsemble_L2 ...\n",
      "\tEnsemble Weights: {'ExtraTreesEntr': 1.0}\n",
      "\t1.0\t = Validation score   (accuracy)\n",
      "\t0.21s\t = Training   runtime\n",
      "\t0.0s\t = Validation runtime\n",
      "AutoGluon training complete, total runtime = 5.0s ... Best model: \"WeightedEnsemble_L2\"\n",
      "TabularPredictor saved. To load, use: predictor = TabularPredictor.load(\"AutogluonModels/ag-20240209_134018\")\n"
     ]
    }
   ],
   "source": [
    "# Создание и обучение модели с помощью AutoGluon\n",
    "predictor = TabularPredictor(label='target').fit(new_data, presets='medium_quality')\n",
    "# predictor = TabularPredictor.load(\"AutogluonModels/ag-20240209_065058\")"
   ],
   "metadata": {
    "collapsed": false,
    "ExecuteTime": {
     "end_time": "2024-02-09T13:40:23.943693Z",
     "start_time": "2024-02-09T13:40:18.931820Z"
    }
   },
   "id": "228770574415a4ff",
   "execution_count": 25
  },
  {
   "cell_type": "code",
   "outputs": [
    {
     "data": {
      "text/plain": "0    0.0\n1    2.0\n2    1.0\nName: target, dtype: float64"
     },
     "execution_count": 26,
     "metadata": {},
     "output_type": "execute_result"
    }
   ],
   "source": [
    "# Прогнозирование на новых данных\n",
    "new_X = np.array([[5.1, 3.5, 1.4, 0.2], [5.9, 3.0, 5.1, 1.8], [5.1, 2.5, 3.0, 1.1]])  # Пример новых данных\n",
    "new_X_pca = pca.transform(new_X)\n",
    "test_data = pd.DataFrame(np.concatenate((new_X_pca, np.zeros((new_X.shape[0], 1))), axis=1),\n",
    "                        columns=['feature1', 'feature2', 'target'])\n",
    "predictions = predictor.predict(test_data)\n",
    "\n",
    "predictions.head()"
   ],
   "metadata": {
    "collapsed": false,
    "ExecuteTime": {
     "end_time": "2024-02-09T13:40:23.972115Z",
     "start_time": "2024-02-09T13:40:23.944972Z"
    }
   },
   "id": "8dedd4b9f1139096",
   "execution_count": 26
  },
  {
   "cell_type": "code",
   "outputs": [
    {
     "data": {
      "text/plain": "{'accuracy': 1.0, 'balanced_accuracy': 1.0, 'mcc': 1.0}"
     },
     "execution_count": 27,
     "metadata": {},
     "output_type": "execute_result"
    }
   ],
   "source": [
    "predictor.evaluate(new_data, silent=True)"
   ],
   "metadata": {
    "collapsed": false,
    "ExecuteTime": {
     "end_time": "2024-02-09T13:40:24.014201Z",
     "start_time": "2024-02-09T13:40:23.973179Z"
    }
   },
   "id": "565371b3fdcd8929",
   "execution_count": 27
  },
  {
   "cell_type": "code",
   "outputs": [
    {
     "data": {
      "text/plain": "                  model  score_test  score_val eval_metric  pred_time_test  \\\n0        ExtraTreesGini    1.000000   1.000000    accuracy        0.029066   \n1        ExtraTreesEntr    1.000000   1.000000    accuracy        0.030894   \n2   WeightedEnsemble_L2    1.000000   1.000000    accuracy        0.031732   \n3         LightGBMLarge    0.993333   1.000000    accuracy        0.002433   \n4        KNeighborsDist    0.993333   0.966667    accuracy        0.013558   \n5      RandomForestGini    0.993333   0.966667    accuracy        0.026818   \n6      RandomForestEntr    0.993333   0.966667    accuracy        0.029340   \n7        NeuralNetTorch    0.980000   1.000000    accuracy        0.002406   \n8               XGBoost    0.980000   1.000000    accuracy        0.008898   \n9              LightGBM    0.966667   1.000000    accuracy        0.001203   \n10           LightGBMXT    0.966667   1.000000    accuracy        0.002732   \n11      NeuralNetFastAI    0.966667   1.000000    accuracy        0.008907   \n12       KNeighborsUnif    0.966667   0.966667    accuracy        0.015974   \n13             CatBoost    0.926667   0.966667    accuracy        0.001070   \n\n    pred_time_val  fit_time  pred_time_test_marginal  pred_time_val_marginal  \\\n0        0.013501  0.205380                 0.029066                0.013501   \n1        0.014218  0.195897                 0.030894                0.014218   \n2        0.014449  0.402034                 0.000838                0.000231   \n3        0.000762  1.705988                 0.002433                0.000762   \n4        0.013513  0.002712                 0.013558                0.013513   \n5        0.013673  0.200143                 0.026818                0.013673   \n6        0.013612  0.199914                 0.029340                0.013612   \n7        0.001492  0.222422                 0.002406                0.001492   \n8        0.001181  0.179256                 0.008898                0.001181   \n9        0.000728  0.489312                 0.001203                0.000728   \n10       0.000839  0.559425                 0.002732                0.000839   \n11       0.003323  0.422933                 0.008907                0.003323   \n12       0.015451  0.002872                 0.015974                0.015451   \n13       0.000574  0.193996                 0.001070                0.000574   \n\n    fit_time_marginal  stack_level  can_infer  fit_order  \n0            0.205380            1       True          9  \n1            0.195897            1       True         10  \n2            0.206137            2       True         14  \n3            1.705988            1       True         13  \n4            0.002712            1       True          2  \n5            0.200143            1       True          6  \n6            0.199914            1       True          7  \n7            0.222422            1       True         12  \n8            0.179256            1       True         11  \n9            0.489312            1       True          5  \n10           0.559425            1       True          4  \n11           0.422933            1       True          3  \n12           0.002872            1       True          1  \n13           0.193996            1       True          8  ",
      "text/html": "<div>\n<style scoped>\n    .dataframe tbody tr th:only-of-type {\n        vertical-align: middle;\n    }\n\n    .dataframe tbody tr th {\n        vertical-align: top;\n    }\n\n    .dataframe thead th {\n        text-align: right;\n    }\n</style>\n<table border=\"1\" class=\"dataframe\">\n  <thead>\n    <tr style=\"text-align: right;\">\n      <th></th>\n      <th>model</th>\n      <th>score_test</th>\n      <th>score_val</th>\n      <th>eval_metric</th>\n      <th>pred_time_test</th>\n      <th>pred_time_val</th>\n      <th>fit_time</th>\n      <th>pred_time_test_marginal</th>\n      <th>pred_time_val_marginal</th>\n      <th>fit_time_marginal</th>\n      <th>stack_level</th>\n      <th>can_infer</th>\n      <th>fit_order</th>\n    </tr>\n  </thead>\n  <tbody>\n    <tr>\n      <th>0</th>\n      <td>ExtraTreesGini</td>\n      <td>1.000000</td>\n      <td>1.000000</td>\n      <td>accuracy</td>\n      <td>0.029066</td>\n      <td>0.013501</td>\n      <td>0.205380</td>\n      <td>0.029066</td>\n      <td>0.013501</td>\n      <td>0.205380</td>\n      <td>1</td>\n      <td>True</td>\n      <td>9</td>\n    </tr>\n    <tr>\n      <th>1</th>\n      <td>ExtraTreesEntr</td>\n      <td>1.000000</td>\n      <td>1.000000</td>\n      <td>accuracy</td>\n      <td>0.030894</td>\n      <td>0.014218</td>\n      <td>0.195897</td>\n      <td>0.030894</td>\n      <td>0.014218</td>\n      <td>0.195897</td>\n      <td>1</td>\n      <td>True</td>\n      <td>10</td>\n    </tr>\n    <tr>\n      <th>2</th>\n      <td>WeightedEnsemble_L2</td>\n      <td>1.000000</td>\n      <td>1.000000</td>\n      <td>accuracy</td>\n      <td>0.031732</td>\n      <td>0.014449</td>\n      <td>0.402034</td>\n      <td>0.000838</td>\n      <td>0.000231</td>\n      <td>0.206137</td>\n      <td>2</td>\n      <td>True</td>\n      <td>14</td>\n    </tr>\n    <tr>\n      <th>3</th>\n      <td>LightGBMLarge</td>\n      <td>0.993333</td>\n      <td>1.000000</td>\n      <td>accuracy</td>\n      <td>0.002433</td>\n      <td>0.000762</td>\n      <td>1.705988</td>\n      <td>0.002433</td>\n      <td>0.000762</td>\n      <td>1.705988</td>\n      <td>1</td>\n      <td>True</td>\n      <td>13</td>\n    </tr>\n    <tr>\n      <th>4</th>\n      <td>KNeighborsDist</td>\n      <td>0.993333</td>\n      <td>0.966667</td>\n      <td>accuracy</td>\n      <td>0.013558</td>\n      <td>0.013513</td>\n      <td>0.002712</td>\n      <td>0.013558</td>\n      <td>0.013513</td>\n      <td>0.002712</td>\n      <td>1</td>\n      <td>True</td>\n      <td>2</td>\n    </tr>\n    <tr>\n      <th>5</th>\n      <td>RandomForestGini</td>\n      <td>0.993333</td>\n      <td>0.966667</td>\n      <td>accuracy</td>\n      <td>0.026818</td>\n      <td>0.013673</td>\n      <td>0.200143</td>\n      <td>0.026818</td>\n      <td>0.013673</td>\n      <td>0.200143</td>\n      <td>1</td>\n      <td>True</td>\n      <td>6</td>\n    </tr>\n    <tr>\n      <th>6</th>\n      <td>RandomForestEntr</td>\n      <td>0.993333</td>\n      <td>0.966667</td>\n      <td>accuracy</td>\n      <td>0.029340</td>\n      <td>0.013612</td>\n      <td>0.199914</td>\n      <td>0.029340</td>\n      <td>0.013612</td>\n      <td>0.199914</td>\n      <td>1</td>\n      <td>True</td>\n      <td>7</td>\n    </tr>\n    <tr>\n      <th>7</th>\n      <td>NeuralNetTorch</td>\n      <td>0.980000</td>\n      <td>1.000000</td>\n      <td>accuracy</td>\n      <td>0.002406</td>\n      <td>0.001492</td>\n      <td>0.222422</td>\n      <td>0.002406</td>\n      <td>0.001492</td>\n      <td>0.222422</td>\n      <td>1</td>\n      <td>True</td>\n      <td>12</td>\n    </tr>\n    <tr>\n      <th>8</th>\n      <td>XGBoost</td>\n      <td>0.980000</td>\n      <td>1.000000</td>\n      <td>accuracy</td>\n      <td>0.008898</td>\n      <td>0.001181</td>\n      <td>0.179256</td>\n      <td>0.008898</td>\n      <td>0.001181</td>\n      <td>0.179256</td>\n      <td>1</td>\n      <td>True</td>\n      <td>11</td>\n    </tr>\n    <tr>\n      <th>9</th>\n      <td>LightGBM</td>\n      <td>0.966667</td>\n      <td>1.000000</td>\n      <td>accuracy</td>\n      <td>0.001203</td>\n      <td>0.000728</td>\n      <td>0.489312</td>\n      <td>0.001203</td>\n      <td>0.000728</td>\n      <td>0.489312</td>\n      <td>1</td>\n      <td>True</td>\n      <td>5</td>\n    </tr>\n    <tr>\n      <th>10</th>\n      <td>LightGBMXT</td>\n      <td>0.966667</td>\n      <td>1.000000</td>\n      <td>accuracy</td>\n      <td>0.002732</td>\n      <td>0.000839</td>\n      <td>0.559425</td>\n      <td>0.002732</td>\n      <td>0.000839</td>\n      <td>0.559425</td>\n      <td>1</td>\n      <td>True</td>\n      <td>4</td>\n    </tr>\n    <tr>\n      <th>11</th>\n      <td>NeuralNetFastAI</td>\n      <td>0.966667</td>\n      <td>1.000000</td>\n      <td>accuracy</td>\n      <td>0.008907</td>\n      <td>0.003323</td>\n      <td>0.422933</td>\n      <td>0.008907</td>\n      <td>0.003323</td>\n      <td>0.422933</td>\n      <td>1</td>\n      <td>True</td>\n      <td>3</td>\n    </tr>\n    <tr>\n      <th>12</th>\n      <td>KNeighborsUnif</td>\n      <td>0.966667</td>\n      <td>0.966667</td>\n      <td>accuracy</td>\n      <td>0.015974</td>\n      <td>0.015451</td>\n      <td>0.002872</td>\n      <td>0.015974</td>\n      <td>0.015451</td>\n      <td>0.002872</td>\n      <td>1</td>\n      <td>True</td>\n      <td>1</td>\n    </tr>\n    <tr>\n      <th>13</th>\n      <td>CatBoost</td>\n      <td>0.926667</td>\n      <td>0.966667</td>\n      <td>accuracy</td>\n      <td>0.001070</td>\n      <td>0.000574</td>\n      <td>0.193996</td>\n      <td>0.001070</td>\n      <td>0.000574</td>\n      <td>0.193996</td>\n      <td>1</td>\n      <td>True</td>\n      <td>8</td>\n    </tr>\n  </tbody>\n</table>\n</div>"
     },
     "execution_count": 28,
     "metadata": {},
     "output_type": "execute_result"
    }
   ],
   "source": [
    "predictor.leaderboard(new_data)"
   ],
   "metadata": {
    "collapsed": false,
    "ExecuteTime": {
     "end_time": "2024-02-09T13:40:24.208505Z",
     "start_time": "2024-02-09T13:40:24.018295Z"
    }
   },
   "id": "c589850162adaf80",
   "execution_count": 28
  },
  {
   "cell_type": "code",
   "outputs": [
    {
     "data": {
      "text/plain": "{'accuracy': 0.3333333333333333,\n 'balanced_accuracy': 0.7777777777777777,\n 'mcc': 0.0}"
     },
     "execution_count": 29,
     "metadata": {},
     "output_type": "execute_result"
    }
   ],
   "source": [
    "predictor.evaluate(test_data, silent=True)"
   ],
   "metadata": {
    "collapsed": false,
    "ExecuteTime": {
     "end_time": "2024-02-09T13:40:24.245993Z",
     "start_time": "2024-02-09T13:40:24.208064Z"
    }
   },
   "id": "4d50e872c845ba4a",
   "execution_count": 29
  },
  {
   "cell_type": "code",
   "outputs": [
    {
     "data": {
      "text/plain": "                  model  score_test  score_val eval_metric  pred_time_test  \\\n0              CatBoost    0.333333   0.966667    accuracy        0.000850   \n1              LightGBM    0.333333   1.000000    accuracy        0.001788   \n2         LightGBMLarge    0.333333   1.000000    accuracy        0.001936   \n3        NeuralNetTorch    0.333333   1.000000    accuracy        0.002301   \n4            LightGBMXT    0.333333   1.000000    accuracy        0.002981   \n5       NeuralNetFastAI    0.333333   1.000000    accuracy        0.006300   \n6               XGBoost    0.333333   1.000000    accuracy        0.008217   \n7        KNeighborsUnif    0.333333   0.966667    accuracy        0.014822   \n8        KNeighborsDist    0.333333   0.966667    accuracy        0.015171   \n9        ExtraTreesEntr    0.333333   1.000000    accuracy        0.018108   \n10  WeightedEnsemble_L2    0.333333   1.000000    accuracy        0.018870   \n11     RandomForestEntr    0.333333   0.966667    accuracy        0.029346   \n12       ExtraTreesGini    0.333333   1.000000    accuracy        0.029962   \n13     RandomForestGini    0.333333   0.966667    accuracy        0.031907   \n\n    pred_time_val  fit_time  pred_time_test_marginal  pred_time_val_marginal  \\\n0        0.000574  0.193996                 0.000850                0.000574   \n1        0.000728  0.489312                 0.001788                0.000728   \n2        0.000762  1.705988                 0.001936                0.000762   \n3        0.001492  0.222422                 0.002301                0.001492   \n4        0.000839  0.559425                 0.002981                0.000839   \n5        0.003323  0.422933                 0.006300                0.003323   \n6        0.001181  0.179256                 0.008217                0.001181   \n7        0.015451  0.002872                 0.014822                0.015451   \n8        0.013513  0.002712                 0.015171                0.013513   \n9        0.014218  0.195897                 0.018108                0.014218   \n10       0.014449  0.402034                 0.000762                0.000231   \n11       0.013612  0.199914                 0.029346                0.013612   \n12       0.013501  0.205380                 0.029962                0.013501   \n13       0.013673  0.200143                 0.031907                0.013673   \n\n    fit_time_marginal  stack_level  can_infer  fit_order  \n0            0.193996            1       True          8  \n1            0.489312            1       True          5  \n2            1.705988            1       True         13  \n3            0.222422            1       True         12  \n4            0.559425            1       True          4  \n5            0.422933            1       True          3  \n6            0.179256            1       True         11  \n7            0.002872            1       True          1  \n8            0.002712            1       True          2  \n9            0.195897            1       True         10  \n10           0.206137            2       True         14  \n11           0.199914            1       True          7  \n12           0.205380            1       True          9  \n13           0.200143            1       True          6  ",
      "text/html": "<div>\n<style scoped>\n    .dataframe tbody tr th:only-of-type {\n        vertical-align: middle;\n    }\n\n    .dataframe tbody tr th {\n        vertical-align: top;\n    }\n\n    .dataframe thead th {\n        text-align: right;\n    }\n</style>\n<table border=\"1\" class=\"dataframe\">\n  <thead>\n    <tr style=\"text-align: right;\">\n      <th></th>\n      <th>model</th>\n      <th>score_test</th>\n      <th>score_val</th>\n      <th>eval_metric</th>\n      <th>pred_time_test</th>\n      <th>pred_time_val</th>\n      <th>fit_time</th>\n      <th>pred_time_test_marginal</th>\n      <th>pred_time_val_marginal</th>\n      <th>fit_time_marginal</th>\n      <th>stack_level</th>\n      <th>can_infer</th>\n      <th>fit_order</th>\n    </tr>\n  </thead>\n  <tbody>\n    <tr>\n      <th>0</th>\n      <td>CatBoost</td>\n      <td>0.333333</td>\n      <td>0.966667</td>\n      <td>accuracy</td>\n      <td>0.000850</td>\n      <td>0.000574</td>\n      <td>0.193996</td>\n      <td>0.000850</td>\n      <td>0.000574</td>\n      <td>0.193996</td>\n      <td>1</td>\n      <td>True</td>\n      <td>8</td>\n    </tr>\n    <tr>\n      <th>1</th>\n      <td>LightGBM</td>\n      <td>0.333333</td>\n      <td>1.000000</td>\n      <td>accuracy</td>\n      <td>0.001788</td>\n      <td>0.000728</td>\n      <td>0.489312</td>\n      <td>0.001788</td>\n      <td>0.000728</td>\n      <td>0.489312</td>\n      <td>1</td>\n      <td>True</td>\n      <td>5</td>\n    </tr>\n    <tr>\n      <th>2</th>\n      <td>LightGBMLarge</td>\n      <td>0.333333</td>\n      <td>1.000000</td>\n      <td>accuracy</td>\n      <td>0.001936</td>\n      <td>0.000762</td>\n      <td>1.705988</td>\n      <td>0.001936</td>\n      <td>0.000762</td>\n      <td>1.705988</td>\n      <td>1</td>\n      <td>True</td>\n      <td>13</td>\n    </tr>\n    <tr>\n      <th>3</th>\n      <td>NeuralNetTorch</td>\n      <td>0.333333</td>\n      <td>1.000000</td>\n      <td>accuracy</td>\n      <td>0.002301</td>\n      <td>0.001492</td>\n      <td>0.222422</td>\n      <td>0.002301</td>\n      <td>0.001492</td>\n      <td>0.222422</td>\n      <td>1</td>\n      <td>True</td>\n      <td>12</td>\n    </tr>\n    <tr>\n      <th>4</th>\n      <td>LightGBMXT</td>\n      <td>0.333333</td>\n      <td>1.000000</td>\n      <td>accuracy</td>\n      <td>0.002981</td>\n      <td>0.000839</td>\n      <td>0.559425</td>\n      <td>0.002981</td>\n      <td>0.000839</td>\n      <td>0.559425</td>\n      <td>1</td>\n      <td>True</td>\n      <td>4</td>\n    </tr>\n    <tr>\n      <th>5</th>\n      <td>NeuralNetFastAI</td>\n      <td>0.333333</td>\n      <td>1.000000</td>\n      <td>accuracy</td>\n      <td>0.006300</td>\n      <td>0.003323</td>\n      <td>0.422933</td>\n      <td>0.006300</td>\n      <td>0.003323</td>\n      <td>0.422933</td>\n      <td>1</td>\n      <td>True</td>\n      <td>3</td>\n    </tr>\n    <tr>\n      <th>6</th>\n      <td>XGBoost</td>\n      <td>0.333333</td>\n      <td>1.000000</td>\n      <td>accuracy</td>\n      <td>0.008217</td>\n      <td>0.001181</td>\n      <td>0.179256</td>\n      <td>0.008217</td>\n      <td>0.001181</td>\n      <td>0.179256</td>\n      <td>1</td>\n      <td>True</td>\n      <td>11</td>\n    </tr>\n    <tr>\n      <th>7</th>\n      <td>KNeighborsUnif</td>\n      <td>0.333333</td>\n      <td>0.966667</td>\n      <td>accuracy</td>\n      <td>0.014822</td>\n      <td>0.015451</td>\n      <td>0.002872</td>\n      <td>0.014822</td>\n      <td>0.015451</td>\n      <td>0.002872</td>\n      <td>1</td>\n      <td>True</td>\n      <td>1</td>\n    </tr>\n    <tr>\n      <th>8</th>\n      <td>KNeighborsDist</td>\n      <td>0.333333</td>\n      <td>0.966667</td>\n      <td>accuracy</td>\n      <td>0.015171</td>\n      <td>0.013513</td>\n      <td>0.002712</td>\n      <td>0.015171</td>\n      <td>0.013513</td>\n      <td>0.002712</td>\n      <td>1</td>\n      <td>True</td>\n      <td>2</td>\n    </tr>\n    <tr>\n      <th>9</th>\n      <td>ExtraTreesEntr</td>\n      <td>0.333333</td>\n      <td>1.000000</td>\n      <td>accuracy</td>\n      <td>0.018108</td>\n      <td>0.014218</td>\n      <td>0.195897</td>\n      <td>0.018108</td>\n      <td>0.014218</td>\n      <td>0.195897</td>\n      <td>1</td>\n      <td>True</td>\n      <td>10</td>\n    </tr>\n    <tr>\n      <th>10</th>\n      <td>WeightedEnsemble_L2</td>\n      <td>0.333333</td>\n      <td>1.000000</td>\n      <td>accuracy</td>\n      <td>0.018870</td>\n      <td>0.014449</td>\n      <td>0.402034</td>\n      <td>0.000762</td>\n      <td>0.000231</td>\n      <td>0.206137</td>\n      <td>2</td>\n      <td>True</td>\n      <td>14</td>\n    </tr>\n    <tr>\n      <th>11</th>\n      <td>RandomForestEntr</td>\n      <td>0.333333</td>\n      <td>0.966667</td>\n      <td>accuracy</td>\n      <td>0.029346</td>\n      <td>0.013612</td>\n      <td>0.199914</td>\n      <td>0.029346</td>\n      <td>0.013612</td>\n      <td>0.199914</td>\n      <td>1</td>\n      <td>True</td>\n      <td>7</td>\n    </tr>\n    <tr>\n      <th>12</th>\n      <td>ExtraTreesGini</td>\n      <td>0.333333</td>\n      <td>1.000000</td>\n      <td>accuracy</td>\n      <td>0.029962</td>\n      <td>0.013501</td>\n      <td>0.205380</td>\n      <td>0.029962</td>\n      <td>0.013501</td>\n      <td>0.205380</td>\n      <td>1</td>\n      <td>True</td>\n      <td>9</td>\n    </tr>\n    <tr>\n      <th>13</th>\n      <td>RandomForestGini</td>\n      <td>0.333333</td>\n      <td>0.966667</td>\n      <td>accuracy</td>\n      <td>0.031907</td>\n      <td>0.013673</td>\n      <td>0.200143</td>\n      <td>0.031907</td>\n      <td>0.013673</td>\n      <td>0.200143</td>\n      <td>1</td>\n      <td>True</td>\n      <td>6</td>\n    </tr>\n  </tbody>\n</table>\n</div>"
     },
     "execution_count": 30,
     "metadata": {},
     "output_type": "execute_result"
    }
   ],
   "source": [
    "predictor.leaderboard(test_data)"
   ],
   "metadata": {
    "collapsed": false,
    "ExecuteTime": {
     "end_time": "2024-02-09T13:40:24.431978Z",
     "start_time": "2024-02-09T13:40:24.244995Z"
    }
   },
   "id": "9819ad6970702f1f",
   "execution_count": 30
  }
 ],
 "metadata": {
  "kernelspec": {
   "display_name": "Python 3",
   "language": "python",
   "name": "python3"
  },
  "language_info": {
   "codemirror_mode": {
    "name": "ipython",
    "version": 2
   },
   "file_extension": ".py",
   "mimetype": "text/x-python",
   "name": "python",
   "nbconvert_exporter": "python",
   "pygments_lexer": "ipython2",
   "version": "2.7.6"
  }
 },
 "nbformat": 4,
 "nbformat_minor": 5
}
